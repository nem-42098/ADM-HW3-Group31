{
 "cells": [
  {
   "cell_type": "code",
   "execution_count": 1,
   "id": "becf980c",
   "metadata": {},
   "outputs": [],
   "source": [
    "import pandas as pd\n",
    "import nltk\n",
    "from nltk import word_tokenize\n",
    "from nltk.corpus import stopwords\n",
    "from nltk.stem.porter import PorterStemmer\n",
    "from nltk import punkt\n",
    "import string\n",
    "from tqdm import tqdm as tq\n",
    "from collections import Counter\n",
    "import math\n",
    "import numpy as np"
   ]
  },
  {
   "cell_type": "code",
   "execution_count": 2,
   "id": "c7e260a0",
   "metadata": {},
   "outputs": [],
   "source": [
    "\n",
    "def preprocess(text):\n",
    "    ### Converting to lowercase\n",
    "    text = text.lower()\n",
    "    \n",
    "    ### Removing Punctuation\n",
    "    text_p = \"\".join([char for char in text if char not in string.punctuation])\n",
    "    \n",
    "    ### Converting strings to tokens of individual words in a complete string\n",
    "    words = word_tokenize(text_p)\n",
    "    \n",
    "    ### Remove Stopwords\n",
    "    stop_words = stopwords.words('english')\n",
    "    filtered_words = [word for word in words if word not in stop_words]\n",
    "    \n",
    "    ### Get the root of the word i.e stemming\n",
    "    porter = PorterStemmer()\n",
    "    stemmed = [porter.stem(word) for word in filtered_words]\n",
    "    \n",
    "    return stemmed\n"
   ]
  },
  {
   "cell_type": "code",
   "execution_count": 3,
   "id": "905666a2",
   "metadata": {},
   "outputs": [],
   "source": [
    "def findquery(query,data,inv,voc):\n",
    "    try:\n",
    "        query_prep=preprocess(query)\n",
    "        query_prep=[voc[i] for i in query_prep]\n",
    "        doc=set(inv[query_prep[0]])\n",
    "        \n",
    "        try:\n",
    "            for i in query_prep[1:]:\n",
    "                doc=doc.intersection(inv[i])\n",
    "        except:\n",
    "            pass\n",
    "        \n",
    "        if doc==set():\n",
    "            print('is not in the dataframe')\n",
    "            return None\n",
    "\n",
    "        return data[data.index.isin(doc)][['placeName','placeDesc','placeURL']]\n",
    "    except:\n",
    "        print('is not in the dataframe')\n",
    "    "
   ]
  },
  {
   "cell_type": "code",
   "execution_count": 10,
   "id": "3083ad3d",
   "metadata": {
    "collapsed": true
   },
   "outputs": [
    {
     "data": {
      "text/html": [
       "<div>\n",
       "<style scoped>\n",
       "    .dataframe tbody tr th:only-of-type {\n",
       "        vertical-align: middle;\n",
       "    }\n",
       "\n",
       "    .dataframe tbody tr th {\n",
       "        vertical-align: top;\n",
       "    }\n",
       "\n",
       "    .dataframe thead th {\n",
       "        text-align: right;\n",
       "    }\n",
       "</style>\n",
       "<table border=\"1\" class=\"dataframe\">\n",
       "  <thead>\n",
       "    <tr style=\"text-align: right;\">\n",
       "      <th></th>\n",
       "      <th>placeName</th>\n",
       "      <th>placeDesc</th>\n",
       "      <th>placeURL</th>\n",
       "    </tr>\n",
       "  </thead>\n",
       "  <tbody>\n",
       "    <tr>\n",
       "      <th>785</th>\n",
       "      <td>A Christmas Story House and Museum</td>\n",
       "      <td>For many Americans, the 1983 film A Christmas ...</td>\n",
       "      <td>https://www.atlasobscura.com/places/a-christma...</td>\n",
       "    </tr>\n",
       "    <tr>\n",
       "      <th>1365</th>\n",
       "      <td>Hatch Show Print</td>\n",
       "      <td>“Advertising without posters is like fishing w...</td>\n",
       "      <td>https://www.atlasobscura.com/places/hatch-show...</td>\n",
       "    </tr>\n",
       "    <tr>\n",
       "      <th>1439</th>\n",
       "      <td>Hicksville Trailer Palace</td>\n",
       "      <td>On Foxy Flats Road inside Joshua Tree, artisti...</td>\n",
       "      <td>https://www.atlasobscura.com/places/hicksville...</td>\n",
       "    </tr>\n",
       "    <tr>\n",
       "      <th>1699</th>\n",
       "      <td>Castle Post</td>\n",
       "      <td>Looking more like an abandoned Medieval Times ...</td>\n",
       "      <td>https://www.atlasobscura.com/places/castle-post</td>\n",
       "    </tr>\n",
       "    <tr>\n",
       "      <th>1703</th>\n",
       "      <td>Sun Studio</td>\n",
       "      <td>Sam Phillips opened the Memphis Recording Serv...</td>\n",
       "      <td>https://www.atlasobscura.com/places/sun-studio</td>\n",
       "    </tr>\n",
       "    <tr>\n",
       "      <th>1782</th>\n",
       "      <td>Indiana Jones Home</td>\n",
       "      <td>In the beginning of the film, Indiana Jones an...</td>\n",
       "      <td>https://www.atlasobscura.com/places/indiana-jo...</td>\n",
       "    </tr>\n",
       "    <tr>\n",
       "      <th>3600</th>\n",
       "      <td>Little Beaver Town</td>\n",
       "      <td>The infamous Red Ryder BB gun from A Christmas...</td>\n",
       "      <td>https://www.atlasobscura.com/places/little-bea...</td>\n",
       "    </tr>\n",
       "    <tr>\n",
       "      <th>4277</th>\n",
       "      <td>Abandoned St. Mary's Asylum</td>\n",
       "      <td>The isolated St. Mary’s Asylum was opened in 1...</td>\n",
       "      <td>https://www.atlasobscura.com/places/st-marys-a...</td>\n",
       "    </tr>\n",
       "    <tr>\n",
       "      <th>5590</th>\n",
       "      <td>Victoria's Last Resort</td>\n",
       "      <td>This B&amp;B is like stepping into your own specia...</td>\n",
       "      <td>https://www.atlasobscura.com/places/victoria-s...</td>\n",
       "    </tr>\n",
       "    <tr>\n",
       "      <th>5743</th>\n",
       "      <td>The Old Gibson Guitar Factory</td>\n",
       "      <td>Although the classic Gibson guitar, used by su...</td>\n",
       "      <td>https://www.atlasobscura.com/places/the-old-gi...</td>\n",
       "    </tr>\n",
       "  </tbody>\n",
       "</table>\n",
       "</div>"
      ],
      "text/plain": [
       "                               placeName  \\\n",
       "785   A Christmas Story House and Museum   \n",
       "1365                    Hatch Show Print   \n",
       "1439           Hicksville Trailer Palace   \n",
       "1699                         Castle Post   \n",
       "1703                          Sun Studio   \n",
       "1782                  Indiana Jones Home   \n",
       "3600                  Little Beaver Town   \n",
       "4277         Abandoned St. Mary's Asylum   \n",
       "5590              Victoria's Last Resort   \n",
       "5743       The Old Gibson Guitar Factory   \n",
       "\n",
       "                                              placeDesc  \\\n",
       "785   For many Americans, the 1983 film A Christmas ...   \n",
       "1365  “Advertising without posters is like fishing w...   \n",
       "1439  On Foxy Flats Road inside Joshua Tree, artisti...   \n",
       "1699  Looking more like an abandoned Medieval Times ...   \n",
       "1703  Sam Phillips opened the Memphis Recording Serv...   \n",
       "1782  In the beginning of the film, Indiana Jones an...   \n",
       "3600  The infamous Red Ryder BB gun from A Christmas...   \n",
       "4277  The isolated St. Mary’s Asylum was opened in 1...   \n",
       "5590  This B&B is like stepping into your own specia...   \n",
       "5743  Although the classic Gibson guitar, used by su...   \n",
       "\n",
       "                                               placeURL  \n",
       "785   https://www.atlasobscura.com/places/a-christma...  \n",
       "1365  https://www.atlasobscura.com/places/hatch-show...  \n",
       "1439  https://www.atlasobscura.com/places/hicksville...  \n",
       "1699    https://www.atlasobscura.com/places/castle-post  \n",
       "1703     https://www.atlasobscura.com/places/sun-studio  \n",
       "1782  https://www.atlasobscura.com/places/indiana-jo...  \n",
       "3600  https://www.atlasobscura.com/places/little-bea...  \n",
       "4277  https://www.atlasobscura.com/places/st-marys-a...  \n",
       "5590  https://www.atlasobscura.com/places/victoria-s...  \n",
       "5743  https://www.atlasobscura.com/places/the-old-gi...  "
      ]
     },
     "execution_count": 10,
     "metadata": {},
     "output_type": "execute_result"
    }
   ],
   "source": [
    "query='bb'\n",
    "findquery(query,data,inv,voc)"
   ]
  },
  {
   "cell_type": "code",
   "execution_count": 36,
   "id": "d57dbcaf",
   "metadata": {},
   "outputs": [],
   "source": [
    "#data=pd.read_csv('final_dataset_2_rm_nan_url.csv')\n",
    "#inv1=pd.read_csv('inv1.csv')\n",
    "vocab=pd.read_csv('vocab.csv')\n",
    "#invtf=pd.read_csv('invtf.csv')"
   ]
  },
  {
   "cell_type": "code",
   "execution_count": 37,
   "id": "42f68b6c",
   "metadata": {},
   "outputs": [],
   "source": [
    "#data=data.drop(['Unnamed: 0'], axis=1)\n",
    "#inv1=inv1.drop(['Unnamed: 0'], axis=1)\n",
    "vocab=vocab.drop(['Unnamed: 0'], axis=1)\n",
    "#invtf=invtf.drop(['Unnamed: 0'], axis=1)"
   ]
  },
  {
   "cell_type": "code",
   "execution_count": 11,
   "id": "d2b6153f",
   "metadata": {
    "collapsed": true
   },
   "outputs": [
    {
     "ename": "TypeError",
     "evalue": "eval() arg 1 must be a string, bytes or code object",
     "output_type": "error",
     "traceback": [
      "\u001b[1;31m---------------------------------------------------------------------------\u001b[0m",
      "\u001b[1;31mTypeError\u001b[0m                                 Traceback (most recent call last)",
      "Input \u001b[1;32mIn [11]\u001b[0m, in \u001b[0;36m<cell line: 1>\u001b[1;34m()\u001b[0m\n\u001b[1;32m----> 1\u001b[0m inv1[\u001b[38;5;124m'\u001b[39m\u001b[38;5;124mdoc\u001b[39m\u001b[38;5;124m'\u001b[39m]\u001b[38;5;241m=\u001b[39m\u001b[38;5;28;43mlist\u001b[39;49m\u001b[43m(\u001b[49m\u001b[38;5;28;43mmap\u001b[39;49m\u001b[43m(\u001b[49m\u001b[38;5;28;43meval\u001b[39;49m\u001b[43m,\u001b[49m\u001b[43minv1\u001b[49m\u001b[43m[\u001b[49m\u001b[38;5;124;43m'\u001b[39;49m\u001b[38;5;124;43mdoc\u001b[39;49m\u001b[38;5;124;43m'\u001b[39;49m\u001b[43m]\u001b[49m\u001b[43m)\u001b[49m\u001b[43m)\u001b[49m\n\u001b[0;32m      2\u001b[0m invtf[\u001b[38;5;124m'\u001b[39m\u001b[38;5;124mdoc\u001b[39m\u001b[38;5;124m'\u001b[39m]\u001b[38;5;241m=\u001b[39m\u001b[38;5;28mlist\u001b[39m(\u001b[38;5;28mmap\u001b[39m(\u001b[38;5;28meval\u001b[39m,invtf[\u001b[38;5;124m'\u001b[39m\u001b[38;5;124mdoc\u001b[39m\u001b[38;5;124m'\u001b[39m]))\n\u001b[0;32m      3\u001b[0m vocab[\u001b[38;5;124m'\u001b[39m\u001b[38;5;124mN/n\u001b[39m\u001b[38;5;124m'\u001b[39m]\u001b[38;5;241m=\u001b[39m\u001b[38;5;28mlist\u001b[39m(\u001b[38;5;28mmap\u001b[39m(np\u001b[38;5;241m.\u001b[39mlog,vocab[\u001b[38;5;124m'\u001b[39m\u001b[38;5;124mN/n\u001b[39m\u001b[38;5;124m'\u001b[39m]\u001b[38;5;241m.\u001b[39mvalues))\n",
      "\u001b[1;31mTypeError\u001b[0m: eval() arg 1 must be a string, bytes or code object"
     ]
    }
   ],
   "source": [
    "inv1['doc']=list(map(eval,inv1['doc']))\n",
    "invtf['doc']=list(map(eval,invtf['doc']))\n",
    "#vocab['N/n']=list(map(np.log,vocab['N/n'].values))\n",
    "voc = dict(vocab[['word','ind']].values)\n",
    "inv =  dict(inv1.values)\n",
    "invtfvoc= dict(invtf.values)"
   ]
  },
  {
   "cell_type": "code",
   "execution_count": 337,
   "id": "58cd3af0",
   "metadata": {},
   "outputs": [],
   "source": [
    "def tfidf(w,preplist,ind):\n",
    "    return list((preplist.count(w))/len(preplist)*ind)[0]"
   ]
  },
  {
   "cell_type": "code",
   "execution_count": 336,
   "id": "1615f07d",
   "metadata": {},
   "outputs": [
    {
     "data": {
      "text/plain": [
       "4"
      ]
     },
     "execution_count": 336,
     "metadata": {},
     "output_type": "execute_result"
    }
   ],
   "source": [
    "a=[1,1,2,3,1,1]\n",
    "a.count(1)"
   ]
  },
  {
   "cell_type": "code",
   "execution_count": 13,
   "id": "d87c9d95",
   "metadata": {
    "collapsed": true
   },
   "outputs": [
    {
     "name": "stderr",
     "output_type": "stream",
     "text": [
      "0it [00:00, ?it/s]\n"
     ]
    },
    {
     "ename": "NameError",
     "evalue": "name 'data_des' is not defined",
     "output_type": "error",
     "traceback": [
      "\u001b[1;31m---------------------------------------------------------------------------\u001b[0m",
      "\u001b[1;31mNameError\u001b[0m                                 Traceback (most recent call last)",
      "Input \u001b[1;32mIn [13]\u001b[0m, in \u001b[0;36m<cell line: 6>\u001b[1;34m()\u001b[0m\n\u001b[0;32m      8\u001b[0m inv2[i]\u001b[38;5;241m=\u001b[39m{}\n\u001b[0;32m      9\u001b[0m \u001b[38;5;28;01mfor\u001b[39;00m t \u001b[38;5;129;01min\u001b[39;00m j:\n\u001b[1;32m---> 10\u001b[0m     datas\u001b[38;5;241m=\u001b[39m\u001b[43mdata_des\u001b[49m[data_des[\u001b[38;5;124m'\u001b[39m\u001b[38;5;124mind\u001b[39m\u001b[38;5;124m'\u001b[39m]\u001b[38;5;241m==\u001b[39mt][\u001b[38;5;124m'\u001b[39m\u001b[38;5;124mprep\u001b[39m\u001b[38;5;124m'\u001b[39m]\u001b[38;5;241m.\u001b[39mvalues\u001b[38;5;241m.\u001b[39mtolist()[\u001b[38;5;241m0\u001b[39m]\n\u001b[0;32m     11\u001b[0m     inv2[i][t]\u001b[38;5;241m=\u001b[39mtfidf(w,datas,vocab[\u001b[38;5;124m'\u001b[39m\u001b[38;5;124mN/n\u001b[39m\u001b[38;5;124m'\u001b[39m][i])\n",
      "\u001b[1;31mNameError\u001b[0m: name 'data_des' is not defined"
     ]
    }
   ],
   "source": [
    "#### invtf generator\n",
    "from tqdm import tqdm\n",
    "import numpy as np\n",
    "inv2={}\n",
    "key=vocab['word']\n",
    "for i,j in tqdm(zip(inv1['ind'],inv1['doc'])):\n",
    "    w=key[int(i)]   \n",
    "    inv2[i]={}\n",
    "    for t in j:\n",
    "        datas=data_des[data_des['ind']==t]['prep'].values.tolist()[0]\n",
    "        inv2[i][t]=tfidf(w,datas,vocab['N/n'][i])"
   ]
  },
  {
   "cell_type": "code",
   "execution_count": null,
   "id": "cf7d0095",
   "metadata": {},
   "outputs": [],
   "source": [
    "#inv1=pd.DataFrame()\n",
    "#inv1['ind']=inv2.keys()\n",
    "#inv1['doc']=inv2.values()\n",
    "#inv1.to_csv('invtf.csv')"
   ]
  },
  {
   "cell_type": "code",
   "execution_count": 252,
   "id": "0f8e6b2e",
   "metadata": {},
   "outputs": [],
   "source": [
    "mat= np.zeros((len(voc),7200))\n",
    "for i in range(len(voc)):\n",
    "    mat[i,list(invtfvoc[i].keys())]=list(invtfvoc[i].values())"
   ]
  },
  {
   "cell_type": "code",
   "execution_count": 340,
   "id": "7cbe6448",
   "metadata": {},
   "outputs": [],
   "source": [
    "def cosine(query,data,inv,vocab,voc,mat):\n",
    "    query_prep=preprocess(query)\n",
    "    \n",
    "    query_list=[]\n",
    "    query_val=[]\n",
    "    for i in query_prep:\n",
    "        if voc[i] not in query_list:\n",
    "            query_list.append(voc[i])\n",
    "            query_val.append(tfidf(i,query_prep,vocab[vocab['word']==i]['N/n']))\n",
    "        \n",
    "    datas = findquery(' '.join(query_prep),data,inv,voc)\n",
    "    indexfind=list(datas.index)\n",
    "\n",
    "    datas['Similarity']=[np.sum(query_val*mat[query_list,i])/(np.linalg.norm(query_val)*np.linalg.norm(mat[query_list,i])) for i in indexfind]\n",
    "    \n",
    "    return datas.sort_values(by=['Similarity'], ascending=False)  "
   ]
  },
  {
   "cell_type": "code",
   "execution_count": 345,
   "id": "449e18bf",
   "metadata": {},
   "outputs": [
    {
     "name": "stdout",
     "output_type": "stream",
     "text": [
      "[1.0766038459597225, 0.7883240448055548]\n",
      "1.3343652576239595\n"
     ]
    },
    {
     "data": {
      "text/html": [
       "<div>\n",
       "<style scoped>\n",
       "    .dataframe tbody tr th:only-of-type {\n",
       "        vertical-align: middle;\n",
       "    }\n",
       "\n",
       "    .dataframe tbody tr th {\n",
       "        vertical-align: top;\n",
       "    }\n",
       "\n",
       "    .dataframe thead th {\n",
       "        text-align: right;\n",
       "    }\n",
       "</style>\n",
       "<table border=\"1\" class=\"dataframe\">\n",
       "  <thead>\n",
       "    <tr style=\"text-align: right;\">\n",
       "      <th></th>\n",
       "      <th>placeName</th>\n",
       "      <th>placeDesc</th>\n",
       "      <th>placeURL</th>\n",
       "      <th>Similarity</th>\n",
       "    </tr>\n",
       "  </thead>\n",
       "  <tbody>\n",
       "    <tr>\n",
       "      <th>5317</th>\n",
       "      <td>Smithsonian Sushi Collection</td>\n",
       "      <td>The American History Museum has collected an a...</td>\n",
       "      <td>https://www.atlasobscura.com/places/smithsonia...</td>\n",
       "      <td>0.999296</td>\n",
       "    </tr>\n",
       "    <tr>\n",
       "      <th>3961</th>\n",
       "      <td>Tamástslikt Cultural Institute</td>\n",
       "      <td>The Tamástslikt Cultural Institute, situated o...</td>\n",
       "      <td>https://www.atlasobscura.com/places/tamastslik...</td>\n",
       "      <td>0.995444</td>\n",
       "    </tr>\n",
       "    <tr>\n",
       "      <th>1123</th>\n",
       "      <td>Mercer Museum and Fonthill Castle</td>\n",
       "      <td>Henry Chapman Mercer, a renowned archaeologist...</td>\n",
       "      <td>https://www.atlasobscura.com/places/fonthill</td>\n",
       "      <td>0.995444</td>\n",
       "    </tr>\n",
       "    <tr>\n",
       "      <th>887</th>\n",
       "      <td>Oak Ridge \"The Secret City\"</td>\n",
       "      <td>The city of Oak Ridge was established by the U...</td>\n",
       "      <td>https://www.atlasobscura.com/places/the-secret...</td>\n",
       "      <td>0.995444</td>\n",
       "    </tr>\n",
       "    <tr>\n",
       "      <th>1962</th>\n",
       "      <td>Off the Rez Cafe</td>\n",
       "      <td>The U.S. government’s forced relocation of Nat...</td>\n",
       "      <td>https://www.atlasobscura.com/places/off-the-re...</td>\n",
       "      <td>0.995444</td>\n",
       "    </tr>\n",
       "    <tr>\n",
       "      <th>...</th>\n",
       "      <td>...</td>\n",
       "      <td>...</td>\n",
       "      <td>...</td>\n",
       "      <td>...</td>\n",
       "    </tr>\n",
       "    <tr>\n",
       "      <th>4968</th>\n",
       "      <td>Oscar Getz Museum of Whiskey History</td>\n",
       "      <td>If there is a place on earth that knows its wh...</td>\n",
       "      <td>https://www.atlasobscura.com/places/oscar-getz...</td>\n",
       "      <td>0.744352</td>\n",
       "    </tr>\n",
       "    <tr>\n",
       "      <th>1892</th>\n",
       "      <td>National World War II Museum</td>\n",
       "      <td>Perhaps once thought too narrowly focused, thi...</td>\n",
       "      <td>https://www.atlasobscura.com/places/national-w...</td>\n",
       "      <td>0.729136</td>\n",
       "    </tr>\n",
       "    <tr>\n",
       "      <th>1781</th>\n",
       "      <td>National Cryptologic Museum</td>\n",
       "      <td>Update as of October 2021: Currently closed fo...</td>\n",
       "      <td>https://www.atlasobscura.com/places/national-c...</td>\n",
       "      <td>0.729136</td>\n",
       "    </tr>\n",
       "    <tr>\n",
       "      <th>1206</th>\n",
       "      <td>Harvard Museum of Natural History</td>\n",
       "      <td>Collecting three different institutions into o...</td>\n",
       "      <td>https://www.atlasobscura.com/places/harvard-mu...</td>\n",
       "      <td>0.716601</td>\n",
       "    </tr>\n",
       "    <tr>\n",
       "      <th>6202</th>\n",
       "      <td>Siriraj Medical Museum</td>\n",
       "      <td>The Siriraj Medical Museum abounds with medica...</td>\n",
       "      <td>https://www.atlasobscura.com/places/siriraj-me...</td>\n",
       "      <td>0.689568</td>\n",
       "    </tr>\n",
       "  </tbody>\n",
       "</table>\n",
       "<p>244 rows × 4 columns</p>\n",
       "</div>"
      ],
      "text/plain": [
       "                                 placeName  \\\n",
       "5317          Smithsonian Sushi Collection   \n",
       "3961        Tamástslikt Cultural Institute   \n",
       "1123     Mercer Museum and Fonthill Castle   \n",
       "887            Oak Ridge \"The Secret City\"   \n",
       "1962                      Off the Rez Cafe   \n",
       "...                                    ...   \n",
       "4968  Oscar Getz Museum of Whiskey History   \n",
       "1892          National World War II Museum   \n",
       "1781           National Cryptologic Museum   \n",
       "1206     Harvard Museum of Natural History   \n",
       "6202                Siriraj Medical Museum   \n",
       "\n",
       "                                              placeDesc  \\\n",
       "5317  The American History Museum has collected an a...   \n",
       "3961  The Tamástslikt Cultural Institute, situated o...   \n",
       "1123  Henry Chapman Mercer, a renowned archaeologist...   \n",
       "887   The city of Oak Ridge was established by the U...   \n",
       "1962  The U.S. government’s forced relocation of Nat...   \n",
       "...                                                 ...   \n",
       "4968  If there is a place on earth that knows its wh...   \n",
       "1892  Perhaps once thought too narrowly focused, thi...   \n",
       "1781  Update as of October 2021: Currently closed fo...   \n",
       "1206  Collecting three different institutions into o...   \n",
       "6202  The Siriraj Medical Museum abounds with medica...   \n",
       "\n",
       "                                               placeURL  Similarity  \n",
       "5317  https://www.atlasobscura.com/places/smithsonia...    0.999296  \n",
       "3961  https://www.atlasobscura.com/places/tamastslik...    0.995444  \n",
       "1123       https://www.atlasobscura.com/places/fonthill    0.995444  \n",
       "887   https://www.atlasobscura.com/places/the-secret...    0.995444  \n",
       "1962  https://www.atlasobscura.com/places/off-the-re...    0.995444  \n",
       "...                                                 ...         ...  \n",
       "4968  https://www.atlasobscura.com/places/oscar-getz...    0.744352  \n",
       "1892  https://www.atlasobscura.com/places/national-w...    0.729136  \n",
       "1781  https://www.atlasobscura.com/places/national-c...    0.729136  \n",
       "1206  https://www.atlasobscura.com/places/harvard-mu...    0.716601  \n",
       "6202  https://www.atlasobscura.com/places/siriraj-me...    0.689568  \n",
       "\n",
       "[244 rows x 4 columns]"
      ]
     },
     "execution_count": 345,
     "metadata": {},
     "output_type": "execute_result"
    }
   ],
   "source": [
    "query='american museum'\n",
    "cosine(query,data,inv,vocab,voc,mat)"
   ]
  }
 ],
 "metadata": {
  "kernelspec": {
   "display_name": "Python 3 (ipykernel)",
   "language": "python",
   "name": "python3"
  },
  "language_info": {
   "codemirror_mode": {
    "name": "ipython",
    "version": 3
   },
   "file_extension": ".py",
   "mimetype": "text/x-python",
   "name": "python",
   "nbconvert_exporter": "python",
   "pygments_lexer": "ipython3",
   "version": "3.9.12"
  }
 },
 "nbformat": 4,
 "nbformat_minor": 5
}
