{
 "cells": [
  {
   "cell_type": "code",
   "execution_count": 3,
   "id": "becf980c",
   "metadata": {},
   "outputs": [],
   "source": [
    "import pandas as pd\n",
    "import nltk\n",
    "from nltk import word_tokenize\n",
    "from nltk.corpus import stopwords\n",
    "from nltk.stem.porter import PorterStemmer\n",
    "from nltk import punkt\n",
    "import string\n",
    "from tqdm import tqdm as tq\n",
    "from collections import Counter\n",
    "import math\n",
    "import numpy as np"
   ]
  },
  {
   "cell_type": "code",
   "execution_count": 4,
   "id": "c7e260a0",
   "metadata": {},
   "outputs": [],
   "source": [
    "\n",
    "def preprocess(text):\n",
    "    ### Converting to lowercase\n",
    "    text = text.lower()\n",
    "    \n",
    "    ### Removing Punctuation\n",
    "    text_p = \"\".join([char for char in text if char not in string.punctuation])\n",
    "    \n",
    "    ### Converting strings to tokens of individual words in a complete string\n",
    "    words = word_tokenize(text_p)\n",
    "    \n",
    "    ### Remove Stopwords\n",
    "    stop_words = stopwords.words('english')\n",
    "    filtered_words = [word for word in words if word not in stop_words]\n",
    "    \n",
    "    ### Get the root of the word i.e stemming\n",
    "    porter = PorterStemmer()\n",
    "    stemmed = [porter.stem(word) for word in filtered_words]\n",
    "    \n",
    "    return stemmed\n"
   ]
  },
  {
   "cell_type": "code",
   "execution_count": 13,
   "id": "905666a2",
   "metadata": {},
   "outputs": [],
   "source": [
    "def findquery(query,data,inv,voc):\n",
    "    try:\n",
    "        query_prep=preprocess(query)\n",
    "        query_prep=[voc[i] for i in query_prep]\n",
    "        doc=set(inv[query_prep[0]])\n",
    "        \n",
    "        try:\n",
    "            for i in query_prep[1:]:\n",
    "                doc=doc.intersection(inv[i])\n",
    "        except:\n",
    "            pass\n",
    "        \n",
    "        if doc==set():\n",
    "            print('is not in the dataframe')\n",
    "            return None\n",
    "\n",
    "        return data[data.index.isin(doc)]\n",
    "    except:\n",
    "        print('is not in the dataframe')\n",
    "    "
   ]
  },
  {
   "cell_type": "code",
   "execution_count": 14,
   "id": "3083ad3d",
   "metadata": {},
   "outputs": [
    {
     "data": {
      "text/html": [
       "<div>\n",
       "<style scoped>\n",
       "    .dataframe tbody tr th:only-of-type {\n",
       "        vertical-align: middle;\n",
       "    }\n",
       "\n",
       "    .dataframe tbody tr th {\n",
       "        vertical-align: top;\n",
       "    }\n",
       "\n",
       "    .dataframe thead th {\n",
       "        text-align: right;\n",
       "    }\n",
       "</style>\n",
       "<table border=\"1\" class=\"dataframe\">\n",
       "  <thead>\n",
       "    <tr style=\"text-align: right;\">\n",
       "      <th></th>\n",
       "      <th>placeName</th>\n",
       "      <th>placeTags</th>\n",
       "      <th>numPeopleVisited</th>\n",
       "      <th>numPeopleWant</th>\n",
       "      <th>placeDesc</th>\n",
       "      <th>placeShortDesc</th>\n",
       "      <th>placeNearby</th>\n",
       "      <th>placeAddress</th>\n",
       "      <th>placeAlt</th>\n",
       "      <th>placeLong</th>\n",
       "      <th>placeEditors</th>\n",
       "      <th>placePubDate</th>\n",
       "      <th>placeRelatedLists</th>\n",
       "      <th>placeRelatedPlaces</th>\n",
       "      <th>placeURL</th>\n",
       "    </tr>\n",
       "  </thead>\n",
       "  <tbody>\n",
       "    <tr>\n",
       "      <th>59</th>\n",
       "      <td>The Witch House of Salem</td>\n",
       "      <td>Salem, Massachusetts</td>\n",
       "      <td>3161.0</td>\n",
       "      <td>3957.0</td>\n",
       "      <td>The Salem witchcraft trials took place between...</td>\n",
       "      <td>The Witch House of Salem,Salem, Massachusetts,...</td>\n",
       "      <td>['Joshua Ward House', 'Statue of Elizabeth Mon...</td>\n",
       "      <td>310 1/2 Essex StreetSalem, Massachusetts, 0197...</td>\n",
       "      <td>42.5215</td>\n",
       "      <td>-70.8989</td>\n",
       "      <td>['aniashaclay', 'littleredinfiniti', 'cait7911...</td>\n",
       "      <td>June 25, 2009</td>\n",
       "      <td>[\"The World's Top 100 Wonders in 2018\"]</td>\n",
       "      <td>['The Black Castle', 'Salem Village Parsonage'...</td>\n",
       "      <td>https://www.atlasobscura.com/places/witch-hous...</td>\n",
       "    </tr>\n",
       "    <tr>\n",
       "      <th>141</th>\n",
       "      <td>Museum of the Weird</td>\n",
       "      <td>Austin, Texas</td>\n",
       "      <td>1011.0</td>\n",
       "      <td>2956.0</td>\n",
       "      <td>The dime or dime store museum is by all accoun...</td>\n",
       "      <td>Museum of the Weird,Austin, Texas, Continuing ...</td>\n",
       "      <td>['Frost Bank Tower', 'Austin Moonlight Towers'...</td>\n",
       "      <td>Museum of the Weird412 E 6th St.Austin, Texas,...</td>\n",
       "      <td>30.2670</td>\n",
       "      <td>-97.7387</td>\n",
       "      <td>['TheAmazingFace', 'RaspberryLion', 'knoxium',...</td>\n",
       "      <td>April 6, 2011</td>\n",
       "      <td>NaN</td>\n",
       "      <td>NaN</td>\n",
       "      <td>https://www.atlasobscura.com/places/museum-weird</td>\n",
       "    </tr>\n",
       "    <tr>\n",
       "      <th>173</th>\n",
       "      <td>National Atomic Testing Museum</td>\n",
       "      <td>Las Vegas, Nevada</td>\n",
       "      <td>1093.0</td>\n",
       "      <td>2796.0</td>\n",
       "      <td>Las Vegas is an oasis in the desert where no o...</td>\n",
       "      <td>National Atomic Testing Museum,Las Vegas, Neva...</td>\n",
       "      <td>['High Roller', 'Bugsy Siegel Monument', 'Flam...</td>\n",
       "      <td>755 E Flamingo RdLas Vegas, Nevada, 89119Unite...</td>\n",
       "      <td>36.1141</td>\n",
       "      <td>-115.1484</td>\n",
       "      <td>['Taterchips', 'paigeelizabeth3660', 'dlc31723...</td>\n",
       "      <td>March 25, 2013</td>\n",
       "      <td>['17 Hidden Las Vegas Spots It Would Be a Sin ...</td>\n",
       "      <td>['Titan Missile Museum', 'Museum Uranbergbau',...</td>\n",
       "      <td>https://www.atlasobscura.com/places/national-a...</td>\n",
       "    </tr>\n",
       "    <tr>\n",
       "      <th>224</th>\n",
       "      <td>Canyons of the Ancients</td>\n",
       "      <td>Dolores, Colorado</td>\n",
       "      <td>447.0</td>\n",
       "      <td>2541.0</td>\n",
       "      <td>Ripe for quiet reflection and simply awe-inspi...</td>\n",
       "      <td>Canyons of the Ancients,Dolores, Colorado, A b...</td>\n",
       "      <td>['Mesa Verde National Park', 'Ute Mountain Tri...</td>\n",
       "      <td>27501 CO-184Mesa VerdeDolores, Colorado, 81323...</td>\n",
       "      <td>37.4763</td>\n",
       "      <td>-108.5459</td>\n",
       "      <td>[]</td>\n",
       "      <td>January 21, 2013</td>\n",
       "      <td>['18 Places in Colorado to Discover Local Cult...</td>\n",
       "      <td>['Acacus Mountains', 'Japanese War Cemetery an...</td>\n",
       "      <td>https://www.atlasobscura.com/places/canyons-of...</td>\n",
       "    </tr>\n",
       "    <tr>\n",
       "      <th>320</th>\n",
       "      <td>The Natural Bridge</td>\n",
       "      <td>Natural Bridge, Virginia</td>\n",
       "      <td>1719.0</td>\n",
       "      <td>2262.0</td>\n",
       "      <td>Often cited as having a place among the great ...</td>\n",
       "      <td>The Natural Bridge,Natural Bridge, Virginia, A...</td>\n",
       "      <td>['Hidden J.R.R. Tolkien Quote', 'Traveller’s F...</td>\n",
       "      <td>15 Appledore LaneNatural Bridge, Virginia, 245...</td>\n",
       "      <td>37.6282</td>\n",
       "      <td>-79.5447</td>\n",
       "      <td>['shylilturtle', 'plt4000', 'kjill99', 'lendog...</td>\n",
       "      <td>July 4, 2010</td>\n",
       "      <td>['The Most Wondrous State Parks to Visit Durin...</td>\n",
       "      <td>['Cueva Clara', '100,000 Soldiers of Trabuc Ca...</td>\n",
       "      <td>https://www.atlasobscura.com/places/the-natura...</td>\n",
       "    </tr>\n",
       "    <tr>\n",
       "      <th>...</th>\n",
       "      <td>...</td>\n",
       "      <td>...</td>\n",
       "      <td>...</td>\n",
       "      <td>...</td>\n",
       "      <td>...</td>\n",
       "      <td>...</td>\n",
       "      <td>...</td>\n",
       "      <td>...</td>\n",
       "      <td>...</td>\n",
       "      <td>...</td>\n",
       "      <td>...</td>\n",
       "      <td>...</td>\n",
       "      <td>...</td>\n",
       "      <td>...</td>\n",
       "      <td>...</td>\n",
       "    </tr>\n",
       "    <tr>\n",
       "      <th>7064</th>\n",
       "      <td>Wilbur D. May Museum</td>\n",
       "      <td>Reno, Nevada</td>\n",
       "      <td>131.0</td>\n",
       "      <td>411.0</td>\n",
       "      <td>There is only one place in Nevada where you wi...</td>\n",
       "      <td>Wilbur D. May Museum,Reno, Nevada, An eccentri...</td>\n",
       "      <td>[\"'Jackson'\", 'National Bowling Stadium', 'Top...</td>\n",
       "      <td>1595 N Sierra StReno, NevadaUnited States</td>\n",
       "      <td>39.5457</td>\n",
       "      <td>-119.8240</td>\n",
       "      <td>[]</td>\n",
       "      <td>January 17, 2017</td>\n",
       "      <td>NaN</td>\n",
       "      <td>NaN</td>\n",
       "      <td>https://www.atlasobscura.com/places/wilbur-d-m...</td>\n",
       "    </tr>\n",
       "    <tr>\n",
       "      <th>7105</th>\n",
       "      <td>The Liberty Bell Hiding Place</td>\n",
       "      <td>Allentown, Pennsylvania</td>\n",
       "      <td>146.0</td>\n",
       "      <td>409.0</td>\n",
       "      <td>In September of 1777, the British defeated Geo...</td>\n",
       "      <td>The Liberty Bell Hiding Place,Allentown, Penns...</td>\n",
       "      <td>['Abandoned Thomas Iron Ruins', \"Leonardo's Ho...</td>\n",
       "      <td>622 Hamilton StAllentown, PennsylvaniaUnited S...</td>\n",
       "      <td>40.6023</td>\n",
       "      <td>-75.4704</td>\n",
       "      <td>[]</td>\n",
       "      <td>February 16, 2017</td>\n",
       "      <td>NaN</td>\n",
       "      <td>NaN</td>\n",
       "      <td>https://www.atlasobscura.com/places/liberty-be...</td>\n",
       "    </tr>\n",
       "    <tr>\n",
       "      <th>7147</th>\n",
       "      <td>American Computer Museum</td>\n",
       "      <td>Bozeman, Montana</td>\n",
       "      <td>124.0</td>\n",
       "      <td>408.0</td>\n",
       "      <td>“To collect, preserve, interpret, and display ...</td>\n",
       "      <td>American Computer Museum,Bozeman, Montana, See...</td>\n",
       "      <td>['Madison Buffalo Jump State Park', 'Bleu Hors...</td>\n",
       "      <td>2023 Stadium DrSuite 1ABozeman, Montana, 59715...</td>\n",
       "      <td>45.6590</td>\n",
       "      <td>-111.0548</td>\n",
       "      <td>[]</td>\n",
       "      <td>January 30, 2010</td>\n",
       "      <td>['A Road Trip Through the Constantly Evolving ...</td>\n",
       "      <td>['Computer History Museum', 'Silverball Museum...</td>\n",
       "      <td>https://www.atlasobscura.com/places/american-c...</td>\n",
       "    </tr>\n",
       "    <tr>\n",
       "      <th>7154</th>\n",
       "      <td>Akin Free Library</td>\n",
       "      <td>Pawling, New York</td>\n",
       "      <td>41.0</td>\n",
       "      <td>407.0</td>\n",
       "      <td>The Akin Free Library, a gracious stone struct...</td>\n",
       "      <td>Akin Free Library,Pawling, New York, The attic...</td>\n",
       "      <td>[\"Rainbow's End Butterfly Farm\", 'Harlem Valle...</td>\n",
       "      <td>378 Old Quaker Hill RoadPawling, New YorkUnite...</td>\n",
       "      <td>41.5589</td>\n",
       "      <td>-73.5491</td>\n",
       "      <td>[]</td>\n",
       "      <td>November 15, 2017</td>\n",
       "      <td>NaN</td>\n",
       "      <td>NaN</td>\n",
       "      <td>https://www.atlasobscura.com/places/akin-free-...</td>\n",
       "    </tr>\n",
       "    <tr>\n",
       "      <th>7155</th>\n",
       "      <td>Friendship Park</td>\n",
       "      <td>San Diego, California</td>\n",
       "      <td>233.0</td>\n",
       "      <td>407.0</td>\n",
       "      <td>On most days, San Diego ’s Friendship Park is ...</td>\n",
       "      <td>Friendship Park,San Diego, California, Every w...</td>\n",
       "      <td>['El Foro Antiguo Palacio Jai Alai', 'La Mona'...</td>\n",
       "      <td>Monument RdSan Diego, CaliforniaUnited States</td>\n",
       "      <td>32.5444</td>\n",
       "      <td>-117.0932</td>\n",
       "      <td>[]</td>\n",
       "      <td>October 12, 2017</td>\n",
       "      <td>NaN</td>\n",
       "      <td>NaN</td>\n",
       "      <td>https://www.atlasobscura.com/places/friendship...</td>\n",
       "    </tr>\n",
       "  </tbody>\n",
       "</table>\n",
       "<p>244 rows × 15 columns</p>\n",
       "</div>"
      ],
      "text/plain": [
       "                           placeName                 placeTags  \\\n",
       "59          The Witch House of Salem      Salem, Massachusetts   \n",
       "141              Museum of the Weird             Austin, Texas   \n",
       "173   National Atomic Testing Museum         Las Vegas, Nevada   \n",
       "224          Canyons of the Ancients         Dolores, Colorado   \n",
       "320               The Natural Bridge  Natural Bridge, Virginia   \n",
       "...                              ...                       ...   \n",
       "7064            Wilbur D. May Museum              Reno, Nevada   \n",
       "7105   The Liberty Bell Hiding Place   Allentown, Pennsylvania   \n",
       "7147        American Computer Museum          Bozeman, Montana   \n",
       "7154               Akin Free Library         Pawling, New York   \n",
       "7155                 Friendship Park     San Diego, California   \n",
       "\n",
       "      numPeopleVisited  numPeopleWant  \\\n",
       "59              3161.0         3957.0   \n",
       "141             1011.0         2956.0   \n",
       "173             1093.0         2796.0   \n",
       "224              447.0         2541.0   \n",
       "320             1719.0         2262.0   \n",
       "...                ...            ...   \n",
       "7064             131.0          411.0   \n",
       "7105             146.0          409.0   \n",
       "7147             124.0          408.0   \n",
       "7154              41.0          407.0   \n",
       "7155             233.0          407.0   \n",
       "\n",
       "                                              placeDesc  \\\n",
       "59    The Salem witchcraft trials took place between...   \n",
       "141   The dime or dime store museum is by all accoun...   \n",
       "173   Las Vegas is an oasis in the desert where no o...   \n",
       "224   Ripe for quiet reflection and simply awe-inspi...   \n",
       "320   Often cited as having a place among the great ...   \n",
       "...                                                 ...   \n",
       "7064  There is only one place in Nevada where you wi...   \n",
       "7105  In September of 1777, the British defeated Geo...   \n",
       "7147  “To collect, preserve, interpret, and display ...   \n",
       "7154  The Akin Free Library, a gracious stone struct...   \n",
       "7155  On most days, San Diego ’s Friendship Park is ...   \n",
       "\n",
       "                                         placeShortDesc  \\\n",
       "59    The Witch House of Salem,Salem, Massachusetts,...   \n",
       "141   Museum of the Weird,Austin, Texas, Continuing ...   \n",
       "173   National Atomic Testing Museum,Las Vegas, Neva...   \n",
       "224   Canyons of the Ancients,Dolores, Colorado, A b...   \n",
       "320   The Natural Bridge,Natural Bridge, Virginia, A...   \n",
       "...                                                 ...   \n",
       "7064  Wilbur D. May Museum,Reno, Nevada, An eccentri...   \n",
       "7105  The Liberty Bell Hiding Place,Allentown, Penns...   \n",
       "7147  American Computer Museum,Bozeman, Montana, See...   \n",
       "7154  Akin Free Library,Pawling, New York, The attic...   \n",
       "7155  Friendship Park,San Diego, California, Every w...   \n",
       "\n",
       "                                            placeNearby  \\\n",
       "59    ['Joshua Ward House', 'Statue of Elizabeth Mon...   \n",
       "141   ['Frost Bank Tower', 'Austin Moonlight Towers'...   \n",
       "173   ['High Roller', 'Bugsy Siegel Monument', 'Flam...   \n",
       "224   ['Mesa Verde National Park', 'Ute Mountain Tri...   \n",
       "320   ['Hidden J.R.R. Tolkien Quote', 'Traveller’s F...   \n",
       "...                                                 ...   \n",
       "7064  [\"'Jackson'\", 'National Bowling Stadium', 'Top...   \n",
       "7105  ['Abandoned Thomas Iron Ruins', \"Leonardo's Ho...   \n",
       "7147  ['Madison Buffalo Jump State Park', 'Bleu Hors...   \n",
       "7154  [\"Rainbow's End Butterfly Farm\", 'Harlem Valle...   \n",
       "7155  ['El Foro Antiguo Palacio Jai Alai', 'La Mona'...   \n",
       "\n",
       "                                           placeAddress  placeAlt  placeLong  \\\n",
       "59    310 1/2 Essex StreetSalem, Massachusetts, 0197...   42.5215   -70.8989   \n",
       "141   Museum of the Weird412 E 6th St.Austin, Texas,...   30.2670   -97.7387   \n",
       "173   755 E Flamingo RdLas Vegas, Nevada, 89119Unite...   36.1141  -115.1484   \n",
       "224   27501 CO-184Mesa VerdeDolores, Colorado, 81323...   37.4763  -108.5459   \n",
       "320   15 Appledore LaneNatural Bridge, Virginia, 245...   37.6282   -79.5447   \n",
       "...                                                 ...       ...        ...   \n",
       "7064          1595 N Sierra StReno, NevadaUnited States   39.5457  -119.8240   \n",
       "7105  622 Hamilton StAllentown, PennsylvaniaUnited S...   40.6023   -75.4704   \n",
       "7147  2023 Stadium DrSuite 1ABozeman, Montana, 59715...   45.6590  -111.0548   \n",
       "7154  378 Old Quaker Hill RoadPawling, New YorkUnite...   41.5589   -73.5491   \n",
       "7155      Monument RdSan Diego, CaliforniaUnited States   32.5444  -117.0932   \n",
       "\n",
       "                                           placeEditors       placePubDate  \\\n",
       "59    ['aniashaclay', 'littleredinfiniti', 'cait7911...      June 25, 2009   \n",
       "141   ['TheAmazingFace', 'RaspberryLion', 'knoxium',...      April 6, 2011   \n",
       "173   ['Taterchips', 'paigeelizabeth3660', 'dlc31723...     March 25, 2013   \n",
       "224                                                  []   January 21, 2013   \n",
       "320   ['shylilturtle', 'plt4000', 'kjill99', 'lendog...       July 4, 2010   \n",
       "...                                                 ...                ...   \n",
       "7064                                                 []   January 17, 2017   \n",
       "7105                                                 []  February 16, 2017   \n",
       "7147                                                 []   January 30, 2010   \n",
       "7154                                                 []  November 15, 2017   \n",
       "7155                                                 []   October 12, 2017   \n",
       "\n",
       "                                      placeRelatedLists  \\\n",
       "59              [\"The World's Top 100 Wonders in 2018\"]   \n",
       "141                                                 NaN   \n",
       "173   ['17 Hidden Las Vegas Spots It Would Be a Sin ...   \n",
       "224   ['18 Places in Colorado to Discover Local Cult...   \n",
       "320   ['The Most Wondrous State Parks to Visit Durin...   \n",
       "...                                                 ...   \n",
       "7064                                                NaN   \n",
       "7105                                                NaN   \n",
       "7147  ['A Road Trip Through the Constantly Evolving ...   \n",
       "7154                                                NaN   \n",
       "7155                                                NaN   \n",
       "\n",
       "                                     placeRelatedPlaces  \\\n",
       "59    ['The Black Castle', 'Salem Village Parsonage'...   \n",
       "141                                                 NaN   \n",
       "173   ['Titan Missile Museum', 'Museum Uranbergbau',...   \n",
       "224   ['Acacus Mountains', 'Japanese War Cemetery an...   \n",
       "320   ['Cueva Clara', '100,000 Soldiers of Trabuc Ca...   \n",
       "...                                                 ...   \n",
       "7064                                                NaN   \n",
       "7105                                                NaN   \n",
       "7147  ['Computer History Museum', 'Silverball Museum...   \n",
       "7154                                                NaN   \n",
       "7155                                                NaN   \n",
       "\n",
       "                                               placeURL  \n",
       "59    https://www.atlasobscura.com/places/witch-hous...  \n",
       "141    https://www.atlasobscura.com/places/museum-weird  \n",
       "173   https://www.atlasobscura.com/places/national-a...  \n",
       "224   https://www.atlasobscura.com/places/canyons-of...  \n",
       "320   https://www.atlasobscura.com/places/the-natura...  \n",
       "...                                                 ...  \n",
       "7064  https://www.atlasobscura.com/places/wilbur-d-m...  \n",
       "7105  https://www.atlasobscura.com/places/liberty-be...  \n",
       "7147  https://www.atlasobscura.com/places/american-c...  \n",
       "7154  https://www.atlasobscura.com/places/akin-free-...  \n",
       "7155  https://www.atlasobscura.com/places/friendship...  \n",
       "\n",
       "[244 rows x 15 columns]"
      ]
     },
     "execution_count": 14,
     "metadata": {},
     "output_type": "execute_result"
    }
   ],
   "source": [
    "query='american museum'\n",
    "findquery(query,data,inv,voc)"
   ]
  },
  {
   "cell_type": "code",
   "execution_count": 7,
   "id": "d57dbcaf",
   "metadata": {},
   "outputs": [],
   "source": [
    "#data=pd.read_csv('final_dataset_2_rm_nan_url.csv')\n",
    "#inv1=pd.read_csv('inv1.csv')\n",
    "#vocab=pd.read_csv('vocab.csv')\n",
    "#invtf=pd.read_csv('invtf.csv')"
   ]
  },
  {
   "cell_type": "code",
   "execution_count": 8,
   "id": "42f68b6c",
   "metadata": {},
   "outputs": [],
   "source": [
    "#data=data.drop(['Unnamed: 0'], axis=1)\n",
    "#inv1=inv1.drop(['Unnamed: 0'], axis=1)\n",
    "#vocab=vocab.drop(['Unnamed: 0'], axis=1)\n",
    "#invtf=invtf.drop(['Unnamed: 0'], axis=1)"
   ]
  },
  {
   "cell_type": "code",
   "execution_count": 9,
   "id": "d2b6153f",
   "metadata": {},
   "outputs": [],
   "source": [
    "#inv1['doc']=list(map(eval,inv1['doc']))\n",
    "#invtf['doc']=list(map(eval,invtf['doc']))\n",
    "#vocab['N/n']=list(map(np.log,vocab['N/n'].values))\n",
    "#voc = dict(vocab[['word','ind']].values)\n",
    "#inv =  dict(inv1.values)\n",
    "invtfvoc= dict(invtf.values)"
   ]
  },
  {
   "cell_type": "code",
   "execution_count": 10,
   "id": "58cd3af0",
   "metadata": {},
   "outputs": [],
   "source": [
    "def tfidf(w,preplist,ind):\n",
    "    return list((preplist.count(w))/len(preplist)*ind)[0]"
   ]
  },
  {
   "cell_type": "code",
   "execution_count": 13,
   "id": "d87c9d95",
   "metadata": {
    "collapsed": true
   },
   "outputs": [
    {
     "name": "stderr",
     "output_type": "stream",
     "text": [
      "0it [00:00, ?it/s]\n"
     ]
    },
    {
     "ename": "NameError",
     "evalue": "name 'data_des' is not defined",
     "output_type": "error",
     "traceback": [
      "\u001b[1;31m---------------------------------------------------------------------------\u001b[0m",
      "\u001b[1;31mNameError\u001b[0m                                 Traceback (most recent call last)",
      "Input \u001b[1;32mIn [13]\u001b[0m, in \u001b[0;36m<cell line: 6>\u001b[1;34m()\u001b[0m\n\u001b[0;32m      8\u001b[0m inv2[i]\u001b[38;5;241m=\u001b[39m{}\n\u001b[0;32m      9\u001b[0m \u001b[38;5;28;01mfor\u001b[39;00m t \u001b[38;5;129;01min\u001b[39;00m j:\n\u001b[1;32m---> 10\u001b[0m     datas\u001b[38;5;241m=\u001b[39m\u001b[43mdata_des\u001b[49m[data_des[\u001b[38;5;124m'\u001b[39m\u001b[38;5;124mind\u001b[39m\u001b[38;5;124m'\u001b[39m]\u001b[38;5;241m==\u001b[39mt][\u001b[38;5;124m'\u001b[39m\u001b[38;5;124mprep\u001b[39m\u001b[38;5;124m'\u001b[39m]\u001b[38;5;241m.\u001b[39mvalues\u001b[38;5;241m.\u001b[39mtolist()[\u001b[38;5;241m0\u001b[39m]\n\u001b[0;32m     11\u001b[0m     inv2[i][t]\u001b[38;5;241m=\u001b[39mtfidf(w,datas,vocab[\u001b[38;5;124m'\u001b[39m\u001b[38;5;124mN/n\u001b[39m\u001b[38;5;124m'\u001b[39m][i])\n",
      "\u001b[1;31mNameError\u001b[0m: name 'data_des' is not defined"
     ]
    }
   ],
   "source": [
    "#### invtf generator\n",
    "from tqdm import tqdm\n",
    "import numpy as np\n",
    "inv2={}\n",
    "key=vocab['word']\n",
    "for i,j in tqdm(zip(inv1['ind'],inv1['doc'])):\n",
    "    w=key[int(i)]   \n",
    "    inv2[i]={}\n",
    "    for t in j:\n",
    "        datas=data_des[data_des['ind']==t]['prep'].values.tolist()[0]\n",
    "        inv2[i][t]=tfidf(w,datas,vocab['N/n'][i])"
   ]
  },
  {
   "cell_type": "code",
   "execution_count": null,
   "id": "cf7d0095",
   "metadata": {},
   "outputs": [],
   "source": [
    "#inv1=pd.DataFrame()\n",
    "#inv1['ind']=inv2.keys()\n",
    "#inv1['doc']=inv2.values()\n",
    "#inv1.to_csv('invtf.csv')"
   ]
  },
  {
   "cell_type": "code",
   "execution_count": 15,
   "id": "0f8e6b2e",
   "metadata": {},
   "outputs": [],
   "source": [
    "mat= np.zeros((len(voc),7200))\n",
    "for i in range(len(voc)):\n",
    "    mat[i,list(invtfvoc[i].keys())]=list(invtfvoc[i].values())"
   ]
  },
  {
   "cell_type": "code",
   "execution_count": 22,
   "id": "7cbe6448",
   "metadata": {},
   "outputs": [],
   "source": [
    "def cosine(query,data,inv,vocab,voc,mat):\n",
    "    query_prep=preprocess(query)\n",
    "    \n",
    "    query_list=[]\n",
    "    query_val=[]\n",
    "    for i in query_prep:\n",
    "        if voc[i] not in query_list:\n",
    "            query_list.append(voc[i])\n",
    "            query_val.append(tfidf(i,query_prep,vocab[vocab['word']==i]['N/n']))\n",
    "        \n",
    "    datas = findquery(' '.join(query_prep),data,inv,voc)\n",
    "    indexfind=list(datas.index)\n",
    "    \n",
    "    a=[np.sum(query_val*mat[query_list,i])/(np.linalg.norm(query_val)*np.linalg.norm(mat[query_list,i])) for i in indexfind]\n",
    "    \n",
    "    datas=datas.assign(Similarity=a)\n",
    "    \n",
    "    return datas.sort_values(by=['Similarity'], ascending=False)  "
   ]
  },
  {
   "cell_type": "code",
   "execution_count": 54,
   "id": "449e18bf",
   "metadata": {
    "scrolled": true
   },
   "outputs": [
    {
     "data": {
      "text/html": [
       "<div>\n",
       "<style scoped>\n",
       "    .dataframe tbody tr th:only-of-type {\n",
       "        vertical-align: middle;\n",
       "    }\n",
       "\n",
       "    .dataframe tbody tr th {\n",
       "        vertical-align: top;\n",
       "    }\n",
       "\n",
       "    .dataframe thead th {\n",
       "        text-align: right;\n",
       "    }\n",
       "</style>\n",
       "<table border=\"1\" class=\"dataframe\">\n",
       "  <thead>\n",
       "    <tr style=\"text-align: right;\">\n",
       "      <th></th>\n",
       "      <th>placeName</th>\n",
       "      <th>placeTags</th>\n",
       "      <th>numPeopleVisited</th>\n",
       "      <th>numPeopleWant</th>\n",
       "      <th>placeDesc</th>\n",
       "      <th>placeShortDesc</th>\n",
       "      <th>placeNearby</th>\n",
       "      <th>placeAddress</th>\n",
       "      <th>placeAlt</th>\n",
       "      <th>placeLong</th>\n",
       "      <th>placeEditors</th>\n",
       "      <th>placePubDate</th>\n",
       "      <th>placeRelatedLists</th>\n",
       "      <th>placeRelatedPlaces</th>\n",
       "      <th>placeURL</th>\n",
       "      <th>Similarity</th>\n",
       "    </tr>\n",
       "  </thead>\n",
       "  <tbody>\n",
       "    <tr>\n",
       "      <th>1050</th>\n",
       "      <td>Flushing Meadows-Corona Park</td>\n",
       "      <td>Queens, New York</td>\n",
       "      <td>1373.0</td>\n",
       "      <td>1349.0</td>\n",
       "      <td>After a long ride from Manhattan, most get off...</td>\n",
       "      <td>Flushing Meadows-Corona Park,Queens, New York,...</td>\n",
       "      <td>['Panorama of the City of New York', 'Fountain...</td>\n",
       "      <td>Kennedy CircleQueens, New York, 11368United St...</td>\n",
       "      <td>40.7462</td>\n",
       "      <td>-73.8445</td>\n",
       "      <td>['lakupper13', 'cait7911', 'Babs81', 'Corina',...</td>\n",
       "      <td>September 5, 2009</td>\n",
       "      <td>[\"A 'No Regrets' Tour With One of Our Top Phot...</td>\n",
       "      <td>[\"'Worker and Kolkhoz Woman'\", \"'Jeune Éléphan...</td>\n",
       "      <td>https://www.atlasobscura.com/places/flushing-m...</td>\n",
       "      <td>0.982192</td>\n",
       "    </tr>\n",
       "    <tr>\n",
       "      <th>6149</th>\n",
       "      <td>Martha, the Last Passenger Pigeon</td>\n",
       "      <td>Washington, D.C.</td>\n",
       "      <td>513.0</td>\n",
       "      <td>467.0</td>\n",
       "      <td>When Europeans began settling in the New World...</td>\n",
       "      <td>Martha, the Last Passenger Pigeon,Washington, ...</td>\n",
       "      <td>['Mummified Bison', 'Carousel on the National ...</td>\n",
       "      <td>10th St. &amp; Constitution Ave. NWWashington, Dis...</td>\n",
       "      <td>38.8912</td>\n",
       "      <td>-77.0260</td>\n",
       "      <td>['Liana', 'Ancientproof', 'thebodyinthelibrary...</td>\n",
       "      <td>June 6, 2014</td>\n",
       "      <td>['The Ultimate Guide to Bird Monuments']</td>\n",
       "      <td>['Grip the Raven', 'Anniston Museum', 'Cher Am...</td>\n",
       "      <td>https://www.atlasobscura.com/places/martha-the...</td>\n",
       "      <td>0.937040</td>\n",
       "    </tr>\n",
       "    <tr>\n",
       "      <th>1989</th>\n",
       "      <td>Skeletons: Museum of Osteology</td>\n",
       "      <td>Orlando, Florida</td>\n",
       "      <td>214.0</td>\n",
       "      <td>981.0</td>\n",
       "      <td>Following the success of his original skeleton...</td>\n",
       "      <td>Skeletons: Museum of Osteology,Orlando, Florid...</td>\n",
       "      <td>['Global Convergence Sculpture', 'Randall Knif...</td>\n",
       "      <td>8441 International Dr.Suite 250Orlando, Florid...</td>\n",
       "      <td>28.4426</td>\n",
       "      <td>-81.4691</td>\n",
       "      <td>[]</td>\n",
       "      <td>May 18, 2017</td>\n",
       "      <td>['Off-Centered Ale Trail: Orlando']</td>\n",
       "      <td>['Gympie Bone Museum', 'Jurassic Museum of Ast...</td>\n",
       "      <td>https://www.atlasobscura.com/places/skeletons-...</td>\n",
       "      <td>0.809510</td>\n",
       "    </tr>\n",
       "    <tr>\n",
       "      <th>5012</th>\n",
       "      <td>Mammoth Cave Wildlife Museum</td>\n",
       "      <td>Cave City, Kentucky</td>\n",
       "      <td>170.0</td>\n",
       "      <td>550.0</td>\n",
       "      <td>Cave City is a wonderland of kitschy tourist t...</td>\n",
       "      <td>Mammoth Cave Wildlife Museum,Cave City, Kentuc...</td>\n",
       "      <td>[\"Bell's Tavern Ruins\", 'Wigwam Village #2', '...</td>\n",
       "      <td>409 E Happy Valley StCave City, KentuckyUnited...</td>\n",
       "      <td>37.1269</td>\n",
       "      <td>-85.9612</td>\n",
       "      <td>[]</td>\n",
       "      <td>September 4, 2018</td>\n",
       "      <td>NaN</td>\n",
       "      <td>NaN</td>\n",
       "      <td>https://www.atlasobscura.com/places/mammoth-ca...</td>\n",
       "      <td>0.809510</td>\n",
       "    </tr>\n",
       "    <tr>\n",
       "      <th>985</th>\n",
       "      <td>Horniman Museum and Gardens</td>\n",
       "      <td>London, England</td>\n",
       "      <td>743.0</td>\n",
       "      <td>1386.0</td>\n",
       "      <td>London’s Horniman Museum has been showing off ...</td>\n",
       "      <td>Horniman Museum and Gardens,London, England, A...</td>\n",
       "      <td>[\"St Antholin's Spire\", 'Horniman Aquarium', '...</td>\n",
       "      <td>100 London RdForest HillLondon, England, SE23 ...</td>\n",
       "      <td>51.4410</td>\n",
       "      <td>-0.0610</td>\n",
       "      <td>['Snowdrop68', 'Kaiju', 'Monsieur Mictlan', 'D...</td>\n",
       "      <td>August 1, 2013</td>\n",
       "      <td>NaN</td>\n",
       "      <td>NaN</td>\n",
       "      <td>https://www.atlasobscura.com/places/horniman-m...</td>\n",
       "      <td>0.713007</td>\n",
       "    </tr>\n",
       "  </tbody>\n",
       "</table>\n",
       "</div>"
      ],
      "text/plain": [
       "                              placeName            placeTags  \\\n",
       "1050       Flushing Meadows-Corona Park     Queens, New York   \n",
       "6149  Martha, the Last Passenger Pigeon     Washington, D.C.   \n",
       "1989     Skeletons: Museum of Osteology     Orlando, Florida   \n",
       "5012       Mammoth Cave Wildlife Museum  Cave City, Kentucky   \n",
       "985         Horniman Museum and Gardens      London, England   \n",
       "\n",
       "      numPeopleVisited  numPeopleWant  \\\n",
       "1050            1373.0         1349.0   \n",
       "6149             513.0          467.0   \n",
       "1989             214.0          981.0   \n",
       "5012             170.0          550.0   \n",
       "985              743.0         1386.0   \n",
       "\n",
       "                                              placeDesc  \\\n",
       "1050  After a long ride from Manhattan, most get off...   \n",
       "6149  When Europeans began settling in the New World...   \n",
       "1989  Following the success of his original skeleton...   \n",
       "5012  Cave City is a wonderland of kitschy tourist t...   \n",
       "985   London’s Horniman Museum has been showing off ...   \n",
       "\n",
       "                                         placeShortDesc  \\\n",
       "1050  Flushing Meadows-Corona Park,Queens, New York,...   \n",
       "6149  Martha, the Last Passenger Pigeon,Washington, ...   \n",
       "1989  Skeletons: Museum of Osteology,Orlando, Florid...   \n",
       "5012  Mammoth Cave Wildlife Museum,Cave City, Kentuc...   \n",
       "985   Horniman Museum and Gardens,London, England, A...   \n",
       "\n",
       "                                            placeNearby  \\\n",
       "1050  ['Panorama of the City of New York', 'Fountain...   \n",
       "6149  ['Mummified Bison', 'Carousel on the National ...   \n",
       "1989  ['Global Convergence Sculpture', 'Randall Knif...   \n",
       "5012  [\"Bell's Tavern Ruins\", 'Wigwam Village #2', '...   \n",
       "985   [\"St Antholin's Spire\", 'Horniman Aquarium', '...   \n",
       "\n",
       "                                           placeAddress  placeAlt  placeLong  \\\n",
       "1050  Kennedy CircleQueens, New York, 11368United St...   40.7462   -73.8445   \n",
       "6149  10th St. & Constitution Ave. NWWashington, Dis...   38.8912   -77.0260   \n",
       "1989  8441 International Dr.Suite 250Orlando, Florid...   28.4426   -81.4691   \n",
       "5012  409 E Happy Valley StCave City, KentuckyUnited...   37.1269   -85.9612   \n",
       "985   100 London RdForest HillLondon, England, SE23 ...   51.4410    -0.0610   \n",
       "\n",
       "                                           placeEditors       placePubDate  \\\n",
       "1050  ['lakupper13', 'cait7911', 'Babs81', 'Corina',...  September 5, 2009   \n",
       "6149  ['Liana', 'Ancientproof', 'thebodyinthelibrary...       June 6, 2014   \n",
       "1989                                                 []       May 18, 2017   \n",
       "5012                                                 []  September 4, 2018   \n",
       "985   ['Snowdrop68', 'Kaiju', 'Monsieur Mictlan', 'D...     August 1, 2013   \n",
       "\n",
       "                                      placeRelatedLists  \\\n",
       "1050  [\"A 'No Regrets' Tour With One of Our Top Phot...   \n",
       "6149           ['The Ultimate Guide to Bird Monuments']   \n",
       "1989                ['Off-Centered Ale Trail: Orlando']   \n",
       "5012                                                NaN   \n",
       "985                                                 NaN   \n",
       "\n",
       "                                     placeRelatedPlaces  \\\n",
       "1050  [\"'Worker and Kolkhoz Woman'\", \"'Jeune Éléphan...   \n",
       "6149  ['Grip the Raven', 'Anniston Museum', 'Cher Am...   \n",
       "1989  ['Gympie Bone Museum', 'Jurassic Museum of Ast...   \n",
       "5012                                                NaN   \n",
       "985                                                 NaN   \n",
       "\n",
       "                                               placeURL  Similarity  \n",
       "1050  https://www.atlasobscura.com/places/flushing-m...    0.982192  \n",
       "6149  https://www.atlasobscura.com/places/martha-the...    0.937040  \n",
       "1989  https://www.atlasobscura.com/places/skeletons-...    0.809510  \n",
       "5012  https://www.atlasobscura.com/places/mammoth-ca...    0.809510  \n",
       "985   https://www.atlasobscura.com/places/horniman-m...    0.713007  "
      ]
     },
     "execution_count": 54,
     "metadata": {},
     "output_type": "execute_result"
    }
   ],
   "source": [
    "query='american museum zoo'\n",
    "cosine(query,data,inv,vocab,voc,mat)"
   ]
  },
  {
   "cell_type": "code",
   "execution_count": 97,
   "id": "c60799a1",
   "metadata": {},
   "outputs": [
    {
     "data": {
      "application/vnd.plotly.v1+json": {
       "config": {
        "plotlyServerURL": "https://plot.ly"
       },
       "data": [
        {
         "customdata": [
          [
           "Washington, D.C.",
           "14th Streed and Constitution Avenue NW,Washington, District of ColumbiaUnited States"
          ],
          [
           "Pendleton, Oregon",
           "47106 Wildhorse BlvdPendleton, OregonUnited States"
          ],
          [
           "Doylestown, Pennsylvania",
           "525 E Court St & Route 313Doylestown, Pennsylvania, 18901United States"
          ],
          [
           "Oak Ridge, Tennessee",
           "Oak Ridge, Tennessee, 37830United States"
          ],
          [
           "Seattle, Washington",
           "4300 15th Ave NESeattle, Washington, 98105United States"
          ],
          [
           "Bradford, Pennsylvania",
           "1932 Zippo DriveBradford, Pennsylvania, 16701United States"
          ],
          [
           "Manhattan, New York",
           "Bowling GreenNew York, New York, 10004United States"
          ],
          [
           "East Haddam, Connecticut",
           "67 River RdEast Haddam, Connecticut, 06423United States"
          ],
          [
           "Philadelphia, Pennsylvania",
           "2025 Benjamin Franklin PkwyPhiladelphia, Pennsylvania, 19130United States"
          ],
          [
           "Denver, Colorado",
           "Peña BlvdDenver, Colorado, 80249United States"
          ],
          [
           "Latrobe, Pennsylvania",
           "805 Ligonier StLatrobe, PennsylvaniaUnited States"
          ],
          [
           "Manhattan, New York",
           "972 5th AveNew York, New York, 10075United States"
          ],
          [
           "Manhattan, New York",
           "54 Pearl StreetNew York, New York, 10004United States"
          ],
          [
           "Athens, Greece",
           "46 AdrianouAthens, 105 55Greece"
          ],
          [
           "St. Joseph, Missouri",
           "1202 Penn StSt. Joseph, Missouri, 64503United States"
          ],
          [
           "West Chester, Pennsylvania",
           "865 Lenape RdWest Chester, Pennsylvania, 19382United States"
          ],
          [
           "Los Angeles, California",
           "7100 El Rancho DrLos Angeles, California, 91367United States"
          ],
          [
           "London, England",
           "National GalleryTrafalgar SquareLondon, England, WC2HUnited Kingdom"
          ],
          [
           "Chicago, Illinois",
           "60 West Walton StreetChicago, IllinoisUnited States"
          ],
          [
           "Maysville, Kentucky",
           "1001-1019 Forest AveMaysville, Kentucky, 41056United States"
          ],
          [
           "Dover, Ohio",
           "331 Karl Ave.Dover, Ohio, 44622United States"
          ],
          [
           "Manchester, Tennessee",
           "732 Stone Fort DrManchester, TennesseeUnited States"
          ],
          [
           "Asheville, North Carolina",
           "56 Broadway StAsheville, North Carolina, 28801United States"
          ],
          [
           "Lake Placid, Florida",
           "18 N Oak AveLake Placid, FloridaUnited States"
          ],
          [
           "Los Angeles, California",
           "707 Tiverton DrLos Angeles, CaliforniaUnited States"
          ],
          [
           "Wustermark, Germany",
           "3-5 Zum WasserwerkWustermark, 14641Germany"
          ],
          [
           "Asheville, North Carolina",
           "97 Haywood StreetAsheville, North CarolinaUnited States"
          ],
          [
           "Houston, Texas",
           "2401 Nance StHouston, Texas, 77020United States"
          ],
          [
           "Denver, Colorado",
           "1727 Tremont PlaceDenver, ColoradoUnited States"
          ],
          [
           "San Francisco, California",
           "1522 Grant AvenueSan Francisco, California, 94133United States"
          ],
          [
           "Bayard, Nebraska",
           "Chimney Rock National Historic SiteBayard, Nebraska, 69334United States"
          ],
          [
           "Albuquerque, New Mexico",
           "3501 Monte Vista Blvd NEAlbuquerque, New Mexico, 87106United States"
          ],
          [
           "San Francisco, California",
           "140 Maiden LaneSan Francisco, California, 94108United States"
          ],
          [
           "St. Louis, Missouri",
           "3137 Whittier StSt. Louis, MissouriUnited States"
          ],
          [
           "Washington, D.C.",
           "National Museum of the American IndianFourth Street & Independence Ave., S.W.Washington, District of Columbia, 20560United States"
          ],
          [
           "Clark County, Nevada",
           "Carp Elgin RoadClark County, NevadaUnited States"
          ],
          [
           "Felicity, California",
           "One Center of the World PlazaFelicity, California, 92283-7777United States"
          ],
          [
           "Elkhart, Indiana",
           "1915 Cassopolis St.Elkhart, Indiana, 46517United States"
          ],
          [
           "Blairsville, Georgia",
           "Blairsville, Georgia, 30512United States"
          ],
          [
           "Britt, Iowa",
           "51 Main Ave SBritt, Iowa, 50423United States"
          ],
          [
           "Washington, D.C.",
           "Smithsonian's Museum of American History14th St and Constitution Ave, NWWashington, District of ColumbiaUnited States"
          ],
          [
           "Manhattan, New York",
           "4881 BroadwayNew York, New York, 10034United States"
          ],
          [
           "Wyalusing, Pennsylvania",
           "469 Queens RdWyalusing, Pennsylvania, 18853United States"
          ],
          [
           "Berkley, Massachusetts",
           "Bay View Ave.Berkley, Massachusetts, 02779United States"
          ],
          [
           "Idaho City, Idaho",
           "100 Main StIdaho City, Idaho, 83631United States"
          ],
          [
           "Charleston, South Carolina",
           "6 Chalmers StreetCharleston, South Carolina, 29401United States"
          ],
          [
           "Failford, Scotland",
           "Failford, ScotlandUnited Kingdom"
          ],
          [
           "Hilton Head Island, South Carolina",
           "70 Honey Horn DriveHilton Head Island, South Carolina, 29926United States"
          ],
          [
           "Second Mesa, Arizona",
           "Hopi Indian ReservationSecond Mesa, ArizonaUnited States"
          ],
          [
           "Huntsville, Alabama",
           "1 Tranquility BaseHuntsville, Alabama, 35805United States"
          ],
          [
           "Jekyll Island, Georgia",
           "371 Riverview DrJekyll Island, Georgia, 31527United States"
          ],
          [
           "San Diego, California",
           "Monument RdSan Diego, CaliforniaUnited States"
          ],
          [
           "Washington, D.C.",
           "1703 32nd Street NWWashington, District of ColumbiaUnited States"
          ],
          [
           "Austin, Texas",
           "1602 FortviewAustin, Texas, 78704United States"
          ],
          [
           "Eureka, California",
           "143 M St.Eureka, California, 95501United States"
          ],
          [
           "Jordan",
           "On the slope of Mount HorArabahJordan"
          ],
          [
           "Denver, Colorado",
           "1340 Pennsylvania StreetDenver, ColoradoUnited States"
          ],
          [
           "Budapest, Hungary",
           "1 Dandár u.Budapest, 1095Hungary"
          ],
          [
           "Cherokee, North Carolina",
           "564 Tsali BoulevardCherokee, North Carolina, 28719United States"
          ],
          [
           "Maxton, North Carolina",
           "16701 Airport RdMaxton, North Carolina, 28364United States"
          ],
          [
           "Dayton, Ohio",
           "1100 Spaatz StDayton, Ohio, 45431United States"
          ],
          [
           "Charleston, South Carolina",
           "21 Magazine StreetCharleston, South CarolinaUnited States"
          ],
          [
           "Manhattan, New York",
           "Quadrangle RdNew York, New York, 11231United States"
          ],
          [
           "Plainfield, Wisconsin",
           "Plainfield, Wisconsin, 54966United States"
          ],
          [
           "Astoria, Oregon",
           "1215 Duane StAstoria, OregonUnited States"
          ],
          [
           "Versailles, Kentucky",
           "230 Pisgah PikeVersailles, Kentucky, 40383United States"
          ],
          [
           "Oaks, Pennsylvania",
           "1230 E Cir DrOaks, Pennsylvania, 19456United States"
          ],
          [
           "St. Charles, Missouri",
           "Hamburg TrailSt. Charles, Missouri, 63304United States"
          ],
          [
           "Hartford, Connecticut",
           "267 Farmington AveHartford, Connecticut, 06105United States"
          ],
          [
           "Manhattan, New York",
           "400-428 W 141st StNew York, New YorkUnited States"
          ],
          [
           "Allentown, Pennsylvania",
           "622 Hamilton StAllentown, PennsylvaniaUnited States"
          ],
          [
           "Santa Fe, New Mexico",
           "215 East De Vargas StreetSanta Fe, New Mexico, 87501United States"
          ],
          [
           "Titusville, Florida",
           "308 Pine StreetTitusville, FloridaUnited States"
          ],
          [
           "Oklahoma City, Oklahoma",
           "4300 Amelia Earhart LaneOklahoma City, Oklahoma, 73159United States"
          ],
          [
           "Austin, Texas",
           "411 E 5th StAustin, TexasUnited States"
          ],
          [
           "Kansas City, Missouri",
           "400 Grand Blvd.Kansas City, MissouriUnited States"
          ],
          [
           "Klamath, California",
           "15500 Highway 101NKlamath, California, 95548United States"
          ],
          [
           "Tucson, Arizona",
           "617 N. Santa Rita Ave.Tucson, Arizona, 85721United States"
          ],
          [
           "Salem, Massachusetts",
           "310 1/2 Essex StreetSalem, Massachusetts, 01970United States"
          ],
          [
           "San Antonio, Texas",
           "345 Old Austin RdSan Antonio, TexasUnited States"
          ],
          [
           "Queens, New York",
           "32-23 48th AveQueens, New York, 11101United States"
          ],
          [
           "Airville, Pennsylvania",
           "205 Indian Steps RdAirville, PennsylvaniaUnited States"
          ],
          [
           "Columbia, Pennsylvania",
           "514 Poplar StreetColumbia, Pennsylvania, 17512United States"
          ],
          [
           "Indianapolis, Indiana",
           "543 Indiana AveIndianapolis, Indiana, 46202United States"
          ],
          [
           "Manhattan, New York",
           "101 Park Ave ViaductNew York, New York, 10016United States"
          ],
          [
           "Hot Springs, Arkansas",
           "817 Central AveHot Springs, Arkansas, 71901United States"
          ],
          [
           "Washington, D.C.",
           "801 K Street NWWashington, District of ColumbiaUnited States"
          ],
          [
           "Prague, Czechia",
           "5 28. říjnaPrague, 110 00Czechia"
          ],
          [
           "Detroit, Michigan",
           "5200 Woodward AvenueDetroit, Michigan, 48202United States"
          ],
          [
           "Alameda, California",
           "1510 Webster StAlameda, California, 94501United States"
          ],
          [
           "University Park, Illinois",
           "1 University PkwyUniversity Park, IllinoisUnited States"
          ],
          [
           "San Antonio, Texas",
           "210 W Market StSan Antonio, TexasUnited States"
          ],
          [
           "Queens, New York",
           "Kennedy CircleQueens, New York, 11368United States"
          ],
          [
           "South Hadley, Massachusetts",
           "33 Woodbridge StreetSouth Hadley, Massachusetts, 01075United States"
          ],
          [
           "Atlanta, Georgia",
           "54 Hilliard St NEAtlanta, Georgia, 30312United States"
          ],
          [
           "Banff, Alberta",
           "Banff Trading Post101 Cave Ave.Banff, AlbertaCanada"
          ],
          [
           "Gettysburg, Pennsylvania",
           "Gettysburg National Military Park Museum and Visitor1195 Baltimore PikeGettysburg, Pennsylvania, 17325United States"
          ],
          [
           "Seattle, Washington",
           "719 S King StSeattle, WashingtonUnited States"
          ],
          [
           "Kanab, Utah",
           "4581 US-89Kanab, Utah, 84741United States"
          ],
          [
           "San Antonio, Texas",
           "7400 San Pedro AveSan Antonio, TexasUnited States"
          ],
          [
           "Hilliard, Ohio",
           "5396 Franklin StHilliard, OhioUnited States"
          ],
          [
           "Prague, Czechia",
           "4 V CelniciPrague, 110 00Czechia"
          ],
          [
           "Miami, Florida",
           "401 Brickell AvenueMiami, Florida, 33131United States"
          ],
          [
           "London, England",
           "London, England, WC1RUnited Kingdom"
          ],
          [
           "Los Angeles, California",
           "5324 Laurel Canyon Blvd.Los Angeles, California, 91607United States"
          ],
          [
           "Washington, D.C.",
           "1425 4th St SWP Street & 4th Street SWWashington, District of Columbia, 20024United States"
          ],
          [
           "Mount Angel, Oregon",
           "One Abbey DriveMount Angel, Oregon, 97373United States"
          ],
          [
           "Manhattan, New York",
           "28 East 20th StreetNew York, New York, 10003United States"
          ],
          [
           "Montreal, Québec",
           "160, Chemin Tour-de-l'IsleÎle Sainte-HélèneMontreal, Québec, H3C 0K7Canada"
          ],
          [
           "Miami Beach, Florida",
           "1001 Washington AvenueMiami Beach, Florida, 33139United States"
          ],
          [
           "Cleveland, Ohio",
           "3159 W. 11th St.Cleveland, Ohio, 44109United States"
          ],
          [
           "Marshall, Michigan",
           "107 E. Michigan Ave.Marshall, Michigan, 49068United States"
          ],
          [
           "McMinnville, Oregon",
           "500 NE Captain Michael King Smith WayMcMinnville, OregonUnited States"
          ],
          [
           "Oklahoma City, Oklahoma",
           "2300 NE 63rd StOklahoma City, Oklahoma, 73111United States"
          ],
          [
           "Chicago, Illinois",
           "5700 S. Lake Shore DriveChicago, Illinois, 60637United States"
          ],
          [
           "Boulder, Colorado",
           "1320 Grandview AveBoulder, ColoradoUnited States"
          ],
          [
           "Anniston, Alabama",
           "840 Museum Dr.Anniston, Alabama, 36201United States"
          ],
          [
           "Washington, D.C.",
           "Washington, District of Columbia, 20001United States"
          ],
          [
           "South Bend, Indiana",
           "201 South Chapin StreetSouth Bend, Indiana, 46601United States"
          ],
          [
           "Fredericksburg, Virginia",
           "1020 Caroline StreetFredericksburg, Virginia, 22401United States"
          ],
          [
           "Moundsville, West Virginia",
           "801 Jefferson AvenueMoundsville, West Virginia, 26041United States"
          ],
          [
           "Oklahoma City, Oklahoma",
           "9 East Sheridan AvenueOklahoma City, Oklahoma, 73104United States"
          ],
          [
           "Mexico City, Mexico",
           "Rampa de acceso al Castillo de ChapultepecMexico City, 11100Mexico"
          ],
          [
           "Honolulu, Hawaii",
           "364 S King StHonolulu, Hawaii, 96813United States"
          ],
          [
           "Manhattan, New York",
           "215 Centre StreetNew York, New York, 10013United States"
          ],
          [
           "Washington, D.C.",
           "Washington, District of Columbia, 20506United States"
          ],
          [
           "Custer, South Dakota",
           "12151 Avenue of the ChiefsCuster, South Dakota, 57730United States"
          ],
          [
           "Phoenix, Arizona",
           "22 E Thomas RdPhoenix, ArizonaUnited States"
          ],
          [
           "Rugby, Tennessee",
           "TN-52Rugby, Tennessee, 37733United States"
          ],
          [
           "Washington, D.C.",
           "10th St. & Constitution Ave. NWWashington, District of Columbia, 20560United States"
          ],
          [
           "Natural Bridge, Virginia",
           "15 Appledore LaneNatural Bridge, Virginia, 24578United States"
          ],
          [
           "Moundville, Alabama",
           "634 Mound ParkMoundville, Alabama, 35474United States"
          ],
          [
           "Dolores, Colorado",
           "27501 CO-184Mesa VerdeDolores, Colorado, 81323United States"
          ],
          [
           "Truth or Consequences, New Mexico",
           "Truth or Consequences, New MexicoUnited States"
          ],
          [
           "Charleston, South Carolina",
           "3380 Ashley River RoadCharleston, South Carolina, 29414United States"
          ],
          [
           "London, England",
           "49-50 PiccadillyMayfairLondon, EnglandUnited Kingdom"
          ],
          [
           "Concord, Massachusetts",
           "399 Lexington RdConcord, MassachusettsUnited States"
          ],
          [
           "Alexandria, Virginia",
           "134 N Royal StAlexandria, VirginiaUnited States"
          ],
          [
           "Fallon, Nevada",
           "Grimes Point Archaeological AreaLincoln Hwy - Rt. 50Fallon, Nevada, 89406United States"
          ],
          [
           "Berkeley, California",
           "2430 Bancroft WayBerkeley, California, 94704United States"
          ],
          [
           "Washington, D.C.",
           "1300 Constitution Ave NWWashington, District of Columbia, 20560United States"
          ],
          [
           "Winslow, Arizona",
           "Rock Art Ranch RdWinslow, ArizonaUnited States"
          ],
          [
           "Alexandria, Virginia",
           "101 Callahan DriveAlexandria, Virginia, 22314United States"
          ],
          [
           "Queens, New York",
           "82-30 Cypress Hills StreetQueens, New York, 11385United States"
          ],
          [
           "Atlanta, Georgia",
           "500 10th St NWAtlanta, GeorgiaUnited States"
          ],
          [
           "Baraboo, Wisconsin",
           "550 Water StreetBaraboo, Wisconsin, 53913United States"
          ],
          [
           "Desert Hot Springs, California",
           "67616 Desert View AveDesert Hot Springs, CaliforniaUnited States"
          ],
          [
           "Chicago, Illinois",
           "180 N Michigan AveChicago, Illinois, 60601United States"
          ],
          [
           "Lone Pine, California",
           "701 South Main StreetLone Pine, California, 93545United States"
          ],
          [
           "Washington, D.C.",
           "8th Street NW & F Street NWWashington, District of ColumbiaUnited States"
          ],
          [
           "Columbus, Georgia",
           "3218 Hamilton RoadColumbus, Georgia, 31904United States"
          ],
          [
           "Joplin, Missouri",
           "504 S Schifferdecker AveJoplin, MissouriUnited States"
          ],
          [
           "Greensboro, North Carolina",
           "134 South Elm StreetGreensboro, North CarolinaUnited States"
          ],
          [
           "Las Vegas, Nevada",
           "755 E Flamingo RdLas Vegas, Nevada, 89119United States"
          ],
          [
           "Tucson, Arizona",
           "331 S. OlsenTucson, ArizonaUnited States"
          ],
          [
           "Shirley, Illinois",
           "10875 Prairie Home Ln FunkShirley, Illinois, 61772United States"
          ],
          [
           "Tarpon Springs, Florida",
           "510 Dodecanese BlvdTarpon Springs, Florida, 34689United States"
          ],
          [
           "Upper Darby, Pennsylvania",
           "2900 State RoadUpper Darby, Pennsylvania, 19026United States"
          ],
          [
           "Topeka, Kansas",
           "2047 SW Topeka BlvdTopeka, KansasUnited States"
          ],
          [
           "Athens, Greece",
           "44, Patission Str.National Archaeological Museum of AthensAthens, 106 82Greece"
          ],
          [
           "Tulsa, Oklahoma",
           "2727 S Rockford RdTulsa, OklahomaUnited States"
          ],
          [
           "Mansfield, Ohio",
           "34 Park Avenue WestMansfield, Ohio, 44902United States"
          ],
          [
           "Baltimore, Maryland",
           "800 Key HighwayBaltimore, Maryland, 21230United States"
          ],
          [
           "Longwood, Florida",
           "761 General Hutchison PkwyLongwood, Florida, 32750United States"
          ],
          [
           "Turin, Italy",
           "University of TurinVia Pietro Giuria 15Turin, 10126Italy"
          ],
          [
           "San Francisco, California",
           "655 Beach StreetSan Francisco, California, 94109United States"
          ],
          [
           "Linthicum Heights, Maryland",
           "1000 Corporate BlvdLinthicum Heights, Maryland, 21090United States"
          ],
          [
           "Washington, D.C.",
           "401 F St NWWashington, District of ColumbiaUnited States"
          ],
          [
           "Red Hook, New York",
           "Cruger Island RoadRed Hook, New York, 12571United States"
          ],
          [
           "Holbrook, Arizona",
           "811 W. Hopi Dr.Holbrook, Arizona, 86025United States"
          ],
          [
           "Concord, Massachusetts",
           "200 Lexington RdConcord, MassachusettsUnited States"
          ],
          [
           "Washington, D.C.",
           "1300 Constitution Avenue NWWashington, District of ColumbiaUnited States"
          ],
          [
           "Delta, Utah",
           "55 W Main StDelta, UtahUnited States"
          ],
          [
           "Golden, Colorado",
           "987 Lookout Mountain RoadGolden, Colorado, 80401United States"
          ],
          [
           "Oklahoma City, Oklahoma",
           "1700 North East 63rd StreetOklahoma City, Oklahoma, 73111United States"
          ],
          [
           "Thurmont, Maryland",
           "12714 Catoctin Furnace RdThurmont, Maryland, 21788United States"
          ],
          [
           "Pittsburgh, Pennsylvania",
           "24 Maryland AvePittsburgh, Pennsylvania, 15209United States"
          ],
          [
           "Pinson, Tennessee",
           "460 Ozier RoadPinson, Tennessee, 38366United States"
          ],
          [
           "New Orleans, Louisiana",
           "1504 Oretha Castle Haley BlvdSuite 169New Orleans, Louisiana, 70113United States"
          ],
          [
           "Louisville, Kentucky",
           "2395 Cave Hill RdLouisville, Kentucky, 40204United States"
          ],
          [
           "Washington, D.C.",
           "National Museum of African American History and Culture1400 Constitution Ave NWWashington, District of ColumbiaUnited States"
          ],
          [
           "Pawling, New York",
           "378 Old Quaker Hill RoadPawling, New YorkUnited States"
          ],
          [
           "Warrenton, Virginia",
           "7172 Lineweaver RdWarrenton, Virginia, 20187United States"
          ],
          [
           "Amsterdam, Netherlands",
           "Westerstraat 106Amsterdam, 1015Netherlands"
          ],
          [
           "Elkhart, Indiana",
           "21565 Executive PkwyElkhart, IndianaUnited States"
          ],
          [
           "Hartford, Connecticut",
           "Old State House800 Main St.Hartford, Connecticut, 06103United States"
          ],
          [
           "Brooklyn, New York",
           "62 Bayard StBrooklyn, New York, 11222United States"
          ],
          [
           "Point Pleasant, West Virginia",
           "400 Main StreetPoint Pleasant, West Virginia, 25550United States"
          ],
          [
           "St. Joseph, Missouri",
           "3408 Frederick AveSt. Joseph, Missouri, 64506United States"
          ],
          [
           "Goldendale, Washington",
           "35 Maryhill Museum DriveGoldendale, Washington, 98620United States"
          ],
          [
           "Atlanta, Georgia",
           "130 West Paces Ferry Rd NWAtlanta, Georgia, 30305United States"
          ],
          [
           "Asbury Park, New Jersey",
           "1000 Ocean AvenueAsbury Park, New Jersey, 07712United States"
          ],
          [
           "Springfield, Missouri",
           "500 W Sunshine StSpringfield, MissouriUnited States"
          ],
          [
           "Polson, Montana",
           "36094 Memory LanePolson, MontanaUnited States"
          ],
          [
           "Brownsville, Tennessee",
           "121 Sunny Hill CoveBrownsville, TennesseeUnited States"
          ],
          [
           "Milwaukee, Wisconsin",
           "700 N. Art Museum Dr.Milwaukee, Wisconsin, 53202United States"
          ],
          [
           "Bozeman, Montana",
           "2023 Stadium DrSuite 1ABozeman, Montana, 59715United States"
          ],
          [
           "Sandia Park, New Mexico",
           "121 Sandia Crest RoadSandia Park, New Mexico, 87047United States"
          ],
          [
           "Irwin, Pennsylvania",
           "9061 U.S. 30Irwin, Pennsylvania, 15642United States"
          ],
          [
           "Friday Harbor, Washington",
           "62 First St. N.Friday Harbor, Washington, 98250United States"
          ],
          [
           "Orlando, Florida",
           "8441 International Dr.Suite 250Orlando, FloridaUnited States"
          ],
          [
           "Savannah, Georgia",
           "209 W. St. Julian StreetSavannah, GeorgiaUnited States"
          ],
          [
           "Memphis, Tennessee",
           "Stax Museum of American Soul Music926 E McLemore AvenueMemphis, Tennessee, 38106United States"
          ],
          [
           "Reno, Nevada",
           "1595 N Sierra StReno, NevadaUnited States"
          ],
          [
           "Orlando, Florida",
           "14901 S Orange Blossom TrailOrlando, FloridaUnited States"
          ],
          [
           "Chicago, Illinois",
           "230 South LaSalle StreetChicago, Illinois, 60604United States"
          ],
          [
           "Silver Spring, Maryland",
           "2500 Linden LnSilver Spring, Maryland, 20910United States"
          ],
          [
           "Laconia, New Hampshire",
           "579 Endicott Street NorthLaconia, New Hampshire, 03246United States"
          ],
          [
           "Cave City, Kentucky",
           "409 E Happy Valley StCave City, KentuckyUnited States"
          ],
          [
           "Walla Walla, Washington",
           "4 & 1/2 West Main StreetWalla Walla, WashingtonUnited States"
          ],
          [
           "Alamogordo, New Mexico",
           "3198 State Route 2001Alamogordo, New Mexico, 88310United States"
          ],
          [
           "New Orleans, Louisiana",
           "823 Royal StreetNew Orleans, Louisiana, 70116United States"
          ],
          [
           "Staten Island, New York",
           "Dongan HillsStaten Island, New YorkUnited States"
          ],
          [
           "San Francisco, California",
           "2450 Sutter StThird FloorSan Francisco, California, 94115United States"
          ],
          [
           "Fort Worth, Texas",
           "1720 Gendy St.Fort Worth, Texas, 76107United States"
          ],
          [
           "Indianapolis, Indiana",
           "1043 Virginia AvenueSuite 208Indianapolis, IndianaUnited States"
          ],
          [
           "Minneapolis, Minnesota",
           "333 East River ParkwayMinneapolis, Minnesota, 55455United States"
          ],
          [
           "Austin, Texas",
           "Museum of the Weird412 E 6th St.Austin, Texas, 78701United States"
          ],
          [
           "Munich, Germany",
           "Neuhauser Straße 2Munich, 80331Germany"
          ],
          [
           "New Orleans, Louisiana",
           "929 Camp StreetNew Orleans, Louisiana, 70130United States"
          ],
          [
           "Lynchburg, Virginia",
           "301 Monroe StLynchburg, Virginia, 24504United States"
          ],
          [
           "San Antonio, Texas",
           "318 E. Houston StreetSan Antonio, TexasUnited States"
          ],
          [
           "Sylva, North Carolina",
           "Old School Antique Mall4704 US-441Sylva, North CarolinaUnited States"
          ],
          [
           "Saint Paul, Minnesota",
           "120 W Kellogg BoulevardSaint Paul, Minnesota, 55102United States"
          ],
          [
           "Waco, Texas",
           "300 S. 5th St.Waco, Texas, 76701United States"
          ],
          [
           "Kansas City, Missouri",
           "4525 Oak St.Kansas City, Missouri, 64111United States"
          ],
          [
           "Cincinnati, Ohio",
           "2511 Essex PlaceCincinnati, Ohio, 45206United States"
          ],
          [
           "Atlanta, Georgia",
           "1600 Clifton RdAtlanta, Georgia, 30329United States"
          ],
          [
           "Mexico City, Mexico",
           "303 Blvd. Miguel de Cervantes SaavedraMexico City, 11529Mexico"
          ],
          [
           "Amsterdam, Netherlands",
           "497 HerengrachtAmsterdamNetherlands"
          ],
          [
           "Baltimore, Maryland",
           "301 W Camden StBaltimore, Maryland, 21201United States"
          ],
          [
           "Overton, Nevada",
           "721 South Moapa Valley BoulevardOverton, Nevada, 89040United States"
          ],
          [
           "Danville, Virginia",
           "3321 N Main StreetDanville, Virginia, 24540United States"
          ],
          [
           "London, England",
           "100 London RdForest HillLondon, England, SE23 3PQUnited Kingdom"
          ],
          [
           "Chicago, Illinois",
           "600 E Grand AveChicago, IllinoisUnited States"
          ],
          [
           "Roanoke, Virginia",
           "One Market Square SERoanoke Pinball MuseumRoanoke, VirginiaUnited States"
          ],
          [
           "Fremont, California",
           "37417 Niles BlvdFremont, California, 94536United States"
          ],
          [
           "Fredericksburg, Texas",
           "340 East Main StreetFredericksburg, Texas, 78624United States"
          ],
          [
           "Chicago, Illinois",
           "Chicago, Illinois, 60603United States"
          ],
          [
           "Bardstown, Kentucky",
           "114 North 5th StreetBardstown, Kentucky, 40004United States"
          ],
          [
           "New Orleans, Louisiana",
           "945 Magazine StreetNew Orleans, Louisiana, 70130United States"
          ],
          [
           "Fort Meade, Maryland",
           "Canine RoadFort Meade, Maryland, 20755United States"
          ],
          [
           "Cambridge, Massachusetts",
           "26 Oxford StreetCambridge, Massachusetts, 02138United States"
          ],
          [
           "Bangkok, Thailand",
           "Siriraj Sub-District, Bangkoknoi DistrictBangkok, 10700Thailand"
          ]
         ],
         "hovertemplate": "<b>%{hovertext}</b><br><br>numPeopleVisited=%{marker.size}<br>placeAlt=%{lat}<br>placeLong=%{lon}<br>placeTags=%{customdata[0]}<br>placeAddress=%{customdata[1]}<br>Similarity=%{marker.color}<extra></extra>",
         "hovertext": [
          "Smithsonian Sushi Collection",
          "Tamástslikt Cultural Institute",
          "Mercer Museum and Fonthill Castle",
          "Oak Ridge \"The Secret City\"",
          "Off the Rez Cafe",
          "Zippo/Case Museum",
          "The Oldest Fence in New York",
          "Gillette Castle State Park",
          "The Barnes Foundation",
          "Blue Mustang",
          "Birthplace of the Banana Split",
          "Albertine",
          "Fraunces Tavern",
          "The Athenian Agora",
          "Jesse James Home Museum",
          "Baldwin's Book Barn",
          "Old Trapper's Lodge Statues",
          "The Monty Python Foot",
          "Newberry Library Postcard Collection",
          "Harriet Beecher Stowe, Slavery to Freedom Museum",
          "Warther Museum",
          "Old Stone Fort",
          "Moogseum",
          "Lake Placid Murals",
          "Mildred E. Mathias Botanical Garden",
          "Hitler's Olympic Village",
          "Basilica of Saint Lawrence, Asheville",
          "David Adickes Studio",
          "American Museum of Western Art",
          "Aria Antiques",
          "Chimney Rock",
          "Bart Prince Residence and Studio",
          "V. C. Morris Gift Shop",
          "Chuck Berry's House",
          "Mitsitam Native Foods Cafe",
          "Double Negative",
          "Felicity, California: Center of the World",
          "Hall of Heroes",
          "Brasstown Bald",
          "The Hobo Museum",
          "Grace Hopper's Bug",
          "Dyckman Farmhouse",
          "French Azilum",
          "Dighton Rock",
          "Idaho City",
          "Old Slave Mart",
          "Peden's Cave",
          "Gullah Heritage Trail",
          "Awat'ovi Ruins",
          "The Grave of Miss Baker",
          "Jekyll Island Club",
          "Friendship Park",
          "Dumbarton Oaks",
          "Uncommon Objects",
          "The Carson Mansion",
          "Petra",
          "'Unsinkable' Molly Brown House",
          "Zwack Unicum Museum",
          "Unto These Hills Cherokee Theatre",
          "Laurinburg-Maxton Aircraft Boneyard",
          "SAM 26000",
          "Old Charleston City Jail",
          "Governors Island",
          "Grave of Ed Gein",
          "Museum of Whimsy",
          "Castle Post",
          "World's Largest Slinky",
          "Weldon Spring Disposal Site",
          "Abandoned Comet Diner",
          "Hamilton Grange",
          "The Liberty Bell Hiding Place",
          "De Vargas Street House",
          "American Space Museum",
          "99s Museum of Women Pilots",
          "Susanna Dickinson Museum",
          "Treasures of the Steamboat Arabia",
          "Trees of Mystery",
          "University of Arizona Mathematical Models Collection",
          "The Witch House of Salem",
          "Old Time Wooden Nickel Company",
          "Self-Taught Genius Gallery",
          "Indian Steps Museum",
          "National Watch and Clock Museum",
          "Kurt Vonnegut Memorial Library and Museum",
          "The American Kennel Club Museum of the Dog",
          "Maxwell Blade’s Odditorium and Curiosities Museum",
          "Carnegie Library of Washington, D.C.",
          "Batalion Comic Book Museum and Club",
          "Diego Rivera's Detroit Industry",
          "Pacific Pinball Museum",
          "Nathan Manilow Sculpture Park",
          "McNutt Sculpture Garden",
          "Flushing Meadows-Corona Park",
          "Joseph Allen Skinner Museum",
          "Madam C.J. Walker Museum & WERD Radio",
          "Banff Merman",
          "Gettysburg Cyclorama",
          "East Kong Yick Building at the Wing Luke Museum",
          "Moqui Cave",
          "World's Largest Cowboy Boots",
          "Early Television Museum",
          "Museum of Communism",
          "Miami Circle",
          "Cabaret Mechanical Theatre",
          "Metropolitan Pit Stop",
          "Titanic Memorial",
          "Mount Angel Abbey Museum",
          "Theodore Roosevelt Birthplace Museum",
          "Biosphere of Montreal",
          "The Wolfsonian-FIU",
          "A Christmas Story House and Museum",
          "American Museum of Magic",
          "The Spruce Goose",
          "The American Pigeon Museum",
          "U-505",
          "Media Archaeology Lab",
          "Berman Museum of World History",
          "The Throne of the Third Heaven of the Nations' Millennium General Assembly",
          "Studebaker National Museum",
          "Hugh Mercer Apothecary Shop",
          "Grave Creek Mound",
          "American Banjo Museum",
          "Chapultepec Castle",
          "Iolani Palace",
          "Museum of Chinese in America",
          "Renwick Gallery",
          "Crazy Horse Memorial",
          "Navajo Code Talkers Tribute",
          "Rugby Colony",
          "Martha, the Last Passenger Pigeon",
          "The Natural Bridge",
          "Moundville Archaeological Site",
          "Canyons of the Ancients",
          "Truth or Consequences",
          "Drayton Hall",
          "PsychoBarn",
          "Orchard House",
          "Gadsby's Tavern",
          "Hidden Cave at Grimes Point",
          "Cafe Ohlone",
          "Sergeant Stubby",
          "Rock Art Ranch",
          "The George Washington Masonic National Memorial",
          "Houdini's Grave",
          "Robert C. Williams Paper Museum",
          "Circus World Museum",
          "Cabot's Pueblo Museum",
          "American Writers Museum",
          "The Museum of Western Film History",
          "The Old Patent Model Museum",
          "Lunch Box Museum",
          "National Cookie Cutter Historical Museum",
          "Site of the Woolworth Lunch Counter Sit-in",
          "National Atomic Testing Museum",
          "Ignite Sign Art Museum",
          "Funk Gem and Mineral Museum",
          "Spongeorama Sponge Factory",
          "Museum of Mourning Art",
          "Evel Knievel Museum",
          "Antikythera Mechanism",
          "Philbrook Museum of Art",
          "Mansfield Memorial Museum",
          "The American Visionary Art Museum",
          "The Senator",
          "Cesare Lombroso's Museum of Criminal Anthropology",
          "Museum of the Eye",
          "Urology Museum",
          "National Building Museum",
          "Mayan Ruins on the Hudson",
          "The Wigwam Village #6",
          "Paul Revere Lantern",
          "Bare-Chested George Washington",
          "Topaz Museum",
          "The Buffalo Bill Museum and Grave",
          "National Cowboy and Western Heritage Museum",
          "Catoctin Furnace",
          "Murals of Maxo Vanka",
          "Pinson Mounds State Archeological Park",
          "Museum of the American Cocktail",
          "Cave Hill Cemetery",
          "Sweet Home Cafe",
          "Akin Free Library",
          "Cold War Museum",
          "Pianola Museum",
          "RV/MH Hall of Fame",
          "Museum of Natural and Other Curiosities",
          "Museum of Food and Drink",
          "Mothman Museum",
          "Glore Psychiatric Museum",
          "Maryhill Museum and Stonehenge",
          "Battle of Atlanta Cyclorama",
          "Silverball Museum Arcade",
          "Wonders of Wildlife Museum",
          "Miracle of America Museum",
          "Tina Turner Museum",
          "Milwaukee Art Museum",
          "American Computer Museum",
          "TinkerTown",
          "The Big Mac Museum",
          "Whale Museum",
          "Skeletons: Museum of Osteology",
          "American Prohibition Museum",
          "Isaac Hayes's Gold-Plated Cadillac",
          "Wilbur D. May Museum",
          "Tupperware Confidence Center",
          "Money Museum",
          "National Museum of Health and Medicine",
          "American Classic Arcade Museum",
          "Mammoth Cave Wildlife Museum",
          "Museum of Un-Natural History",
          "New Mexico Museum of Space History",
          "The Absinthe Museum",
          "Booze History Museum",
          "Museum of Russian Culture",
          "Cowgirl Hall of Fame",
          "Museum of Psychphonics",
          "Frederick R. Weisman Art Museum",
          "Museum of the Weird",
          "Deutsches Jagd und Fischereimuseum (German Museum of Hunting and Fishing)",
          "Louisiana’s Civil War Museum at Confederate Memorial Hall",
          "Museums at Old City Cemetery",
          "Buckhorn Saloon and Museum",
          "American Museum of the House Cat",
          "Museum of Quackery and Medical Frauds",
          "Dr Pepper Museum",
          "World's Largest Shuttlecocks",
          "Lucky Cat Museum",
          "CDC Museum",
          "Soumaya Museum",
          "KattenKabinet",
          "Geppi's Entertainment Museum",
          "Lost City Museum",
          "AAF Tank Museum",
          "Horniman Museum and Gardens",
          "Stained Glass at Navy Pier",
          "Roanoke Pinball Museum",
          "Niles Essanay Silent Film Museum",
          "National Museum of the Pacific War",
          "Thorne Miniature Rooms",
          "Oscar Getz Museum of Whiskey History",
          "National World War II Museum",
          "National Cryptologic Museum",
          "Harvard Museum of Natural History",
          "Siriraj Medical Museum"
         ],
         "lat": [
          38.8907,
          45.6537,
          40.3069,
          36.0089,
          47.6603,
          41.9434,
          40.7049,
          41.423,
          39.9605,
          39.8342,
          40.3169,
          40.7766,
          40.7034,
          37.9758,
          39.7558,
          39.9377,
          34.1847,
          51.5089,
          41.9,
          38.6153,
          40.5249,
          35.4862,
          35.5973,
          27.2977,
          34.0667,
          52.5366,
          35.5974,
          29.7688,
          39.7447,
          37.8011,
          41.7029,
          35.0849,
          37.7883,
          38.6643,
          38.8883,
          36.6175,
          32.7503,
          41.6522,
          34.8742,
          43.0964,
          38.8921,
          40.8673,
          41.7359,
          41.8082,
          43.8262,
          32.7778,
          55.505,
          32.2125,
          35.7833,
          34.7121,
          31.0594,
          32.5444,
          38.9142,
          30.2291,
          40.8053,
          30.3285,
          39.7375,
          47.4759,
          35.4843,
          34.7962,
          39.7824,
          32.7785,
          40.6904,
          44.2167,
          46.1881,
          38.0448,
          40.124,
          38.6979,
          41.7673,
          40.8215,
          40.6023,
          35.6836,
          28.6105,
          35.4062,
          30.2657,
          39.1094,
          41.5046,
          32.2296,
          42.5215,
          29.4565,
          40.7409,
          39.8634,
          40.037,
          39.7755,
          40.7507,
          34.5087,
          38.9027,
          50.0835,
          42.3594,
          37.7737,
          41.4493,
          29.4229,
          40.7462,
          42.2628,
          33.7558,
          51.1722,
          39.8112,
          47.5982,
          37.1211,
          29.518,
          40.0345,
          50.0879,
          25.7694,
          51.5197,
          34.1675,
          38.872,
          45.0553,
          40.7388,
          45.519,
          25.781,
          41.4687,
          42.2721,
          45.2039,
          35.5361,
          41.7906,
          40.0113,
          33.6949,
          38.898,
          41.6746,
          38.3041,
          39.9166,
          35.4668,
          19.4204,
          21.3068,
          40.7194,
          38.899,
          43.8368,
          33.4802,
          36.3611,
          38.8912,
          37.6282,
          33.0027,
          37.4763,
          33.1284,
          32.8682,
          51.5089,
          42.4591,
          38.8055,
          39.4068,
          37.8683,
          38.8913,
          34.8748,
          38.8075,
          40.6935,
          33.781,
          43.4838,
          33.958,
          41.8856,
          36.6008,
          38.8981,
          32.4944,
          37.0873,
          36.0717,
          36.1141,
          32.2182,
          40.3877,
          28.1558,
          39.9559,
          39.0302,
          37.9892,
          36.1242,
          40.7587,
          39.2801,
          28.7208,
          45.0494,
          37.8067,
          39.2098,
          38.8978,
          42.032,
          34.9027,
          42.4577,
          38.8913,
          39.3521,
          39.7333,
          35.5357,
          39.5812,
          40.477,
          35.504,
          29.9408,
          38.2454,
          38.8911,
          41.5589,
          38.743,
          52.3785,
          41.7293,
          41.7658,
          40.7188,
          38.8428,
          39.7769,
          45.6775,
          33.8418,
          40.2207,
          37.1815,
          47.6807,
          35.5406,
          43.0385,
          45.659,
          35.1689,
          40.3207,
          48.5358,
          28.4426,
          32.0806,
          35.1156,
          39.5457,
          28.3467,
          41.8787,
          39.0087,
          43.613,
          37.1269,
          46.0668,
          32.9216,
          29.9593,
          40.5907,
          37.7878,
          32.743,
          39.7528,
          44.9718,
          30.267,
          48.1385,
          29.9432,
          37.4147,
          29.4262,
          35.319,
          44.9435,
          31.5551,
          39.0451,
          39.1271,
          33.799,
          19.4406,
          52.3656,
          39.2836,
          36.5315,
          36.6432,
          51.441,
          41.8917,
          37.2715,
          37.5771,
          30.2727,
          41.8796,
          37.8101,
          29.943,
          39.1117,
          42.3789,
          13.7588
         ],
         "legendgroup": "",
         "lon": [
          -77.03,
          -118.6634,
          -75.1283,
          -84.2571,
          -122.3116,
          -78.6509,
          -74.0137,
          -72.4284,
          -75.1726,
          -104.6759,
          -79.3852,
          -73.9637,
          -74.0114,
          23.7247,
          -94.8451,
          -75.6119,
          -118.5862,
          -0.1283,
          -87.6301,
          -83.8087,
          -81.4884,
          -86.102,
          -82.5522,
          -81.3643,
          -118.4415,
          13.0105,
          -82.5563,
          -95.3454,
          -104.9881,
          -122.4075,
          -103.3486,
          -106.6067,
          -122.4059,
          -90.2313,
          -77.0165,
          -114.3447,
          -114.7653,
          -85.9949,
          -83.8107,
          -93.8014,
          -77.032,
          -73.9229,
          -76.3117,
          -71.1022,
          -115.8325,
          -79.9284,
          -4.441,
          -80.742,
          -110.5035,
          -86.6504,
          -81.4222,
          -117.0932,
          -77.0639,
          -97.783,
          -124.1584,
          35.4427,
          -104.9808,
          19.0697,
          -83.3156,
          -79.3695,
          -84.1094,
          -79.9372,
          -74.0164,
          -89.5209,
          -123.83,
          -84.6566,
          -75.4536,
          -90.7284,
          -72.6974,
          -73.9467,
          -75.4704,
          -105.9374,
          -80.8087,
          -97.5994,
          -97.7389,
          -94.5815,
          -124.0706,
          -110.9531,
          -70.8989,
          -98.4563,
          -73.9334,
          -76.3755,
          -76.5022,
          -86.1663,
          -73.9779,
          -93.0539,
          -77.0229,
          14.4222,
          -83.0645,
          -122.2767,
          -87.7136,
          -98.4888,
          -73.8445,
          -72.5724,
          -84.3767,
          -115.5721,
          -77.2247,
          -122.3229,
          -112.564,
          -98.4975,
          -83.1616,
          14.4301,
          -80.1899,
          -0.1169,
          -118.3963,
          -77.0193,
          -122.771,
          -73.9889,
          -73.5342,
          -80.1324,
          -81.6873,
          -84.9586,
          -123.1433,
          -97.4703,
          -87.5831,
          -105.2755,
          -85.8191,
          -77.023,
          -86.2618,
          -77.4599,
          -80.7433,
          -97.5115,
          -99.1819,
          -157.8587,
          -73.9991,
          -77.0391,
          -103.6244,
          -112.0734,
          -84.7024,
          -77.026,
          -79.5447,
          -87.628,
          -108.5459,
          -107.2528,
          -80.0821,
          -0.1393,
          -71.335,
          -77.0435,
          -118.627,
          -122.2607,
          -77.0296,
          -110.4594,
          -77.0659,
          -73.8848,
          -84.4046,
          -89.7583,
          -116.4815,
          -87.6249,
          -118.0617,
          -77.0225,
          -84.9796,
          -94.5496,
          -79.7907,
          -115.1484,
          -110.9407,
          -89.0597,
          -82.7588,
          -75.2971,
          -95.6835,
          23.7325,
          -95.9701,
          -82.5105,
          -76.6068,
          -81.3313,
          7.6793,
          -122.4198,
          -76.6724,
          -77.0175,
          -73.9287,
          -110.1688,
          -71.3423,
          -77.0299,
          -112.5762,
          -105.2386,
          -97.4833,
          -77.4344,
          -79.9696,
          -88.6908,
          -90.0791,
          -85.7148,
          -77.0326,
          -73.5491,
          -77.6763,
          4.8835,
          -85.8802,
          -72.6733,
          -73.9496,
          -82.1386,
          -94.8147,
          -120.8648,
          -84.3863,
          -73.9999,
          -93.2964,
          -114.116,
          -89.2461,
          -87.8975,
          -111.0548,
          -106.3659,
          -79.6922,
          -123.0172,
          -81.4691,
          -81.0946,
          -90.0313,
          -119.824,
          -81.4022,
          -87.6323,
          -77.0531,
          -71.4775,
          -85.9612,
          -118.3398,
          -105.9206,
          -90.0641,
          -74.0885,
          -122.4382,
          -97.3685,
          -86.141,
          -93.2374,
          -97.7387,
          11.5714,
          -90.0712,
          -79.156,
          -98.489,
          -83.2632,
          -93.0957,
          -97.1294,
          -94.581,
          -84.4984,
          -84.3297,
          -99.2047,
          4.8916,
          -76.6197,
          -114.4409,
          -79.3824,
          -0.061,
          -87.6085,
          -79.9395,
          -121.9801,
          -98.8673,
          -87.6237,
          -85.4702,
          -90.0704,
          -76.7711,
          -71.1152,
          100.4851
         ],
         "marker": {
          "color": [
           0.9992961927266072,
           0.9954441973346007,
           0.9954441973346007,
           0.9954441973346005,
           0.9954441973346005,
           0.9954441973346004,
           0.9953668450417629,
           0.9953668450417629,
           0.9953668450417629,
           0.9953668450417629,
           0.9953668450417629,
           0.9953668450417629,
           0.9953668450417628,
           0.9953668450417628,
           0.9953668450417628,
           0.9953668450417628,
           0.9953668450417628,
           0.9953668450417628,
           0.9953668450417628,
           0.9953668450417628,
           0.9953668450417628,
           0.9953668450417628,
           0.9953668450417628,
           0.9953668450417626,
           0.9953668450417626,
           0.9953668450417626,
           0.9953668450417626,
           0.9953668450417626,
           0.9953668450417626,
           0.9953668450417626,
           0.9953668450417626,
           0.9953668450417626,
           0.9953668450417626,
           0.9953668450417626,
           0.9953668450417626,
           0.9953668450417626,
           0.9953668450417626,
           0.9953668450417626,
           0.9953668450417626,
           0.9953668450417626,
           0.9953668450417626,
           0.9953668450417626,
           0.9953668450417626,
           0.9953668450417626,
           0.9953668450417626,
           0.9953668450417626,
           0.9953668450417626,
           0.9953668450417626,
           0.9953668450417626,
           0.9953668450417626,
           0.9953668450417626,
           0.9953668450417626,
           0.9953668450417626,
           0.9953668450417626,
           0.9953668450417626,
           0.9953668450417626,
           0.9953668450417626,
           0.9953668450417625,
           0.9953668450417625,
           0.9953668450417625,
           0.9953668450417625,
           0.9953668450417625,
           0.9953668450417625,
           0.9953668450417625,
           0.9953668450417625,
           0.9953668450417625,
           0.9953668450417625,
           0.9953668450417625,
           0.9953668450417625,
           0.9953668450417625,
           0.9953668450417625,
           0.9953668450417624,
           0.9953668450417624,
           0.9953668450417624,
           0.9953668450417624,
           0.9953668450417624,
           0.9953668450417624,
           0.9953668450417624,
           0.9953668450417624,
           0.9890618270880841,
           0.9851703917028781,
           0.9773695784908962,
           0.9716263436008302,
           0.9716263436008302,
           0.9716263436008302,
           0.9716263436008302,
           0.9716263436008302,
           0.9716263436008301,
           0.9716263436008301,
           0.9716263436008301,
           0.9716263436008301,
           0.9716263436008301,
           0.9716263436008301,
           0.9716263436008301,
           0.9716263436008301,
           0.9716263436008301,
           0.9716263436008301,
           0.9716263436008301,
           0.9716263436008301,
           0.9716263436008301,
           0.9716263436008301,
           0.9716263436008301,
           0.9716263436008301,
           0.9716263436008301,
           0.97162634360083,
           0.97162634360083,
           0.97162634360083,
           0.97162634360083,
           0.97162634360083,
           0.97162634360083,
           0.97162634360083,
           0.97162634360083,
           0.97162634360083,
           0.97162634360083,
           0.97162634360083,
           0.97162634360083,
           0.97162634360083,
           0.97162634360083,
           0.9716263436008299,
           0.9716263436008299,
           0.9716263436008299,
           0.9716263436008299,
           0.9676169370167181,
           0.967616937016718,
           0.9676169370167179,
           0.958284896410902,
           0.9582848964109018,
           0.9415839288122951,
           0.9415839288122951,
           0.9415839288122951,
           0.941583928812295,
           0.941583928812295,
           0.941583928812295,
           0.9415839288122949,
           0.9415839288122949,
           0.9415839288122949,
           0.9415839288122949,
           0.9415839288122949,
           0.9415839288122949,
           0.9415839288122949,
           0.9415839288122949,
           0.9415839288122948,
           0.9415839288122948,
           0.9415839288122948,
           0.9407921519144938,
           0.9407921519144936,
           0.9407921519144936,
           0.9407921519144935,
           0.930372869508749,
           0.930372869508749,
           0.9101575035929647,
           0.9101575035929645,
           0.9101575035929645,
           0.9101575035929645,
           0.9101575035929645,
           0.9101575035929645,
           0.9101575035929645,
           0.9101575035929645,
           0.9101575035929644,
           0.9101575035929644,
           0.9101575035929644,
           0.9101575035929644,
           0.9101575035929643,
           0.9101575035929643,
           0.9101575035929643,
           0.9101575035929643,
           0.9101575035929642,
           0.9101575035929642,
           0.9061630862545355,
           0.9061630862545355,
           0.9061630862545355,
           0.9061630862545355,
           0.9061630862545353,
           0.9061630862545352,
           0.8911860095093798,
           0.8848163327479791,
           0.8848163327479791,
           0.884816332747979,
           0.882239897241415,
           0.8708552868478219,
           0.8655678127742308,
           0.8576170731934141,
           0.857617073193414,
           0.857617073193414,
           0.857617073193414,
           0.857617073193414,
           0.857617073193414,
           0.857617073193414,
           0.8576170731934138,
           0.8576170731934138,
           0.8576170731934138,
           0.8576170731934138,
           0.8576170731934137,
           0.8576170731934137,
           0.8576170731934137,
           0.8361467671152646,
           0.8361467671152644,
           0.8174621926039833,
           0.8174621926039833,
           0.8174621926039833,
           0.8174621926039832,
           0.8174621926039832,
           0.8174621926039832,
           0.8174621926039832,
           0.8174621926039832,
           0.8174621926039832,
           0.8174621926039832,
           0.8174621926039832,
           0.8174621926039831,
           0.8174621926039831,
           0.8174621926039831,
           0.8174621926039831,
           0.8174621926039831,
           0.817462192603983,
           0.817462192603983,
           0.817462192603983,
           0.801162645240575,
           0.7961945133070216,
           0.7868806714069512,
           0.7868806714069511,
           0.7868806714069511,
           0.7868806714069511,
           0.7868806714069511,
           0.7868806714069511,
           0.7868806714069511,
           0.7868806714069511,
           0.786880671406951,
           0.7868806714069508,
           0.7631581784399245,
           0.7631581784399244,
           0.7631581784399243,
           0.7631581784399243,
           0.7631581784399243,
           0.7631581784399243,
           0.7631581784399243,
           0.7631581784399243,
           0.7443522597144774,
           0.7443522597144774,
           0.7443522597144774,
           0.7443522597144774,
           0.7291364447072712,
           0.7291364447072711,
           0.7166008418267997,
           0.6895677372644814
          ],
          "coloraxis": "coloraxis",
          "size": [
           117,
           107,
           776,
           579,
           193,
           222,
           566,
           891,
           1101,
           3489,
           168,
           315,
           1180,
           1569,
           328,
           425,
           165,
           454,
           181,
           75,
           270,
           175,
           173,
           180,
           199,
           182,
           419,
           402,
           322,
           113,
           523,
           271,
           303,
           203,
           747,
           83,
           231,
           139,
           696,
           110,
           110,
           199,
           134,
           136,
           308,
           1318,
           42,
           181,
           56,
           333,
           557,
           233,
           489,
           1461,
           592,
           1070,
           1051,
           198,
           454,
           84,
           609,
           662,
           1403,
           167,
           81,
           667,
           112,
           232,
           243,
           369,
           146,
           558,
           314,
           101,
           175,
           832,
           991,
           101,
           3161,
           136,
           51,
           119,
           196,
           265,
           146,
           129,
           501,
           288,
           965,
           354,
           103,
           213,
           1373,
           76,
           145,
           306,
           1634,
           230,
           123,
           806,
           102,
           738,
           310,
           116,
           44,
           463,
           268,
           369,
           1545,
           333,
           959,
           174,
           544,
           136,
           2054,
           101,
           184,
           538,
           247,
           313,
           390,
           187,
           880,
           961,
           197,
           1268,
           2595,
           298,
           238,
           513,
           1719,
           386,
           447,
           859,
           503,
           98,
           369,
           463,
           71,
           55,
           581,
           123,
           638,
           254,
           135,
           783,
           133,
           179,
           204,
           503,
           157,
           114,
           366,
           1093,
           131,
           71,
           636,
           53,
           129,
           478,
           442,
           127,
           1360,
           342,
           133,
           74,
           55,
           1378,
           41,
           817,
           184,
           1148,
           117,
           1252,
           588,
           358,
           156,
           177,
           297,
           641,
           191,
           41,
           110,
           168,
           191,
           235,
           127,
           681,
           383,
           942,
           1112,
           506,
           354,
           136,
           122,
           1647,
           124,
           496,
           209,
           275,
           214,
           364,
           316,
           131,
           170,
           438,
           356,
           468,
           170,
           69,
           407,
           336,
           52,
           106,
           389,
           118,
           892,
           1011,
           217,
           297,
           168,
           741,
           143,
           370,
           811,
           1493,
           256,
           449,
           511,
           615,
           254,
           181,
           109,
           743,
           1445,
           232,
           148,
           488,
           1495,
           135,
           1378,
           320,
           1003,
           246
          ],
          "sizemode": "area",
          "sizeref": 8.7225
         },
         "mode": "markers",
         "name": "",
         "showlegend": false,
         "subplot": "mapbox",
         "type": "scattermapbox"
        }
       ],
       "layout": {
        "coloraxis": {
         "colorbar": {
          "title": {
           "text": "Similarity"
          }
         },
         "colorscale": [
          [
           0,
           "#440154"
          ],
          [
           0.1111111111111111,
           "#482878"
          ],
          [
           0.2222222222222222,
           "#3e4989"
          ],
          [
           0.3333333333333333,
           "#31688e"
          ],
          [
           0.4444444444444444,
           "#26828e"
          ],
          [
           0.5555555555555556,
           "#1f9e89"
          ],
          [
           0.6666666666666666,
           "#35b779"
          ],
          [
           0.7777777777777778,
           "#6ece58"
          ],
          [
           0.8888888888888888,
           "#b5de2b"
          ],
          [
           1,
           "#fde725"
          ]
         ]
        },
        "height": 500,
        "legend": {
         "itemsizing": "constant",
         "tracegroupgap": 0
        },
        "mapbox": {
         "center": {
          "lat": 38.359770491803275,
          "lon": -83.64035122950827
         },
         "domain": {
          "x": [
           0,
           1
          ],
          "y": [
           0,
           1
          ]
         },
         "style": "open-street-map",
         "zoom": 4
        },
        "margin": {
         "b": 0,
         "l": 0,
         "r": 0,
         "t": 0
        },
        "template": {
         "data": {
          "bar": [
           {
            "error_x": {
             "color": "#2a3f5f"
            },
            "error_y": {
             "color": "#2a3f5f"
            },
            "marker": {
             "line": {
              "color": "#E5ECF6",
              "width": 0.5
             },
             "pattern": {
              "fillmode": "overlay",
              "size": 10,
              "solidity": 0.2
             }
            },
            "type": "bar"
           }
          ],
          "barpolar": [
           {
            "marker": {
             "line": {
              "color": "#E5ECF6",
              "width": 0.5
             },
             "pattern": {
              "fillmode": "overlay",
              "size": 10,
              "solidity": 0.2
             }
            },
            "type": "barpolar"
           }
          ],
          "carpet": [
           {
            "aaxis": {
             "endlinecolor": "#2a3f5f",
             "gridcolor": "white",
             "linecolor": "white",
             "minorgridcolor": "white",
             "startlinecolor": "#2a3f5f"
            },
            "baxis": {
             "endlinecolor": "#2a3f5f",
             "gridcolor": "white",
             "linecolor": "white",
             "minorgridcolor": "white",
             "startlinecolor": "#2a3f5f"
            },
            "type": "carpet"
           }
          ],
          "choropleth": [
           {
            "colorbar": {
             "outlinewidth": 0,
             "ticks": ""
            },
            "type": "choropleth"
           }
          ],
          "contour": [
           {
            "colorbar": {
             "outlinewidth": 0,
             "ticks": ""
            },
            "colorscale": [
             [
              0,
              "#0d0887"
             ],
             [
              0.1111111111111111,
              "#46039f"
             ],
             [
              0.2222222222222222,
              "#7201a8"
             ],
             [
              0.3333333333333333,
              "#9c179e"
             ],
             [
              0.4444444444444444,
              "#bd3786"
             ],
             [
              0.5555555555555556,
              "#d8576b"
             ],
             [
              0.6666666666666666,
              "#ed7953"
             ],
             [
              0.7777777777777778,
              "#fb9f3a"
             ],
             [
              0.8888888888888888,
              "#fdca26"
             ],
             [
              1,
              "#f0f921"
             ]
            ],
            "type": "contour"
           }
          ],
          "contourcarpet": [
           {
            "colorbar": {
             "outlinewidth": 0,
             "ticks": ""
            },
            "type": "contourcarpet"
           }
          ],
          "heatmap": [
           {
            "colorbar": {
             "outlinewidth": 0,
             "ticks": ""
            },
            "colorscale": [
             [
              0,
              "#0d0887"
             ],
             [
              0.1111111111111111,
              "#46039f"
             ],
             [
              0.2222222222222222,
              "#7201a8"
             ],
             [
              0.3333333333333333,
              "#9c179e"
             ],
             [
              0.4444444444444444,
              "#bd3786"
             ],
             [
              0.5555555555555556,
              "#d8576b"
             ],
             [
              0.6666666666666666,
              "#ed7953"
             ],
             [
              0.7777777777777778,
              "#fb9f3a"
             ],
             [
              0.8888888888888888,
              "#fdca26"
             ],
             [
              1,
              "#f0f921"
             ]
            ],
            "type": "heatmap"
           }
          ],
          "heatmapgl": [
           {
            "colorbar": {
             "outlinewidth": 0,
             "ticks": ""
            },
            "colorscale": [
             [
              0,
              "#0d0887"
             ],
             [
              0.1111111111111111,
              "#46039f"
             ],
             [
              0.2222222222222222,
              "#7201a8"
             ],
             [
              0.3333333333333333,
              "#9c179e"
             ],
             [
              0.4444444444444444,
              "#bd3786"
             ],
             [
              0.5555555555555556,
              "#d8576b"
             ],
             [
              0.6666666666666666,
              "#ed7953"
             ],
             [
              0.7777777777777778,
              "#fb9f3a"
             ],
             [
              0.8888888888888888,
              "#fdca26"
             ],
             [
              1,
              "#f0f921"
             ]
            ],
            "type": "heatmapgl"
           }
          ],
          "histogram": [
           {
            "marker": {
             "pattern": {
              "fillmode": "overlay",
              "size": 10,
              "solidity": 0.2
             }
            },
            "type": "histogram"
           }
          ],
          "histogram2d": [
           {
            "colorbar": {
             "outlinewidth": 0,
             "ticks": ""
            },
            "colorscale": [
             [
              0,
              "#0d0887"
             ],
             [
              0.1111111111111111,
              "#46039f"
             ],
             [
              0.2222222222222222,
              "#7201a8"
             ],
             [
              0.3333333333333333,
              "#9c179e"
             ],
             [
              0.4444444444444444,
              "#bd3786"
             ],
             [
              0.5555555555555556,
              "#d8576b"
             ],
             [
              0.6666666666666666,
              "#ed7953"
             ],
             [
              0.7777777777777778,
              "#fb9f3a"
             ],
             [
              0.8888888888888888,
              "#fdca26"
             ],
             [
              1,
              "#f0f921"
             ]
            ],
            "type": "histogram2d"
           }
          ],
          "histogram2dcontour": [
           {
            "colorbar": {
             "outlinewidth": 0,
             "ticks": ""
            },
            "colorscale": [
             [
              0,
              "#0d0887"
             ],
             [
              0.1111111111111111,
              "#46039f"
             ],
             [
              0.2222222222222222,
              "#7201a8"
             ],
             [
              0.3333333333333333,
              "#9c179e"
             ],
             [
              0.4444444444444444,
              "#bd3786"
             ],
             [
              0.5555555555555556,
              "#d8576b"
             ],
             [
              0.6666666666666666,
              "#ed7953"
             ],
             [
              0.7777777777777778,
              "#fb9f3a"
             ],
             [
              0.8888888888888888,
              "#fdca26"
             ],
             [
              1,
              "#f0f921"
             ]
            ],
            "type": "histogram2dcontour"
           }
          ],
          "mesh3d": [
           {
            "colorbar": {
             "outlinewidth": 0,
             "ticks": ""
            },
            "type": "mesh3d"
           }
          ],
          "parcoords": [
           {
            "line": {
             "colorbar": {
              "outlinewidth": 0,
              "ticks": ""
             }
            },
            "type": "parcoords"
           }
          ],
          "pie": [
           {
            "automargin": true,
            "type": "pie"
           }
          ],
          "scatter": [
           {
            "marker": {
             "colorbar": {
              "outlinewidth": 0,
              "ticks": ""
             }
            },
            "type": "scatter"
           }
          ],
          "scatter3d": [
           {
            "line": {
             "colorbar": {
              "outlinewidth": 0,
              "ticks": ""
             }
            },
            "marker": {
             "colorbar": {
              "outlinewidth": 0,
              "ticks": ""
             }
            },
            "type": "scatter3d"
           }
          ],
          "scattercarpet": [
           {
            "marker": {
             "colorbar": {
              "outlinewidth": 0,
              "ticks": ""
             }
            },
            "type": "scattercarpet"
           }
          ],
          "scattergeo": [
           {
            "marker": {
             "colorbar": {
              "outlinewidth": 0,
              "ticks": ""
             }
            },
            "type": "scattergeo"
           }
          ],
          "scattergl": [
           {
            "marker": {
             "colorbar": {
              "outlinewidth": 0,
              "ticks": ""
             }
            },
            "type": "scattergl"
           }
          ],
          "scattermapbox": [
           {
            "marker": {
             "colorbar": {
              "outlinewidth": 0,
              "ticks": ""
             }
            },
            "type": "scattermapbox"
           }
          ],
          "scatterpolar": [
           {
            "marker": {
             "colorbar": {
              "outlinewidth": 0,
              "ticks": ""
             }
            },
            "type": "scatterpolar"
           }
          ],
          "scatterpolargl": [
           {
            "marker": {
             "colorbar": {
              "outlinewidth": 0,
              "ticks": ""
             }
            },
            "type": "scatterpolargl"
           }
          ],
          "scatterternary": [
           {
            "marker": {
             "colorbar": {
              "outlinewidth": 0,
              "ticks": ""
             }
            },
            "type": "scatterternary"
           }
          ],
          "surface": [
           {
            "colorbar": {
             "outlinewidth": 0,
             "ticks": ""
            },
            "colorscale": [
             [
              0,
              "#0d0887"
             ],
             [
              0.1111111111111111,
              "#46039f"
             ],
             [
              0.2222222222222222,
              "#7201a8"
             ],
             [
              0.3333333333333333,
              "#9c179e"
             ],
             [
              0.4444444444444444,
              "#bd3786"
             ],
             [
              0.5555555555555556,
              "#d8576b"
             ],
             [
              0.6666666666666666,
              "#ed7953"
             ],
             [
              0.7777777777777778,
              "#fb9f3a"
             ],
             [
              0.8888888888888888,
              "#fdca26"
             ],
             [
              1,
              "#f0f921"
             ]
            ],
            "type": "surface"
           }
          ],
          "table": [
           {
            "cells": {
             "fill": {
              "color": "#EBF0F8"
             },
             "line": {
              "color": "white"
             }
            },
            "header": {
             "fill": {
              "color": "#C8D4E3"
             },
             "line": {
              "color": "white"
             }
            },
            "type": "table"
           }
          ]
         },
         "layout": {
          "annotationdefaults": {
           "arrowcolor": "#2a3f5f",
           "arrowhead": 0,
           "arrowwidth": 1
          },
          "autotypenumbers": "strict",
          "coloraxis": {
           "colorbar": {
            "outlinewidth": 0,
            "ticks": ""
           }
          },
          "colorscale": {
           "diverging": [
            [
             0,
             "#8e0152"
            ],
            [
             0.1,
             "#c51b7d"
            ],
            [
             0.2,
             "#de77ae"
            ],
            [
             0.3,
             "#f1b6da"
            ],
            [
             0.4,
             "#fde0ef"
            ],
            [
             0.5,
             "#f7f7f7"
            ],
            [
             0.6,
             "#e6f5d0"
            ],
            [
             0.7,
             "#b8e186"
            ],
            [
             0.8,
             "#7fbc41"
            ],
            [
             0.9,
             "#4d9221"
            ],
            [
             1,
             "#276419"
            ]
           ],
           "sequential": [
            [
             0,
             "#0d0887"
            ],
            [
             0.1111111111111111,
             "#46039f"
            ],
            [
             0.2222222222222222,
             "#7201a8"
            ],
            [
             0.3333333333333333,
             "#9c179e"
            ],
            [
             0.4444444444444444,
             "#bd3786"
            ],
            [
             0.5555555555555556,
             "#d8576b"
            ],
            [
             0.6666666666666666,
             "#ed7953"
            ],
            [
             0.7777777777777778,
             "#fb9f3a"
            ],
            [
             0.8888888888888888,
             "#fdca26"
            ],
            [
             1,
             "#f0f921"
            ]
           ],
           "sequentialminus": [
            [
             0,
             "#0d0887"
            ],
            [
             0.1111111111111111,
             "#46039f"
            ],
            [
             0.2222222222222222,
             "#7201a8"
            ],
            [
             0.3333333333333333,
             "#9c179e"
            ],
            [
             0.4444444444444444,
             "#bd3786"
            ],
            [
             0.5555555555555556,
             "#d8576b"
            ],
            [
             0.6666666666666666,
             "#ed7953"
            ],
            [
             0.7777777777777778,
             "#fb9f3a"
            ],
            [
             0.8888888888888888,
             "#fdca26"
            ],
            [
             1,
             "#f0f921"
            ]
           ]
          },
          "colorway": [
           "#636efa",
           "#EF553B",
           "#00cc96",
           "#ab63fa",
           "#FFA15A",
           "#19d3f3",
           "#FF6692",
           "#B6E880",
           "#FF97FF",
           "#FECB52"
          ],
          "font": {
           "color": "#2a3f5f"
          },
          "geo": {
           "bgcolor": "white",
           "lakecolor": "white",
           "landcolor": "#E5ECF6",
           "showlakes": true,
           "showland": true,
           "subunitcolor": "white"
          },
          "hoverlabel": {
           "align": "left"
          },
          "hovermode": "closest",
          "mapbox": {
           "style": "light"
          },
          "paper_bgcolor": "white",
          "plot_bgcolor": "#E5ECF6",
          "polar": {
           "angularaxis": {
            "gridcolor": "white",
            "linecolor": "white",
            "ticks": ""
           },
           "bgcolor": "#E5ECF6",
           "radialaxis": {
            "gridcolor": "white",
            "linecolor": "white",
            "ticks": ""
           }
          },
          "scene": {
           "xaxis": {
            "backgroundcolor": "#E5ECF6",
            "gridcolor": "white",
            "gridwidth": 2,
            "linecolor": "white",
            "showbackground": true,
            "ticks": "",
            "zerolinecolor": "white"
           },
           "yaxis": {
            "backgroundcolor": "#E5ECF6",
            "gridcolor": "white",
            "gridwidth": 2,
            "linecolor": "white",
            "showbackground": true,
            "ticks": "",
            "zerolinecolor": "white"
           },
           "zaxis": {
            "backgroundcolor": "#E5ECF6",
            "gridcolor": "white",
            "gridwidth": 2,
            "linecolor": "white",
            "showbackground": true,
            "ticks": "",
            "zerolinecolor": "white"
           }
          },
          "shapedefaults": {
           "line": {
            "color": "#2a3f5f"
           }
          },
          "ternary": {
           "aaxis": {
            "gridcolor": "white",
            "linecolor": "white",
            "ticks": ""
           },
           "baxis": {
            "gridcolor": "white",
            "linecolor": "white",
            "ticks": ""
           },
           "bgcolor": "#E5ECF6",
           "caxis": {
            "gridcolor": "white",
            "linecolor": "white",
            "ticks": ""
           }
          },
          "title": {
           "x": 0.05
          },
          "xaxis": {
           "automargin": true,
           "gridcolor": "white",
           "linecolor": "white",
           "ticks": "",
           "title": {
            "standoff": 15
           },
           "zerolinecolor": "white",
           "zerolinewidth": 2
          },
          "yaxis": {
           "automargin": true,
           "gridcolor": "white",
           "linecolor": "white",
           "ticks": "",
           "title": {
            "standoff": 15
           },
           "zerolinecolor": "white",
           "zerolinewidth": 2
          }
         }
        },
        "title": {
         "text": "Place Atlas",
         "x": 0.5,
         "y": 1
        }
       }
      },
      "text/html": [
       "<div>                            <div id=\"b65a5950-99e3-4394-a16f-099726fccbac\" class=\"plotly-graph-div\" style=\"height:500px; width:100%;\"></div>            <script type=\"text/javascript\">                require([\"plotly\"], function(Plotly) {                    window.PLOTLYENV=window.PLOTLYENV || {};                                    if (document.getElementById(\"b65a5950-99e3-4394-a16f-099726fccbac\")) {                    Plotly.newPlot(                        \"b65a5950-99e3-4394-a16f-099726fccbac\",                        [{\"customdata\":[[\"Washington, D.C.\",\"14th Streed and Constitution Avenue NW,Washington, District of ColumbiaUnited States\"],[\"Pendleton, Oregon\",\"47106 Wildhorse BlvdPendleton, OregonUnited States\"],[\"Doylestown, Pennsylvania\",\"525 E Court St & Route 313Doylestown, Pennsylvania, 18901United States\"],[\"Oak Ridge, Tennessee\",\"Oak Ridge, Tennessee, 37830United States\"],[\"Seattle, Washington\",\"4300 15th Ave NESeattle, Washington, 98105United States\"],[\"Bradford, Pennsylvania\",\"1932 Zippo DriveBradford, Pennsylvania, 16701United States\"],[\"Manhattan, New York\",\"Bowling GreenNew York, New York, 10004United States\"],[\"East Haddam, Connecticut\",\"67 River RdEast Haddam, Connecticut, 06423United States\"],[\"Philadelphia, Pennsylvania\",\"2025 Benjamin Franklin PkwyPhiladelphia, Pennsylvania, 19130United States\"],[\"Denver, Colorado\",\"Pe\\u00f1a BlvdDenver, Colorado, 80249United States\"],[\"Latrobe, Pennsylvania\",\"805 Ligonier StLatrobe, PennsylvaniaUnited States\"],[\"Manhattan, New York\",\"972 5th AveNew York, New York, 10075United States\"],[\"Manhattan, New York\",\"54 Pearl StreetNew York, New York, 10004United States\"],[\"Athens, Greece\",\"46 AdrianouAthens, 105 55Greece\"],[\"St. Joseph, Missouri\",\"1202 Penn StSt. Joseph, Missouri, 64503United States\"],[\"West Chester, Pennsylvania\",\"865 Lenape RdWest Chester, Pennsylvania, 19382United States\"],[\"Los Angeles, California\",\"7100 El Rancho DrLos Angeles, California, 91367United States\"],[\"London, England\",\"National GalleryTrafalgar SquareLondon, England, WC2HUnited Kingdom\"],[\"Chicago, Illinois\",\"60 West Walton StreetChicago, IllinoisUnited States\"],[\"Maysville, Kentucky\",\"1001-1019 Forest AveMaysville, Kentucky, 41056United States\"],[\"Dover, Ohio\",\"331 Karl Ave.Dover, Ohio, 44622United States\"],[\"Manchester, Tennessee\",\"732 Stone Fort DrManchester, TennesseeUnited States\"],[\"Asheville, North Carolina\",\"56 Broadway StAsheville, North Carolina, 28801United States\"],[\"Lake Placid, Florida\",\"18 N Oak AveLake Placid, FloridaUnited States\"],[\"Los Angeles, California\",\"707 Tiverton DrLos Angeles, CaliforniaUnited States\"],[\"Wustermark, Germany\",\"3-5 Zum WasserwerkWustermark, 14641Germany\"],[\"Asheville, North Carolina\",\"97 Haywood StreetAsheville, North CarolinaUnited States\"],[\"Houston, Texas\",\"2401 Nance StHouston, Texas, 77020United States\"],[\"Denver, Colorado\",\"1727 Tremont PlaceDenver, ColoradoUnited States\"],[\"San Francisco, California\",\"1522 Grant AvenueSan Francisco, California, 94133United States\"],[\"Bayard, Nebraska\",\"Chimney Rock National Historic SiteBayard, Nebraska, 69334United States\"],[\"Albuquerque, New Mexico\",\"3501 Monte Vista Blvd NEAlbuquerque, New Mexico, 87106United States\"],[\"San Francisco, California\",\"140 Maiden LaneSan Francisco, California, 94108United States\"],[\"St. Louis, Missouri\",\"3137 Whittier StSt. Louis, MissouriUnited States\"],[\"Washington, D.C.\",\"National Museum of the American IndianFourth Street & Independence Ave., S.W.Washington, District of Columbia, 20560United States\"],[\"Clark County, Nevada\",\"Carp Elgin RoadClark County, NevadaUnited States\"],[\"Felicity, California\",\"One Center of the World PlazaFelicity, California, 92283-7777United States\"],[\"Elkhart, Indiana\",\"1915 Cassopolis St.Elkhart, Indiana, 46517United States\"],[\"Blairsville, Georgia\",\"Blairsville, Georgia, 30512United States\"],[\"Britt, Iowa\",\"51 Main Ave SBritt, Iowa, 50423United States\"],[\"Washington, D.C.\",\"Smithsonian's Museum of American History14th St and Constitution Ave, NWWashington, District of ColumbiaUnited States\"],[\"Manhattan, New York\",\"4881 BroadwayNew York, New York, 10034United States\"],[\"Wyalusing, Pennsylvania\",\"469 Queens RdWyalusing, Pennsylvania, 18853United States\"],[\"Berkley, Massachusetts\",\"Bay View Ave.Berkley, Massachusetts, 02779United States\"],[\"Idaho City, Idaho\",\"100 Main StIdaho City, Idaho, 83631United States\"],[\"Charleston, South Carolina\",\"6 Chalmers StreetCharleston, South Carolina, 29401United States\"],[\"Failford, Scotland\",\"Failford, ScotlandUnited Kingdom\"],[\"Hilton Head Island, South Carolina\",\"70 Honey Horn DriveHilton Head Island, South Carolina, 29926United States\"],[\"Second Mesa, Arizona\",\"Hopi Indian ReservationSecond Mesa, ArizonaUnited States\"],[\"Huntsville, Alabama\",\"1 Tranquility BaseHuntsville, Alabama, 35805United States\"],[\"Jekyll Island, Georgia\",\"371 Riverview DrJekyll Island, Georgia, 31527United States\"],[\"San Diego, California\",\"Monument RdSan Diego, CaliforniaUnited States\"],[\"Washington, D.C.\",\"1703 32nd Street NWWashington, District of ColumbiaUnited States\"],[\"Austin, Texas\",\"1602 FortviewAustin, Texas, 78704United States\"],[\"Eureka, California\",\"143 M St.Eureka, California, 95501United States\"],[\"Jordan\",\"On the slope of Mount HorArabahJordan\"],[\"Denver, Colorado\",\"1340 Pennsylvania StreetDenver, ColoradoUnited States\"],[\"Budapest, Hungary\",\"1 Dand\\u00e1r u.Budapest, 1095Hungary\"],[\"Cherokee, North Carolina\",\"564 Tsali BoulevardCherokee, North Carolina, 28719United States\"],[\"Maxton, North Carolina\",\"16701 Airport RdMaxton, North Carolina, 28364United States\"],[\"Dayton, Ohio\",\"1100 Spaatz StDayton, Ohio, 45431United States\"],[\"Charleston, South Carolina\",\"21 Magazine StreetCharleston, South CarolinaUnited States\"],[\"Manhattan, New York\",\"Quadrangle RdNew York, New York, 11231United States\"],[\"Plainfield, Wisconsin\",\"Plainfield, Wisconsin, 54966United States\"],[\"Astoria, Oregon\",\"1215 Duane StAstoria, OregonUnited States\"],[\"Versailles, Kentucky\",\"230 Pisgah PikeVersailles, Kentucky, 40383United States\"],[\"Oaks, Pennsylvania\",\"1230 E Cir DrOaks, Pennsylvania, 19456United States\"],[\"St. Charles, Missouri\",\"Hamburg TrailSt. Charles, Missouri, 63304United States\"],[\"Hartford, Connecticut\",\"267 Farmington AveHartford, Connecticut, 06105United States\"],[\"Manhattan, New York\",\"400-428 W 141st StNew York, New YorkUnited States\"],[\"Allentown, Pennsylvania\",\"622 Hamilton StAllentown, PennsylvaniaUnited States\"],[\"Santa Fe, New Mexico\",\"215 East De Vargas StreetSanta Fe, New Mexico, 87501United States\"],[\"Titusville, Florida\",\"308 Pine StreetTitusville, FloridaUnited States\"],[\"Oklahoma City, Oklahoma\",\"4300 Amelia Earhart LaneOklahoma City, Oklahoma, 73159United States\"],[\"Austin, Texas\",\"411 E 5th StAustin, TexasUnited States\"],[\"Kansas City, Missouri\",\"400 Grand Blvd.Kansas City, MissouriUnited States\"],[\"Klamath, California\",\"15500 Highway 101NKlamath, California, 95548United States\"],[\"Tucson, Arizona\",\"617 N. Santa Rita Ave.Tucson, Arizona, 85721United States\"],[\"Salem, Massachusetts\",\"310 1/2 Essex StreetSalem, Massachusetts, 01970United States\"],[\"San Antonio, Texas\",\"345 Old Austin RdSan Antonio, TexasUnited States\"],[\"Queens, New York\",\"32-23 48th AveQueens, New York, 11101United States\"],[\"Airville, Pennsylvania\",\"205 Indian Steps RdAirville, PennsylvaniaUnited States\"],[\"Columbia, Pennsylvania\",\"514 Poplar StreetColumbia, Pennsylvania, 17512United States\"],[\"Indianapolis, Indiana\",\"543 Indiana AveIndianapolis, Indiana, 46202United States\"],[\"Manhattan, New York\",\"101 Park Ave ViaductNew York, New York, 10016United States\"],[\"Hot Springs, Arkansas\",\"817 Central AveHot Springs, Arkansas, 71901United States\"],[\"Washington, D.C.\",\"801 K Street NWWashington, District of ColumbiaUnited States\"],[\"Prague, Czechia\",\"5 28. \\u0159\\u00edjnaPrague, 110 00Czechia\"],[\"Detroit, Michigan\",\"5200 Woodward AvenueDetroit, Michigan, 48202United States\"],[\"Alameda, California\",\"1510 Webster StAlameda, California, 94501United States\"],[\"University Park, Illinois\",\"1 University PkwyUniversity Park, IllinoisUnited States\"],[\"San Antonio, Texas\",\"210 W Market StSan Antonio, TexasUnited States\"],[\"Queens, New York\",\"Kennedy CircleQueens, New York, 11368United States\"],[\"South Hadley, Massachusetts\",\"33 Woodbridge StreetSouth Hadley, Massachusetts, 01075United States\"],[\"Atlanta, Georgia\",\"54 Hilliard St NEAtlanta, Georgia, 30312United States\"],[\"Banff, Alberta\",\"Banff Trading Post101 Cave Ave.Banff, AlbertaCanada\"],[\"Gettysburg, Pennsylvania\",\"Gettysburg National Military Park Museum and Visitor1195 Baltimore PikeGettysburg, Pennsylvania, 17325United States\"],[\"Seattle, Washington\",\"719 S King StSeattle, WashingtonUnited States\"],[\"Kanab, Utah\",\"4581 US-89Kanab, Utah, 84741United States\"],[\"San Antonio, Texas\",\"7400 San Pedro AveSan Antonio, TexasUnited States\"],[\"Hilliard, Ohio\",\"5396 Franklin StHilliard, OhioUnited States\"],[\"Prague, Czechia\",\"4 V CelniciPrague, 110 00Czechia\"],[\"Miami, Florida\",\"401 Brickell AvenueMiami, Florida, 33131United States\"],[\"London, England\",\"London, England, WC1RUnited Kingdom\"],[\"Los Angeles, California\",\"5324 Laurel Canyon Blvd.Los Angeles, California, 91607United States\"],[\"Washington, D.C.\",\"1425 4th St SWP Street & 4th Street SWWashington, District of Columbia, 20024United States\"],[\"Mount Angel, Oregon\",\"One Abbey DriveMount Angel, Oregon, 97373United States\"],[\"Manhattan, New York\",\"28 East 20th StreetNew York, New York, 10003United States\"],[\"Montreal, Qu\\u00e9bec\",\"160, Chemin Tour-de-l'Isle\\u00cele Sainte-H\\u00e9l\\u00e8neMontreal, Qu\\u00e9bec, H3C 0K7Canada\"],[\"Miami Beach, Florida\",\"1001 Washington AvenueMiami Beach, Florida, 33139United States\"],[\"Cleveland, Ohio\",\"3159 W. 11th St.Cleveland, Ohio, 44109United States\"],[\"Marshall, Michigan\",\"107 E. Michigan Ave.Marshall, Michigan, 49068United States\"],[\"McMinnville, Oregon\",\"500 NE Captain Michael King Smith WayMcMinnville, OregonUnited States\"],[\"Oklahoma City, Oklahoma\",\"2300 NE 63rd StOklahoma City, Oklahoma, 73111United States\"],[\"Chicago, Illinois\",\"5700 S. Lake Shore DriveChicago, Illinois, 60637United States\"],[\"Boulder, Colorado\",\"1320 Grandview AveBoulder, ColoradoUnited States\"],[\"Anniston, Alabama\",\"840 Museum Dr.Anniston, Alabama, 36201United States\"],[\"Washington, D.C.\",\"Washington, District of Columbia, 20001United States\"],[\"South Bend, Indiana\",\"201 South Chapin StreetSouth Bend, Indiana, 46601United States\"],[\"Fredericksburg, Virginia\",\"1020 Caroline StreetFredericksburg, Virginia, 22401United States\"],[\"Moundsville, West Virginia\",\"801 Jefferson AvenueMoundsville, West Virginia, 26041United States\"],[\"Oklahoma City, Oklahoma\",\"9 East Sheridan AvenueOklahoma City, Oklahoma, 73104United States\"],[\"Mexico City, Mexico\",\"Rampa de acceso al Castillo de ChapultepecMexico City, 11100Mexico\"],[\"Honolulu, Hawaii\",\"364 S King StHonolulu, Hawaii, 96813United States\"],[\"Manhattan, New York\",\"215 Centre StreetNew York, New York, 10013United States\"],[\"Washington, D.C.\",\"Washington, District of Columbia, 20506United States\"],[\"Custer, South Dakota\",\"12151 Avenue of the ChiefsCuster, South Dakota, 57730United States\"],[\"Phoenix, Arizona\",\"22 E Thomas RdPhoenix, ArizonaUnited States\"],[\"Rugby, Tennessee\",\"TN-52Rugby, Tennessee, 37733United States\"],[\"Washington, D.C.\",\"10th St. & Constitution Ave. NWWashington, District of Columbia, 20560United States\"],[\"Natural Bridge, Virginia\",\"15 Appledore LaneNatural Bridge, Virginia, 24578United States\"],[\"Moundville, Alabama\",\"634 Mound ParkMoundville, Alabama, 35474United States\"],[\"Dolores, Colorado\",\"27501 CO-184Mesa VerdeDolores, Colorado, 81323United States\"],[\"Truth or Consequences, New Mexico\",\"Truth or Consequences, New MexicoUnited States\"],[\"Charleston, South Carolina\",\"3380 Ashley River RoadCharleston, South Carolina, 29414United States\"],[\"London, England\",\"49-50 PiccadillyMayfairLondon, EnglandUnited Kingdom\"],[\"Concord, Massachusetts\",\"399 Lexington RdConcord, MassachusettsUnited States\"],[\"Alexandria, Virginia\",\"134 N Royal StAlexandria, VirginiaUnited States\"],[\"Fallon, Nevada\",\"Grimes Point Archaeological AreaLincoln Hwy - Rt. 50Fallon, Nevada, 89406United States\"],[\"Berkeley, California\",\"2430 Bancroft WayBerkeley, California, 94704United States\"],[\"Washington, D.C.\",\"1300 Constitution Ave NWWashington, District of Columbia, 20560United States\"],[\"Winslow, Arizona\",\"Rock Art Ranch RdWinslow, ArizonaUnited States\"],[\"Alexandria, Virginia\",\"101 Callahan DriveAlexandria, Virginia, 22314United States\"],[\"Queens, New York\",\"82-30 Cypress Hills StreetQueens, New York, 11385United States\"],[\"Atlanta, Georgia\",\"500 10th St NWAtlanta, GeorgiaUnited States\"],[\"Baraboo, Wisconsin\",\"550 Water StreetBaraboo, Wisconsin, 53913United States\"],[\"Desert Hot Springs, California\",\"67616 Desert View AveDesert Hot Springs, CaliforniaUnited States\"],[\"Chicago, Illinois\",\"180 N Michigan AveChicago, Illinois, 60601United States\"],[\"Lone Pine, California\",\"701 South Main StreetLone Pine, California, 93545United States\"],[\"Washington, D.C.\",\"8th Street NW & F Street NWWashington, District of ColumbiaUnited States\"],[\"Columbus, Georgia\",\"3218 Hamilton RoadColumbus, Georgia, 31904United States\"],[\"Joplin, Missouri\",\"504 S Schifferdecker AveJoplin, MissouriUnited States\"],[\"Greensboro, North Carolina\",\"134 South Elm StreetGreensboro, North CarolinaUnited States\"],[\"Las Vegas, Nevada\",\"755 E Flamingo RdLas Vegas, Nevada, 89119United States\"],[\"Tucson, Arizona\",\"331 S. OlsenTucson, ArizonaUnited States\"],[\"Shirley, Illinois\",\"10875 Prairie Home Ln FunkShirley, Illinois, 61772United States\"],[\"Tarpon Springs, Florida\",\"510 Dodecanese BlvdTarpon Springs, Florida, 34689United States\"],[\"Upper Darby, Pennsylvania\",\"2900 State RoadUpper Darby, Pennsylvania, 19026United States\"],[\"Topeka, Kansas\",\"2047 SW Topeka BlvdTopeka, KansasUnited States\"],[\"Athens, Greece\",\"44, Patission Str.National Archaeological Museum of AthensAthens, 106 82Greece\"],[\"Tulsa, Oklahoma\",\"2727 S Rockford RdTulsa, OklahomaUnited States\"],[\"Mansfield, Ohio\",\"34 Park Avenue WestMansfield, Ohio, 44902United States\"],[\"Baltimore, Maryland\",\"800 Key HighwayBaltimore, Maryland, 21230United States\"],[\"Longwood, Florida\",\"761 General Hutchison PkwyLongwood, Florida, 32750United States\"],[\"Turin, Italy\",\"University of TurinVia Pietro Giuria 15Turin, 10126Italy\"],[\"San Francisco, California\",\"655 Beach StreetSan Francisco, California, 94109United States\"],[\"Linthicum Heights, Maryland\",\"1000 Corporate BlvdLinthicum Heights, Maryland, 21090United States\"],[\"Washington, D.C.\",\"401 F St NWWashington, District of ColumbiaUnited States\"],[\"Red Hook, New York\",\"Cruger Island RoadRed Hook, New York, 12571United States\"],[\"Holbrook, Arizona\",\"811 W. Hopi Dr.Holbrook, Arizona, 86025United States\"],[\"Concord, Massachusetts\",\"200 Lexington RdConcord, MassachusettsUnited States\"],[\"Washington, D.C.\",\"1300 Constitution Avenue NWWashington, District of ColumbiaUnited States\"],[\"Delta, Utah\",\"55 W Main StDelta, UtahUnited States\"],[\"Golden, Colorado\",\"987 Lookout Mountain RoadGolden, Colorado, 80401United States\"],[\"Oklahoma City, Oklahoma\",\"1700 North East 63rd StreetOklahoma City, Oklahoma, 73111United States\"],[\"Thurmont, Maryland\",\"12714 Catoctin Furnace RdThurmont, Maryland, 21788United States\"],[\"Pittsburgh, Pennsylvania\",\"24 Maryland AvePittsburgh, Pennsylvania, 15209United States\"],[\"Pinson, Tennessee\",\"460 Ozier RoadPinson, Tennessee, 38366United States\"],[\"New Orleans, Louisiana\",\"1504 Oretha Castle Haley BlvdSuite 169New Orleans, Louisiana, 70113United States\"],[\"Louisville, Kentucky\",\"2395 Cave Hill RdLouisville, Kentucky, 40204United States\"],[\"Washington, D.C.\",\"National Museum of African American History and Culture1400 Constitution Ave NWWashington, District of ColumbiaUnited States\"],[\"Pawling, New York\",\"378 Old Quaker Hill RoadPawling, New YorkUnited States\"],[\"Warrenton, Virginia\",\"7172 Lineweaver RdWarrenton, Virginia, 20187United States\"],[\"Amsterdam, Netherlands\",\"Westerstraat 106Amsterdam, 1015Netherlands\"],[\"Elkhart, Indiana\",\"21565 Executive PkwyElkhart, IndianaUnited States\"],[\"Hartford, Connecticut\",\"Old State House800 Main St.Hartford, Connecticut, 06103United States\"],[\"Brooklyn, New York\",\"62 Bayard StBrooklyn, New York, 11222United States\"],[\"Point Pleasant, West Virginia\",\"400 Main StreetPoint Pleasant, West Virginia, 25550United States\"],[\"St. Joseph, Missouri\",\"3408 Frederick AveSt. Joseph, Missouri, 64506United States\"],[\"Goldendale, Washington\",\"35 Maryhill Museum DriveGoldendale, Washington, 98620United States\"],[\"Atlanta, Georgia\",\"130 West Paces Ferry Rd NWAtlanta, Georgia, 30305United States\"],[\"Asbury Park, New Jersey\",\"1000 Ocean AvenueAsbury Park, New Jersey, 07712United States\"],[\"Springfield, Missouri\",\"500 W Sunshine StSpringfield, MissouriUnited States\"],[\"Polson, Montana\",\"36094 Memory LanePolson, MontanaUnited States\"],[\"Brownsville, Tennessee\",\"121 Sunny Hill CoveBrownsville, TennesseeUnited States\"],[\"Milwaukee, Wisconsin\",\"700 N. Art Museum Dr.Milwaukee, Wisconsin, 53202United States\"],[\"Bozeman, Montana\",\"2023 Stadium DrSuite 1ABozeman, Montana, 59715United States\"],[\"Sandia Park, New Mexico\",\"121 Sandia Crest RoadSandia Park, New Mexico, 87047United States\"],[\"Irwin, Pennsylvania\",\"9061 U.S. 30Irwin, Pennsylvania, 15642United States\"],[\"Friday Harbor, Washington\",\"62 First St. N.Friday Harbor, Washington, 98250United States\"],[\"Orlando, Florida\",\"8441 International Dr.Suite 250Orlando, FloridaUnited States\"],[\"Savannah, Georgia\",\"209 W. St. Julian StreetSavannah, GeorgiaUnited States\"],[\"Memphis, Tennessee\",\"Stax Museum of American Soul Music926 E McLemore AvenueMemphis, Tennessee, 38106United States\"],[\"Reno, Nevada\",\"1595 N Sierra StReno, NevadaUnited States\"],[\"Orlando, Florida\",\"14901 S Orange Blossom TrailOrlando, FloridaUnited States\"],[\"Chicago, Illinois\",\"230 South LaSalle StreetChicago, Illinois, 60604United States\"],[\"Silver Spring, Maryland\",\"2500 Linden LnSilver Spring, Maryland, 20910United States\"],[\"Laconia, New Hampshire\",\"579 Endicott Street NorthLaconia, New Hampshire, 03246United States\"],[\"Cave City, Kentucky\",\"409 E Happy Valley StCave City, KentuckyUnited States\"],[\"Walla Walla, Washington\",\"4 & 1/2 West Main StreetWalla Walla, WashingtonUnited States\"],[\"Alamogordo, New Mexico\",\"3198 State Route 2001Alamogordo, New Mexico, 88310United States\"],[\"New Orleans, Louisiana\",\"823 Royal StreetNew Orleans, Louisiana, 70116United States\"],[\"Staten Island, New York\",\"Dongan HillsStaten Island, New YorkUnited States\"],[\"San Francisco, California\",\"2450 Sutter StThird FloorSan Francisco, California, 94115United States\"],[\"Fort Worth, Texas\",\"1720 Gendy St.Fort Worth, Texas, 76107United States\"],[\"Indianapolis, Indiana\",\"1043 Virginia AvenueSuite 208Indianapolis, IndianaUnited States\"],[\"Minneapolis, Minnesota\",\"333 East River ParkwayMinneapolis, Minnesota, 55455United States\"],[\"Austin, Texas\",\"Museum of the Weird412 E 6th St.Austin, Texas, 78701United States\"],[\"Munich, Germany\",\"Neuhauser Stra\\u00dfe 2Munich, 80331Germany\"],[\"New Orleans, Louisiana\",\"929 Camp StreetNew Orleans, Louisiana, 70130United States\"],[\"Lynchburg, Virginia\",\"301 Monroe StLynchburg, Virginia, 24504United States\"],[\"San Antonio, Texas\",\"318 E. Houston StreetSan Antonio, TexasUnited States\"],[\"Sylva, North Carolina\",\"Old School Antique Mall4704 US-441Sylva, North CarolinaUnited States\"],[\"Saint Paul, Minnesota\",\"120 W Kellogg BoulevardSaint Paul, Minnesota, 55102United States\"],[\"Waco, Texas\",\"300 S. 5th St.Waco, Texas, 76701United States\"],[\"Kansas City, Missouri\",\"4525 Oak St.Kansas City, Missouri, 64111United States\"],[\"Cincinnati, Ohio\",\"2511 Essex PlaceCincinnati, Ohio, 45206United States\"],[\"Atlanta, Georgia\",\"1600 Clifton RdAtlanta, Georgia, 30329United States\"],[\"Mexico City, Mexico\",\"303 Blvd. Miguel de Cervantes SaavedraMexico City, 11529Mexico\"],[\"Amsterdam, Netherlands\",\"497 HerengrachtAmsterdamNetherlands\"],[\"Baltimore, Maryland\",\"301 W Camden StBaltimore, Maryland, 21201United States\"],[\"Overton, Nevada\",\"721 South Moapa Valley BoulevardOverton, Nevada, 89040United States\"],[\"Danville, Virginia\",\"3321 N Main StreetDanville, Virginia, 24540United States\"],[\"London, England\",\"100 London RdForest HillLondon, England, SE23 3PQUnited Kingdom\"],[\"Chicago, Illinois\",\"600 E Grand AveChicago, IllinoisUnited States\"],[\"Roanoke, Virginia\",\"One Market Square SERoanoke Pinball MuseumRoanoke, VirginiaUnited States\"],[\"Fremont, California\",\"37417 Niles BlvdFremont, California, 94536United States\"],[\"Fredericksburg, Texas\",\"340 East Main StreetFredericksburg, Texas, 78624United States\"],[\"Chicago, Illinois\",\"Chicago, Illinois, 60603United States\"],[\"Bardstown, Kentucky\",\"114 North 5th StreetBardstown, Kentucky, 40004United States\"],[\"New Orleans, Louisiana\",\"945 Magazine StreetNew Orleans, Louisiana, 70130United States\"],[\"Fort Meade, Maryland\",\"Canine RoadFort Meade, Maryland, 20755United States\"],[\"Cambridge, Massachusetts\",\"26 Oxford StreetCambridge, Massachusetts, 02138United States\"],[\"Bangkok, Thailand\",\"Siriraj Sub-District, Bangkoknoi DistrictBangkok, 10700Thailand\"]],\"hovertemplate\":\"<b>%{hovertext}</b><br><br>numPeopleVisited=%{marker.size}<br>placeAlt=%{lat}<br>placeLong=%{lon}<br>placeTags=%{customdata[0]}<br>placeAddress=%{customdata[1]}<br>Similarity=%{marker.color}<extra></extra>\",\"hovertext\":[\"Smithsonian Sushi Collection\",\"Tam\\u00e1stslikt Cultural Institute\",\"Mercer Museum and Fonthill Castle\",\"Oak Ridge \\\"The Secret City\\\"\",\"Off the Rez Cafe\",\"Zippo/Case Museum\",\"The Oldest Fence in New York\",\"Gillette Castle State Park\",\"The Barnes Foundation\",\"Blue Mustang\",\"Birthplace of the Banana Split\",\"Albertine\",\"Fraunces Tavern\",\"The Athenian Agora\",\"Jesse James Home Museum\",\"Baldwin's Book Barn\",\"Old Trapper's Lodge Statues\",\"The Monty Python Foot\",\"Newberry Library Postcard Collection\",\"Harriet Beecher Stowe, Slavery to Freedom Museum\",\"Warther Museum\",\"Old Stone Fort\",\"Moogseum\",\"Lake Placid Murals\",\"Mildred E. Mathias Botanical Garden\",\"Hitler's Olympic Village\",\"Basilica of Saint Lawrence, Asheville\",\"David Adickes Studio\",\"American Museum of Western Art\",\"Aria Antiques\",\"Chimney Rock\",\"Bart Prince Residence and Studio\",\"V. C. Morris Gift Shop\",\"Chuck Berry's House\",\"Mitsitam Native Foods Cafe\",\"Double Negative\",\"Felicity, California: Center of the World\",\"Hall of Heroes\",\"Brasstown Bald\",\"The Hobo Museum\",\"Grace Hopper's Bug\",\"Dyckman Farmhouse\",\"French Azilum\",\"Dighton Rock\",\"Idaho City\",\"Old Slave Mart\",\"Peden's Cave\",\"Gullah Heritage Trail\",\"Awat'ovi Ruins\",\"The Grave of Miss Baker\",\"Jekyll Island Club\",\"Friendship Park\",\"Dumbarton Oaks\",\"Uncommon Objects\",\"The Carson Mansion\",\"Petra\",\"'Unsinkable' Molly Brown House\",\"Zwack Unicum Museum\",\"Unto These Hills Cherokee Theatre\",\"Laurinburg-Maxton Aircraft Boneyard\",\"SAM 26000\",\"Old Charleston City Jail\",\"Governors Island\",\"Grave of Ed Gein\",\"Museum of Whimsy\",\"Castle Post\",\"World's Largest Slinky\",\"Weldon Spring Disposal Site\",\"Abandoned Comet Diner\",\"Hamilton Grange\",\"The Liberty Bell Hiding Place\",\"De Vargas Street House\",\"American Space Museum\",\"99s Museum of Women Pilots\",\"Susanna Dickinson Museum\",\"Treasures of the Steamboat Arabia\",\"Trees of Mystery\",\"University of Arizona Mathematical Models Collection\",\"The Witch House of Salem\",\"Old Time Wooden Nickel Company\",\"Self-Taught Genius Gallery\",\"Indian Steps Museum\",\"National Watch and Clock Museum\",\"Kurt Vonnegut Memorial Library and Museum\",\"The American Kennel Club Museum of the Dog\",\"Maxwell Blade\\u2019s Odditorium and Curiosities Museum\",\"Carnegie Library of Washington, D.C.\",\"Batalion Comic Book Museum and Club\",\"Diego Rivera's Detroit Industry\",\"Pacific Pinball Museum\",\"Nathan Manilow Sculpture Park\",\"McNutt Sculpture Garden\",\"Flushing Meadows-Corona Park\",\"Joseph Allen Skinner Museum\",\"Madam C.J. Walker Museum & WERD Radio\",\"Banff Merman\",\"Gettysburg Cyclorama\",\"East Kong Yick Building at the Wing Luke Museum\",\"Moqui Cave\",\"World's Largest Cowboy Boots\",\"Early Television Museum\",\"Museum of Communism\",\"Miami Circle\",\"Cabaret Mechanical Theatre\",\"Metropolitan Pit Stop\",\"Titanic Memorial\",\"Mount Angel Abbey Museum\",\"Theodore Roosevelt Birthplace Museum\",\"Biosphere of Montreal\",\"The Wolfsonian-FIU\",\"A Christmas Story House and Museum\",\"American Museum of Magic\",\"The Spruce Goose\",\"The American Pigeon Museum\",\"U-505\",\"Media Archaeology Lab\",\"Berman Museum of World History\",\"The Throne of the Third Heaven of the Nations' Millennium General Assembly\",\"Studebaker National Museum\",\"Hugh Mercer Apothecary Shop\",\"Grave Creek Mound\",\"American Banjo Museum\",\"Chapultepec Castle\",\"Iolani Palace\",\"Museum of Chinese in America\",\"Renwick Gallery\",\"Crazy Horse Memorial\",\"Navajo Code Talkers Tribute\",\"Rugby Colony\",\"Martha, the Last Passenger Pigeon\",\"The Natural Bridge\",\"Moundville Archaeological Site\",\"Canyons of the Ancients\",\"Truth or Consequences\",\"Drayton Hall\",\"PsychoBarn\",\"Orchard House\",\"Gadsby's Tavern\",\"Hidden Cave at Grimes Point\",\"Cafe Ohlone\",\"Sergeant Stubby\",\"Rock Art Ranch\",\"The George Washington Masonic National Memorial\",\"Houdini's Grave\",\"Robert C. Williams Paper Museum\",\"Circus World Museum\",\"Cabot's Pueblo Museum\",\"American Writers Museum\",\"The Museum of Western Film History\",\"The Old Patent Model Museum\",\"Lunch Box Museum\",\"National Cookie Cutter Historical Museum\",\"Site of the Woolworth Lunch Counter Sit-in\",\"National Atomic Testing Museum\",\"Ignite Sign Art Museum\",\"Funk Gem and Mineral Museum\",\"Spongeorama Sponge Factory\",\"Museum of Mourning Art\",\"Evel Knievel Museum\",\"Antikythera Mechanism\",\"Philbrook Museum of Art\",\"Mansfield Memorial Museum\",\"The American Visionary Art Museum\",\"The Senator\",\"Cesare Lombroso's Museum of Criminal Anthropology\",\"Museum of the Eye\",\"Urology Museum\",\"National Building Museum\",\"Mayan Ruins on the Hudson\",\"The Wigwam Village #6\",\"Paul Revere Lantern\",\"Bare-Chested George Washington\",\"Topaz Museum\",\"The Buffalo Bill Museum and Grave\",\"National Cowboy and Western Heritage Museum\",\"Catoctin Furnace\",\"Murals of Maxo Vanka\",\"Pinson Mounds State Archeological Park\",\"Museum of the American Cocktail\",\"Cave Hill Cemetery\",\"Sweet Home Cafe\",\"Akin Free Library\",\"Cold War Museum\",\"Pianola Museum\",\"RV/MH Hall of Fame\",\"Museum of Natural and Other Curiosities\",\"Museum of Food and Drink\",\"Mothman Museum\",\"Glore Psychiatric Museum\",\"Maryhill Museum and Stonehenge\",\"Battle of Atlanta Cyclorama\",\"Silverball Museum Arcade\",\"Wonders of Wildlife Museum\",\"Miracle of America Museum\",\"Tina Turner Museum\",\"Milwaukee Art Museum\",\"American Computer Museum\",\"TinkerTown\",\"The Big Mac Museum\",\"Whale Museum\",\"Skeletons: Museum of Osteology\",\"American Prohibition Museum\",\"Isaac Hayes's Gold-Plated Cadillac\",\"Wilbur D. May Museum\",\"Tupperware Confidence Center\",\"Money Museum\",\"National Museum of Health and Medicine\",\"American Classic Arcade Museum\",\"Mammoth Cave Wildlife Museum\",\"Museum of Un-Natural History\",\"New Mexico Museum of Space History\",\"The Absinthe Museum\",\"Booze History Museum\",\"Museum of Russian Culture\",\"Cowgirl Hall of Fame\",\"Museum of Psychphonics\",\"Frederick R. Weisman Art Museum\",\"Museum of the Weird\",\"Deutsches Jagd und Fischereimuseum (German Museum of Hunting and Fishing)\",\"Louisiana\\u2019s Civil War Museum at Confederate Memorial Hall\",\"Museums at Old City Cemetery\",\"Buckhorn Saloon and Museum\",\"American Museum of the House Cat\",\"Museum of Quackery and Medical Frauds\",\"Dr Pepper Museum\",\"World's Largest Shuttlecocks\",\"Lucky Cat Museum\",\"CDC Museum\",\"Soumaya Museum\",\"KattenKabinet\",\"Geppi's Entertainment Museum\",\"Lost City Museum\",\"AAF Tank Museum\",\"Horniman Museum and Gardens\",\"Stained Glass at Navy Pier\",\"Roanoke Pinball Museum\",\"Niles Essanay Silent Film Museum\",\"National Museum of the Pacific War\",\"Thorne Miniature Rooms\",\"Oscar Getz Museum of Whiskey History\",\"National World War II Museum\",\"National Cryptologic Museum\",\"Harvard Museum of Natural History\",\"Siriraj Medical Museum\"],\"lat\":[38.8907,45.6537,40.3069,36.0089,47.6603,41.9434,40.7049,41.423,39.9605,39.8342,40.3169,40.7766,40.7034,37.9758,39.7558,39.9377,34.1847,51.5089,41.9,38.6153,40.5249,35.4862,35.5973,27.2977,34.0667,52.5366,35.5974,29.7688,39.7447,37.8011,41.7029,35.0849,37.7883,38.6643,38.8883,36.6175,32.7503,41.6522,34.8742,43.0964,38.8921,40.8673,41.7359,41.8082,43.8262,32.7778,55.505,32.2125,35.7833,34.7121,31.0594,32.5444,38.9142,30.2291,40.8053,30.3285,39.7375,47.4759,35.4843,34.7962,39.7824,32.7785,40.6904,44.2167,46.1881,38.0448,40.124,38.6979,41.7673,40.8215,40.6023,35.6836,28.6105,35.4062,30.2657,39.1094,41.5046,32.2296,42.5215,29.4565,40.7409,39.8634,40.037,39.7755,40.7507,34.5087,38.9027,50.0835,42.3594,37.7737,41.4493,29.4229,40.7462,42.2628,33.7558,51.1722,39.8112,47.5982,37.1211,29.518,40.0345,50.0879,25.7694,51.5197,34.1675,38.872,45.0553,40.7388,45.519,25.781,41.4687,42.2721,45.2039,35.5361,41.7906,40.0113,33.6949,38.898,41.6746,38.3041,39.9166,35.4668,19.4204,21.3068,40.7194,38.899,43.8368,33.4802,36.3611,38.8912,37.6282,33.0027,37.4763,33.1284,32.8682,51.5089,42.4591,38.8055,39.4068,37.8683,38.8913,34.8748,38.8075,40.6935,33.781,43.4838,33.958,41.8856,36.6008,38.8981,32.4944,37.0873,36.0717,36.1141,32.2182,40.3877,28.1558,39.9559,39.0302,37.9892,36.1242,40.7587,39.2801,28.7208,45.0494,37.8067,39.2098,38.8978,42.032,34.9027,42.4577,38.8913,39.3521,39.7333,35.5357,39.5812,40.477,35.504,29.9408,38.2454,38.8911,41.5589,38.743,52.3785,41.7293,41.7658,40.7188,38.8428,39.7769,45.6775,33.8418,40.2207,37.1815,47.6807,35.5406,43.0385,45.659,35.1689,40.3207,48.5358,28.4426,32.0806,35.1156,39.5457,28.3467,41.8787,39.0087,43.613,37.1269,46.0668,32.9216,29.9593,40.5907,37.7878,32.743,39.7528,44.9718,30.267,48.1385,29.9432,37.4147,29.4262,35.319,44.9435,31.5551,39.0451,39.1271,33.799,19.4406,52.3656,39.2836,36.5315,36.6432,51.441,41.8917,37.2715,37.5771,30.2727,41.8796,37.8101,29.943,39.1117,42.3789,13.7588],\"legendgroup\":\"\",\"lon\":[-77.03,-118.6634,-75.1283,-84.2571,-122.3116,-78.6509,-74.0137,-72.4284,-75.1726,-104.6759,-79.3852,-73.9637,-74.0114,23.7247,-94.8451,-75.6119,-118.5862,-0.1283,-87.6301,-83.8087,-81.4884,-86.102,-82.5522,-81.3643,-118.4415,13.0105,-82.5563,-95.3454,-104.9881,-122.4075,-103.3486,-106.6067,-122.4059,-90.2313,-77.0165,-114.3447,-114.7653,-85.9949,-83.8107,-93.8014,-77.032,-73.9229,-76.3117,-71.1022,-115.8325,-79.9284,-4.441,-80.742,-110.5035,-86.6504,-81.4222,-117.0932,-77.0639,-97.783,-124.1584,35.4427,-104.9808,19.0697,-83.3156,-79.3695,-84.1094,-79.9372,-74.0164,-89.5209,-123.83,-84.6566,-75.4536,-90.7284,-72.6974,-73.9467,-75.4704,-105.9374,-80.8087,-97.5994,-97.7389,-94.5815,-124.0706,-110.9531,-70.8989,-98.4563,-73.9334,-76.3755,-76.5022,-86.1663,-73.9779,-93.0539,-77.0229,14.4222,-83.0645,-122.2767,-87.7136,-98.4888,-73.8445,-72.5724,-84.3767,-115.5721,-77.2247,-122.3229,-112.564,-98.4975,-83.1616,14.4301,-80.1899,-0.1169,-118.3963,-77.0193,-122.771,-73.9889,-73.5342,-80.1324,-81.6873,-84.9586,-123.1433,-97.4703,-87.5831,-105.2755,-85.8191,-77.023,-86.2618,-77.4599,-80.7433,-97.5115,-99.1819,-157.8587,-73.9991,-77.0391,-103.6244,-112.0734,-84.7024,-77.026,-79.5447,-87.628,-108.5459,-107.2528,-80.0821,-0.1393,-71.335,-77.0435,-118.627,-122.2607,-77.0296,-110.4594,-77.0659,-73.8848,-84.4046,-89.7583,-116.4815,-87.6249,-118.0617,-77.0225,-84.9796,-94.5496,-79.7907,-115.1484,-110.9407,-89.0597,-82.7588,-75.2971,-95.6835,23.7325,-95.9701,-82.5105,-76.6068,-81.3313,7.6793,-122.4198,-76.6724,-77.0175,-73.9287,-110.1688,-71.3423,-77.0299,-112.5762,-105.2386,-97.4833,-77.4344,-79.9696,-88.6908,-90.0791,-85.7148,-77.0326,-73.5491,-77.6763,4.8835,-85.8802,-72.6733,-73.9496,-82.1386,-94.8147,-120.8648,-84.3863,-73.9999,-93.2964,-114.116,-89.2461,-87.8975,-111.0548,-106.3659,-79.6922,-123.0172,-81.4691,-81.0946,-90.0313,-119.824,-81.4022,-87.6323,-77.0531,-71.4775,-85.9612,-118.3398,-105.9206,-90.0641,-74.0885,-122.4382,-97.3685,-86.141,-93.2374,-97.7387,11.5714,-90.0712,-79.156,-98.489,-83.2632,-93.0957,-97.1294,-94.581,-84.4984,-84.3297,-99.2047,4.8916,-76.6197,-114.4409,-79.3824,-0.061,-87.6085,-79.9395,-121.9801,-98.8673,-87.6237,-85.4702,-90.0704,-76.7711,-71.1152,100.4851],\"marker\":{\"color\":[0.9992961927266072,0.9954441973346007,0.9954441973346007,0.9954441973346005,0.9954441973346005,0.9954441973346004,0.9953668450417629,0.9953668450417629,0.9953668450417629,0.9953668450417629,0.9953668450417629,0.9953668450417629,0.9953668450417628,0.9953668450417628,0.9953668450417628,0.9953668450417628,0.9953668450417628,0.9953668450417628,0.9953668450417628,0.9953668450417628,0.9953668450417628,0.9953668450417628,0.9953668450417628,0.9953668450417626,0.9953668450417626,0.9953668450417626,0.9953668450417626,0.9953668450417626,0.9953668450417626,0.9953668450417626,0.9953668450417626,0.9953668450417626,0.9953668450417626,0.9953668450417626,0.9953668450417626,0.9953668450417626,0.9953668450417626,0.9953668450417626,0.9953668450417626,0.9953668450417626,0.9953668450417626,0.9953668450417626,0.9953668450417626,0.9953668450417626,0.9953668450417626,0.9953668450417626,0.9953668450417626,0.9953668450417626,0.9953668450417626,0.9953668450417626,0.9953668450417626,0.9953668450417626,0.9953668450417626,0.9953668450417626,0.9953668450417626,0.9953668450417626,0.9953668450417626,0.9953668450417625,0.9953668450417625,0.9953668450417625,0.9953668450417625,0.9953668450417625,0.9953668450417625,0.9953668450417625,0.9953668450417625,0.9953668450417625,0.9953668450417625,0.9953668450417625,0.9953668450417625,0.9953668450417625,0.9953668450417625,0.9953668450417624,0.9953668450417624,0.9953668450417624,0.9953668450417624,0.9953668450417624,0.9953668450417624,0.9953668450417624,0.9953668450417624,0.9890618270880841,0.9851703917028781,0.9773695784908962,0.9716263436008302,0.9716263436008302,0.9716263436008302,0.9716263436008302,0.9716263436008302,0.9716263436008301,0.9716263436008301,0.9716263436008301,0.9716263436008301,0.9716263436008301,0.9716263436008301,0.9716263436008301,0.9716263436008301,0.9716263436008301,0.9716263436008301,0.9716263436008301,0.9716263436008301,0.9716263436008301,0.9716263436008301,0.9716263436008301,0.9716263436008301,0.9716263436008301,0.97162634360083,0.97162634360083,0.97162634360083,0.97162634360083,0.97162634360083,0.97162634360083,0.97162634360083,0.97162634360083,0.97162634360083,0.97162634360083,0.97162634360083,0.97162634360083,0.97162634360083,0.97162634360083,0.9716263436008299,0.9716263436008299,0.9716263436008299,0.9716263436008299,0.9676169370167181,0.967616937016718,0.9676169370167179,0.958284896410902,0.9582848964109018,0.9415839288122951,0.9415839288122951,0.9415839288122951,0.941583928812295,0.941583928812295,0.941583928812295,0.9415839288122949,0.9415839288122949,0.9415839288122949,0.9415839288122949,0.9415839288122949,0.9415839288122949,0.9415839288122949,0.9415839288122949,0.9415839288122948,0.9415839288122948,0.9415839288122948,0.9407921519144938,0.9407921519144936,0.9407921519144936,0.9407921519144935,0.930372869508749,0.930372869508749,0.9101575035929647,0.9101575035929645,0.9101575035929645,0.9101575035929645,0.9101575035929645,0.9101575035929645,0.9101575035929645,0.9101575035929645,0.9101575035929644,0.9101575035929644,0.9101575035929644,0.9101575035929644,0.9101575035929643,0.9101575035929643,0.9101575035929643,0.9101575035929643,0.9101575035929642,0.9101575035929642,0.9061630862545355,0.9061630862545355,0.9061630862545355,0.9061630862545355,0.9061630862545353,0.9061630862545352,0.8911860095093798,0.8848163327479791,0.8848163327479791,0.884816332747979,0.882239897241415,0.8708552868478219,0.8655678127742308,0.8576170731934141,0.857617073193414,0.857617073193414,0.857617073193414,0.857617073193414,0.857617073193414,0.857617073193414,0.8576170731934138,0.8576170731934138,0.8576170731934138,0.8576170731934138,0.8576170731934137,0.8576170731934137,0.8576170731934137,0.8361467671152646,0.8361467671152644,0.8174621926039833,0.8174621926039833,0.8174621926039833,0.8174621926039832,0.8174621926039832,0.8174621926039832,0.8174621926039832,0.8174621926039832,0.8174621926039832,0.8174621926039832,0.8174621926039832,0.8174621926039831,0.8174621926039831,0.8174621926039831,0.8174621926039831,0.8174621926039831,0.817462192603983,0.817462192603983,0.817462192603983,0.801162645240575,0.7961945133070216,0.7868806714069512,0.7868806714069511,0.7868806714069511,0.7868806714069511,0.7868806714069511,0.7868806714069511,0.7868806714069511,0.7868806714069511,0.786880671406951,0.7868806714069508,0.7631581784399245,0.7631581784399244,0.7631581784399243,0.7631581784399243,0.7631581784399243,0.7631581784399243,0.7631581784399243,0.7631581784399243,0.7443522597144774,0.7443522597144774,0.7443522597144774,0.7443522597144774,0.7291364447072712,0.7291364447072711,0.7166008418267997,0.6895677372644814],\"coloraxis\":\"coloraxis\",\"size\":[117.0,107.0,776.0,579.0,193.0,222.0,566.0,891.0,1101.0,3489.0,168.0,315.0,1180.0,1569.0,328.0,425.0,165.0,454.0,181.0,75.0,270.0,175.0,173.0,180.0,199.0,182.0,419.0,402.0,322.0,113.0,523.0,271.0,303.0,203.0,747.0,83.0,231.0,139.0,696.0,110.0,110.0,199.0,134.0,136.0,308.0,1318.0,42.0,181.0,56.0,333.0,557.0,233.0,489.0,1461.0,592.0,1070.0,1051.0,198.0,454.0,84.0,609.0,662.0,1403.0,167.0,81.0,667.0,112.0,232.0,243.0,369.0,146.0,558.0,314.0,101.0,175.0,832.0,991.0,101.0,3161.0,136.0,51.0,119.0,196.0,265.0,146.0,129.0,501.0,288.0,965.0,354.0,103.0,213.0,1373.0,76.0,145.0,306.0,1634.0,230.0,123.0,806.0,102.0,738.0,310.0,116.0,44.0,463.0,268.0,369.0,1545.0,333.0,959.0,174.0,544.0,136.0,2054.0,101.0,184.0,538.0,247.0,313.0,390.0,187.0,880.0,961.0,197.0,1268.0,2595.0,298.0,238.0,513.0,1719.0,386.0,447.0,859.0,503.0,98.0,369.0,463.0,71.0,55.0,581.0,123.0,638.0,254.0,135.0,783.0,133.0,179.0,204.0,503.0,157.0,114.0,366.0,1093.0,131.0,71.0,636.0,53.0,129.0,478.0,442.0,127.0,1360.0,342.0,133.0,74.0,55.0,1378.0,41.0,817.0,184.0,1148.0,117.0,1252.0,588.0,358.0,156.0,177.0,297.0,641.0,191.0,41.0,110.0,168.0,191.0,235.0,127.0,681.0,383.0,942.0,1112.0,506.0,354.0,136.0,122.0,1647.0,124.0,496.0,209.0,275.0,214.0,364.0,316.0,131.0,170.0,438.0,356.0,468.0,170.0,69.0,407.0,336.0,52.0,106.0,389.0,118.0,892.0,1011.0,217.0,297.0,168.0,741.0,143.0,370.0,811.0,1493.0,256.0,449.0,511.0,615.0,254.0,181.0,109.0,743.0,1445.0,232.0,148.0,488.0,1495.0,135.0,1378.0,320.0,1003.0,246.0],\"sizemode\":\"area\",\"sizeref\":8.7225},\"mode\":\"markers\",\"name\":\"\",\"showlegend\":false,\"subplot\":\"mapbox\",\"type\":\"scattermapbox\"}],                        {\"template\":{\"data\":{\"bar\":[{\"error_x\":{\"color\":\"#2a3f5f\"},\"error_y\":{\"color\":\"#2a3f5f\"},\"marker\":{\"line\":{\"color\":\"#E5ECF6\",\"width\":0.5},\"pattern\":{\"fillmode\":\"overlay\",\"size\":10,\"solidity\":0.2}},\"type\":\"bar\"}],\"barpolar\":[{\"marker\":{\"line\":{\"color\":\"#E5ECF6\",\"width\":0.5},\"pattern\":{\"fillmode\":\"overlay\",\"size\":10,\"solidity\":0.2}},\"type\":\"barpolar\"}],\"carpet\":[{\"aaxis\":{\"endlinecolor\":\"#2a3f5f\",\"gridcolor\":\"white\",\"linecolor\":\"white\",\"minorgridcolor\":\"white\",\"startlinecolor\":\"#2a3f5f\"},\"baxis\":{\"endlinecolor\":\"#2a3f5f\",\"gridcolor\":\"white\",\"linecolor\":\"white\",\"minorgridcolor\":\"white\",\"startlinecolor\":\"#2a3f5f\"},\"type\":\"carpet\"}],\"choropleth\":[{\"colorbar\":{\"outlinewidth\":0,\"ticks\":\"\"},\"type\":\"choropleth\"}],\"contour\":[{\"colorbar\":{\"outlinewidth\":0,\"ticks\":\"\"},\"colorscale\":[[0.0,\"#0d0887\"],[0.1111111111111111,\"#46039f\"],[0.2222222222222222,\"#7201a8\"],[0.3333333333333333,\"#9c179e\"],[0.4444444444444444,\"#bd3786\"],[0.5555555555555556,\"#d8576b\"],[0.6666666666666666,\"#ed7953\"],[0.7777777777777778,\"#fb9f3a\"],[0.8888888888888888,\"#fdca26\"],[1.0,\"#f0f921\"]],\"type\":\"contour\"}],\"contourcarpet\":[{\"colorbar\":{\"outlinewidth\":0,\"ticks\":\"\"},\"type\":\"contourcarpet\"}],\"heatmap\":[{\"colorbar\":{\"outlinewidth\":0,\"ticks\":\"\"},\"colorscale\":[[0.0,\"#0d0887\"],[0.1111111111111111,\"#46039f\"],[0.2222222222222222,\"#7201a8\"],[0.3333333333333333,\"#9c179e\"],[0.4444444444444444,\"#bd3786\"],[0.5555555555555556,\"#d8576b\"],[0.6666666666666666,\"#ed7953\"],[0.7777777777777778,\"#fb9f3a\"],[0.8888888888888888,\"#fdca26\"],[1.0,\"#f0f921\"]],\"type\":\"heatmap\"}],\"heatmapgl\":[{\"colorbar\":{\"outlinewidth\":0,\"ticks\":\"\"},\"colorscale\":[[0.0,\"#0d0887\"],[0.1111111111111111,\"#46039f\"],[0.2222222222222222,\"#7201a8\"],[0.3333333333333333,\"#9c179e\"],[0.4444444444444444,\"#bd3786\"],[0.5555555555555556,\"#d8576b\"],[0.6666666666666666,\"#ed7953\"],[0.7777777777777778,\"#fb9f3a\"],[0.8888888888888888,\"#fdca26\"],[1.0,\"#f0f921\"]],\"type\":\"heatmapgl\"}],\"histogram\":[{\"marker\":{\"pattern\":{\"fillmode\":\"overlay\",\"size\":10,\"solidity\":0.2}},\"type\":\"histogram\"}],\"histogram2d\":[{\"colorbar\":{\"outlinewidth\":0,\"ticks\":\"\"},\"colorscale\":[[0.0,\"#0d0887\"],[0.1111111111111111,\"#46039f\"],[0.2222222222222222,\"#7201a8\"],[0.3333333333333333,\"#9c179e\"],[0.4444444444444444,\"#bd3786\"],[0.5555555555555556,\"#d8576b\"],[0.6666666666666666,\"#ed7953\"],[0.7777777777777778,\"#fb9f3a\"],[0.8888888888888888,\"#fdca26\"],[1.0,\"#f0f921\"]],\"type\":\"histogram2d\"}],\"histogram2dcontour\":[{\"colorbar\":{\"outlinewidth\":0,\"ticks\":\"\"},\"colorscale\":[[0.0,\"#0d0887\"],[0.1111111111111111,\"#46039f\"],[0.2222222222222222,\"#7201a8\"],[0.3333333333333333,\"#9c179e\"],[0.4444444444444444,\"#bd3786\"],[0.5555555555555556,\"#d8576b\"],[0.6666666666666666,\"#ed7953\"],[0.7777777777777778,\"#fb9f3a\"],[0.8888888888888888,\"#fdca26\"],[1.0,\"#f0f921\"]],\"type\":\"histogram2dcontour\"}],\"mesh3d\":[{\"colorbar\":{\"outlinewidth\":0,\"ticks\":\"\"},\"type\":\"mesh3d\"}],\"parcoords\":[{\"line\":{\"colorbar\":{\"outlinewidth\":0,\"ticks\":\"\"}},\"type\":\"parcoords\"}],\"pie\":[{\"automargin\":true,\"type\":\"pie\"}],\"scatter\":[{\"marker\":{\"colorbar\":{\"outlinewidth\":0,\"ticks\":\"\"}},\"type\":\"scatter\"}],\"scatter3d\":[{\"line\":{\"colorbar\":{\"outlinewidth\":0,\"ticks\":\"\"}},\"marker\":{\"colorbar\":{\"outlinewidth\":0,\"ticks\":\"\"}},\"type\":\"scatter3d\"}],\"scattercarpet\":[{\"marker\":{\"colorbar\":{\"outlinewidth\":0,\"ticks\":\"\"}},\"type\":\"scattercarpet\"}],\"scattergeo\":[{\"marker\":{\"colorbar\":{\"outlinewidth\":0,\"ticks\":\"\"}},\"type\":\"scattergeo\"}],\"scattergl\":[{\"marker\":{\"colorbar\":{\"outlinewidth\":0,\"ticks\":\"\"}},\"type\":\"scattergl\"}],\"scattermapbox\":[{\"marker\":{\"colorbar\":{\"outlinewidth\":0,\"ticks\":\"\"}},\"type\":\"scattermapbox\"}],\"scatterpolar\":[{\"marker\":{\"colorbar\":{\"outlinewidth\":0,\"ticks\":\"\"}},\"type\":\"scatterpolar\"}],\"scatterpolargl\":[{\"marker\":{\"colorbar\":{\"outlinewidth\":0,\"ticks\":\"\"}},\"type\":\"scatterpolargl\"}],\"scatterternary\":[{\"marker\":{\"colorbar\":{\"outlinewidth\":0,\"ticks\":\"\"}},\"type\":\"scatterternary\"}],\"surface\":[{\"colorbar\":{\"outlinewidth\":0,\"ticks\":\"\"},\"colorscale\":[[0.0,\"#0d0887\"],[0.1111111111111111,\"#46039f\"],[0.2222222222222222,\"#7201a8\"],[0.3333333333333333,\"#9c179e\"],[0.4444444444444444,\"#bd3786\"],[0.5555555555555556,\"#d8576b\"],[0.6666666666666666,\"#ed7953\"],[0.7777777777777778,\"#fb9f3a\"],[0.8888888888888888,\"#fdca26\"],[1.0,\"#f0f921\"]],\"type\":\"surface\"}],\"table\":[{\"cells\":{\"fill\":{\"color\":\"#EBF0F8\"},\"line\":{\"color\":\"white\"}},\"header\":{\"fill\":{\"color\":\"#C8D4E3\"},\"line\":{\"color\":\"white\"}},\"type\":\"table\"}]},\"layout\":{\"annotationdefaults\":{\"arrowcolor\":\"#2a3f5f\",\"arrowhead\":0,\"arrowwidth\":1},\"autotypenumbers\":\"strict\",\"coloraxis\":{\"colorbar\":{\"outlinewidth\":0,\"ticks\":\"\"}},\"colorscale\":{\"diverging\":[[0,\"#8e0152\"],[0.1,\"#c51b7d\"],[0.2,\"#de77ae\"],[0.3,\"#f1b6da\"],[0.4,\"#fde0ef\"],[0.5,\"#f7f7f7\"],[0.6,\"#e6f5d0\"],[0.7,\"#b8e186\"],[0.8,\"#7fbc41\"],[0.9,\"#4d9221\"],[1,\"#276419\"]],\"sequential\":[[0.0,\"#0d0887\"],[0.1111111111111111,\"#46039f\"],[0.2222222222222222,\"#7201a8\"],[0.3333333333333333,\"#9c179e\"],[0.4444444444444444,\"#bd3786\"],[0.5555555555555556,\"#d8576b\"],[0.6666666666666666,\"#ed7953\"],[0.7777777777777778,\"#fb9f3a\"],[0.8888888888888888,\"#fdca26\"],[1.0,\"#f0f921\"]],\"sequentialminus\":[[0.0,\"#0d0887\"],[0.1111111111111111,\"#46039f\"],[0.2222222222222222,\"#7201a8\"],[0.3333333333333333,\"#9c179e\"],[0.4444444444444444,\"#bd3786\"],[0.5555555555555556,\"#d8576b\"],[0.6666666666666666,\"#ed7953\"],[0.7777777777777778,\"#fb9f3a\"],[0.8888888888888888,\"#fdca26\"],[1.0,\"#f0f921\"]]},\"colorway\":[\"#636efa\",\"#EF553B\",\"#00cc96\",\"#ab63fa\",\"#FFA15A\",\"#19d3f3\",\"#FF6692\",\"#B6E880\",\"#FF97FF\",\"#FECB52\"],\"font\":{\"color\":\"#2a3f5f\"},\"geo\":{\"bgcolor\":\"white\",\"lakecolor\":\"white\",\"landcolor\":\"#E5ECF6\",\"showlakes\":true,\"showland\":true,\"subunitcolor\":\"white\"},\"hoverlabel\":{\"align\":\"left\"},\"hovermode\":\"closest\",\"mapbox\":{\"style\":\"light\"},\"paper_bgcolor\":\"white\",\"plot_bgcolor\":\"#E5ECF6\",\"polar\":{\"angularaxis\":{\"gridcolor\":\"white\",\"linecolor\":\"white\",\"ticks\":\"\"},\"bgcolor\":\"#E5ECF6\",\"radialaxis\":{\"gridcolor\":\"white\",\"linecolor\":\"white\",\"ticks\":\"\"}},\"scene\":{\"xaxis\":{\"backgroundcolor\":\"#E5ECF6\",\"gridcolor\":\"white\",\"gridwidth\":2,\"linecolor\":\"white\",\"showbackground\":true,\"ticks\":\"\",\"zerolinecolor\":\"white\"},\"yaxis\":{\"backgroundcolor\":\"#E5ECF6\",\"gridcolor\":\"white\",\"gridwidth\":2,\"linecolor\":\"white\",\"showbackground\":true,\"ticks\":\"\",\"zerolinecolor\":\"white\"},\"zaxis\":{\"backgroundcolor\":\"#E5ECF6\",\"gridcolor\":\"white\",\"gridwidth\":2,\"linecolor\":\"white\",\"showbackground\":true,\"ticks\":\"\",\"zerolinecolor\":\"white\"}},\"shapedefaults\":{\"line\":{\"color\":\"#2a3f5f\"}},\"ternary\":{\"aaxis\":{\"gridcolor\":\"white\",\"linecolor\":\"white\",\"ticks\":\"\"},\"baxis\":{\"gridcolor\":\"white\",\"linecolor\":\"white\",\"ticks\":\"\"},\"bgcolor\":\"#E5ECF6\",\"caxis\":{\"gridcolor\":\"white\",\"linecolor\":\"white\",\"ticks\":\"\"}},\"title\":{\"x\":0.05},\"xaxis\":{\"automargin\":true,\"gridcolor\":\"white\",\"linecolor\":\"white\",\"ticks\":\"\",\"title\":{\"standoff\":15},\"zerolinecolor\":\"white\",\"zerolinewidth\":2},\"yaxis\":{\"automargin\":true,\"gridcolor\":\"white\",\"linecolor\":\"white\",\"ticks\":\"\",\"title\":{\"standoff\":15},\"zerolinecolor\":\"white\",\"zerolinewidth\":2}}},\"mapbox\":{\"domain\":{\"x\":[0.0,1.0],\"y\":[0.0,1.0]},\"center\":{\"lat\":38.359770491803275,\"lon\":-83.64035122950827},\"zoom\":4,\"style\":\"open-street-map\"},\"coloraxis\":{\"colorbar\":{\"title\":{\"text\":\"Similarity\"}},\"colorscale\":[[0.0,\"#440154\"],[0.1111111111111111,\"#482878\"],[0.2222222222222222,\"#3e4989\"],[0.3333333333333333,\"#31688e\"],[0.4444444444444444,\"#26828e\"],[0.5555555555555556,\"#1f9e89\"],[0.6666666666666666,\"#35b779\"],[0.7777777777777778,\"#6ece58\"],[0.8888888888888888,\"#b5de2b\"],[1.0,\"#fde725\"]]},\"legend\":{\"tracegroupgap\":0,\"itemsizing\":\"constant\"},\"title\":{\"text\":\"Place Atlas\",\"x\":0.5,\"y\":1},\"height\":500,\"margin\":{\"r\":0,\"t\":0,\"l\":0,\"b\":0}},                        {\"responsive\": true}                    ).then(function(){\n",
       "                            \n",
       "var gd = document.getElementById('b65a5950-99e3-4394-a16f-099726fccbac');\n",
       "var x = new MutationObserver(function (mutations, observer) {{\n",
       "        var display = window.getComputedStyle(gd).display;\n",
       "        if (!display || display === 'none') {{\n",
       "            console.log([gd, 'removed!']);\n",
       "            Plotly.purge(gd);\n",
       "            observer.disconnect();\n",
       "        }}\n",
       "}});\n",
       "\n",
       "// Listen for the removal of the full notebook cells\n",
       "var notebookContainer = gd.closest('#notebook-container');\n",
       "if (notebookContainer) {{\n",
       "    x.observe(notebookContainer, {childList: true});\n",
       "}}\n",
       "\n",
       "// Listen for the clearing of the current output cell\n",
       "var outputEl = gd.closest('.output');\n",
       "if (outputEl) {{\n",
       "    x.observe(outputEl, {childList: true});\n",
       "}}\n",
       "\n",
       "                        })                };                });            </script>        </div>"
      ]
     },
     "metadata": {},
     "output_type": "display_data"
    }
   ],
   "source": [
    "\n",
    "import plotly.express as px\n",
    "\n",
    "datas=cosine('american museum',data,inv,vocab,voc,mat)\n",
    "\n",
    "\n",
    "fig = px.scatter_mapbox(datas,title = 'Place Atlas', lat=\"placeAlt\", lon=\"placeLong\", hover_name=\"placeName\", hover_data=[\"placeTags\", \"placeAddress\"],\n",
    "                        color_continuous_scale=px.colors.sequential.Viridis, color=\"Similarity\",size=\"numPeopleVisited\", zoom=4, height=500\n",
    "                       )\n",
    "\n",
    "fig.update_layout(\n",
    "    mapbox_style=\"open-street-map\",\n",
    "    )\n",
    "\n",
    "fig.update_layout(margin={\"r\":0,\"t\":0,\"l\":0,\"b\":0})\n",
    "\n",
    "fig.update(layout={'title': {'x': 0.5, 'y': 1}})\n",
    "\n",
    "fig.show()"
   ]
  },
  {
   "cell_type": "code",
   "execution_count": 100,
   "id": "13cc1b8b",
   "metadata": {
    "scrolled": true
   },
   "outputs": [
    {
     "ename": "ValueError",
     "evalue": "The first argument to the plotly.graph_objs.layout.Legend \nconstructor must be a dict or \nan instance of :class:`plotly.graph_objs.layout.Legend`",
     "output_type": "error",
     "traceback": [
      "\u001b[1;31m---------------------------------------------------------------------------\u001b[0m",
      "\u001b[1;31mValueError\u001b[0m                                Traceback (most recent call last)",
      "Input \u001b[1;32mIn [100]\u001b[0m, in \u001b[0;36m<cell line: 23>\u001b[1;34m()\u001b[0m\n\u001b[0;32m      4\u001b[0m fig \u001b[38;5;241m=\u001b[39m go\u001b[38;5;241m.\u001b[39mFigure(data\u001b[38;5;241m=\u001b[39mgo\u001b[38;5;241m.\u001b[39mScattermapbox(\n\u001b[0;32m      5\u001b[0m         lon \u001b[38;5;241m=\u001b[39m datas[\u001b[38;5;124m'\u001b[39m\u001b[38;5;124mplaceLong\u001b[39m\u001b[38;5;124m'\u001b[39m],\n\u001b[0;32m      6\u001b[0m         lat \u001b[38;5;241m=\u001b[39m datas[\u001b[38;5;124m'\u001b[39m\u001b[38;5;124mplaceAlt\u001b[39m\u001b[38;5;124m'\u001b[39m],\n\u001b[1;32m   (...)\u001b[0m\n\u001b[0;32m     13\u001b[0m                        \n\u001b[0;32m     14\u001b[0m         ))\n\u001b[0;32m     15\u001b[0m fig\u001b[38;5;241m.\u001b[39mupdate_layout(\n\u001b[0;32m     16\u001b[0m         margin\u001b[38;5;241m=\u001b[39m{\u001b[38;5;124m'\u001b[39m\u001b[38;5;124ml\u001b[39m\u001b[38;5;124m'\u001b[39m: \u001b[38;5;241m0\u001b[39m, \u001b[38;5;124m'\u001b[39m\u001b[38;5;124mt\u001b[39m\u001b[38;5;124m'\u001b[39m: \u001b[38;5;241m0\u001b[39m, \u001b[38;5;124m'\u001b[39m\u001b[38;5;124mb\u001b[39m\u001b[38;5;124m'\u001b[39m: \u001b[38;5;241m0\u001b[39m, \u001b[38;5;124m'\u001b[39m\u001b[38;5;124mr\u001b[39m\u001b[38;5;124m'\u001b[39m: \u001b[38;5;241m0\u001b[39m},\n\u001b[0;32m     17\u001b[0m         mapbox\u001b[38;5;241m=\u001b[39m{\n\u001b[1;32m   (...)\u001b[0m\n\u001b[0;32m     20\u001b[0m             \u001b[38;5;124m'\u001b[39m\u001b[38;5;124mcenter\u001b[39m\u001b[38;5;124m'\u001b[39m: {\u001b[38;5;124m'\u001b[39m\u001b[38;5;124mlon\u001b[39m\u001b[38;5;124m'\u001b[39m: \u001b[38;5;241m-\u001b[39m\u001b[38;5;241m20\u001b[39m, \u001b[38;5;124m'\u001b[39m\u001b[38;5;124mlat\u001b[39m\u001b[38;5;124m'\u001b[39m: \u001b[38;5;241m-\u001b[39m\u001b[38;5;241m20\u001b[39m},\n\u001b[0;32m     21\u001b[0m             \u001b[38;5;124m'\u001b[39m\u001b[38;5;124mzoom\u001b[39m\u001b[38;5;124m'\u001b[39m: \u001b[38;5;241m1\u001b[39m})\n\u001b[1;32m---> 23\u001b[0m \u001b[43mgo\u001b[49m\u001b[38;5;241;43m.\u001b[39;49m\u001b[43mlayout\u001b[49m\u001b[38;5;241;43m.\u001b[39;49m\u001b[43mLegend\u001b[49m\u001b[43m(\u001b[49m\u001b[43marg\u001b[49m\u001b[38;5;241;43m=\u001b[39;49m\u001b[43mdatas\u001b[49m\u001b[43m,\u001b[49m\u001b[43m \u001b[49m\u001b[43mbgcolor\u001b[49m\u001b[38;5;241;43m=\u001b[39;49m\u001b[38;5;28;43;01mNone\u001b[39;49;00m\u001b[43m,\u001b[49m\u001b[43m \u001b[49m\u001b[43mbordercolor\u001b[49m\u001b[38;5;241;43m=\u001b[39;49m\u001b[38;5;28;43;01mNone\u001b[39;49;00m\u001b[43m,\u001b[49m\u001b[43m \u001b[49m\u001b[43mborderwidth\u001b[49m\u001b[38;5;241;43m=\u001b[39;49m\u001b[38;5;28;43;01mNone\u001b[39;49;00m\u001b[43m,\u001b[49m\u001b[43m \u001b[49m\n\u001b[0;32m     24\u001b[0m \u001b[43m                                   \u001b[49m\u001b[43mentrywidth\u001b[49m\u001b[38;5;241;43m=\u001b[39;49m\u001b[38;5;28;43;01mNone\u001b[39;49;00m\u001b[43m,\u001b[49m\u001b[43m \u001b[49m\u001b[43mentrywidthmode\u001b[49m\u001b[38;5;241;43m=\u001b[39;49m\u001b[38;5;28;43;01mNone\u001b[39;49;00m\u001b[43m,\u001b[49m\u001b[43m \u001b[49m\u001b[43mfont\u001b[49m\u001b[38;5;241;43m=\u001b[39;49m\u001b[38;5;28;43;01mNone\u001b[39;49;00m\u001b[43m,\u001b[49m\u001b[43m \u001b[49m\u001b[43mgroupclick\u001b[49m\u001b[38;5;241;43m=\u001b[39;49m\u001b[38;5;28;43;01mNone\u001b[39;49;00m\u001b[43m,\u001b[49m\n\u001b[0;32m     25\u001b[0m \u001b[43m                                   \u001b[49m\u001b[43mgrouptitlefont\u001b[49m\u001b[38;5;241;43m=\u001b[39;49m\u001b[38;5;28;43;01mNone\u001b[39;49;00m\u001b[43m,\u001b[49m\u001b[43m \u001b[49m\u001b[43mitemclick\u001b[49m\u001b[38;5;241;43m=\u001b[39;49m\u001b[38;5;28;43;01mNone\u001b[39;49;00m\u001b[43m,\u001b[49m\u001b[43m \u001b[49m\u001b[43mitemdoubleclick\u001b[49m\u001b[38;5;241;43m=\u001b[39;49m\u001b[38;5;28;43;01mNone\u001b[39;49;00m\u001b[43m,\u001b[49m\u001b[43m \u001b[49m\u001b[43mitemsizing\u001b[49m\u001b[38;5;241;43m=\u001b[39;49m\u001b[38;5;28;43;01mNone\u001b[39;49;00m\u001b[43m,\u001b[49m\u001b[43m \u001b[49m\n\u001b[0;32m     26\u001b[0m \u001b[43m                                   \u001b[49m\u001b[43mitemwidth\u001b[49m\u001b[38;5;241;43m=\u001b[39;49m\u001b[38;5;28;43;01mNone\u001b[39;49;00m\u001b[43m,\u001b[49m\u001b[43m \u001b[49m\u001b[43morientation\u001b[49m\u001b[38;5;241;43m=\u001b[39;49m\u001b[38;5;28;43;01mNone\u001b[39;49;00m\u001b[43m,\u001b[49m\u001b[43m \u001b[49m\u001b[43mtitle\u001b[49m\u001b[38;5;241;43m=\u001b[39;49m\u001b[38;5;28;43;01mNone\u001b[39;49;00m\u001b[43m,\u001b[49m\u001b[43m \u001b[49m\u001b[43mtracegroupgap\u001b[49m\u001b[38;5;241;43m=\u001b[39;49m\u001b[38;5;28;43;01mNone\u001b[39;49;00m\u001b[43m,\u001b[49m\u001b[43m \u001b[49m\u001b[43mtraceorder\u001b[49m\u001b[38;5;241;43m=\u001b[39;49m\u001b[38;5;28;43;01mNone\u001b[39;49;00m\u001b[43m,\u001b[49m\u001b[43m \u001b[49m\n\u001b[0;32m     27\u001b[0m \u001b[43m                                   \u001b[49m\u001b[43muirevision\u001b[49m\u001b[38;5;241;43m=\u001b[39;49m\u001b[38;5;28;43;01mNone\u001b[39;49;00m\u001b[43m,\u001b[49m\u001b[43m \u001b[49m\u001b[43mvalign\u001b[49m\u001b[38;5;241;43m=\u001b[39;49m\u001b[38;5;28;43;01mNone\u001b[39;49;00m\u001b[43m,\u001b[49m\u001b[43m \u001b[49m\u001b[43mx\u001b[49m\u001b[38;5;241;43m=\u001b[39;49m\u001b[38;5;28;43;01mNone\u001b[39;49;00m\u001b[43m,\u001b[49m\u001b[43m \u001b[49m\u001b[43mxanchor\u001b[49m\u001b[38;5;241;43m=\u001b[39;49m\u001b[38;5;28;43;01mNone\u001b[39;49;00m\u001b[43m,\u001b[49m\u001b[43m \u001b[49m\u001b[43my\u001b[49m\u001b[38;5;241;43m=\u001b[39;49m\u001b[38;5;28;43;01mNone\u001b[39;49;00m\u001b[43m,\u001b[49m\u001b[43m \u001b[49m\u001b[43myanchor\u001b[49m\u001b[38;5;241;43m=\u001b[39;49m\u001b[38;5;28;43;01mNone\u001b[39;49;00m\u001b[43m)\u001b[49m\n\u001b[0;32m     30\u001b[0m fig\u001b[38;5;241m.\u001b[39mshow()\n",
      "File \u001b[1;32m~\\anaconda3\\lib\\site-packages\\plotly\\graph_objs\\layout\\_legend.py:868\u001b[0m, in \u001b[0;36mLegend.__init__\u001b[1;34m(self, arg, bgcolor, bordercolor, borderwidth, font, groupclick, grouptitlefont, itemclick, itemdoubleclick, itemsizing, itemwidth, orientation, title, tracegroupgap, traceorder, uirevision, valign, x, xanchor, y, yanchor, **kwargs)\u001b[0m\n\u001b[0;32m    866\u001b[0m             arg \u001b[38;5;241m=\u001b[39m _copy\u001b[38;5;241m.\u001b[39mcopy(arg)\n\u001b[0;32m    867\u001b[0m         \u001b[38;5;28;01melse\u001b[39;00m:\n\u001b[1;32m--> 868\u001b[0m             \u001b[38;5;28;01mraise\u001b[39;00m \u001b[38;5;167;01mValueError\u001b[39;00m(\n\u001b[0;32m    869\u001b[0m                 \u001b[38;5;124;03m\"\"\"\\\u001b[39;00m\n\u001b[0;32m    870\u001b[0m \u001b[38;5;124;03mThe first argument to the plotly.graph_objs.layout.Legend \u001b[39;00m\n\u001b[0;32m    871\u001b[0m \u001b[38;5;124;03mconstructor must be a dict or \u001b[39;00m\n\u001b[0;32m    872\u001b[0m \u001b[38;5;124;03man instance of :class:`plotly.graph_objs.layout.Legend`\"\"\"\u001b[39;00m\n\u001b[0;32m    873\u001b[0m             )\n\u001b[0;32m    875\u001b[0m         \u001b[38;5;66;03m# Handle skip_invalid\u001b[39;00m\n\u001b[0;32m    876\u001b[0m         \u001b[38;5;66;03m# -------------------\u001b[39;00m\n\u001b[0;32m    877\u001b[0m         \u001b[38;5;28mself\u001b[39m\u001b[38;5;241m.\u001b[39m_skip_invalid \u001b[38;5;241m=\u001b[39m kwargs\u001b[38;5;241m.\u001b[39mpop(\u001b[38;5;124m\"\u001b[39m\u001b[38;5;124mskip_invalid\u001b[39m\u001b[38;5;124m\"\u001b[39m, \u001b[38;5;28;01mFalse\u001b[39;00m)\n",
      "\u001b[1;31mValueError\u001b[0m: The first argument to the plotly.graph_objs.layout.Legend \nconstructor must be a dict or \nan instance of :class:`plotly.graph_objs.layout.Legend`"
     ]
    }
   ],
   "source": [
    "import plotly.graph_objects as go\n",
    "datas=cosine(query+' first',data,inv,vocab,voc,mat)\n",
    "\n",
    "fig = go.Figure(data=go.Scattermapbox(\n",
    "        lon = datas['placeLong'],\n",
    "        lat = datas['placeAlt'],\n",
    "        text='Name place: '+datas['placeName'],\n",
    "        \n",
    "             \n",
    "        #hover_name=\"placeName\", hover_data=[\"placeTags\", \"placeAddress\"],\n",
    "        #color_continuous_scale=px.colors.sequential.Viridis, \n",
    "        #color=\"Similarity\",size=\"numPeopleVisited\", zoom=4, height=500\n",
    "                       \n",
    "        ))\n",
    "fig.update_layout(\n",
    "        margin={'l': 0, 't': 0, 'b': 0, 'r': 0},\n",
    "        mapbox={\n",
    "            'center': {'lon': 10, 'lat': 10},\n",
    "            'style': \"open-street-map\",\n",
    "            'center': {'lon': -20, 'lat': -20},\n",
    "            'zoom': 1})\n",
    "\n",
    "\n",
    "fig.show()"
   ]
  }
 ],
 "metadata": {
  "kernelspec": {
   "display_name": "Python 3 (ipykernel)",
   "language": "python",
   "name": "python3"
  },
  "language_info": {
   "codemirror_mode": {
    "name": "ipython",
    "version": 3
   },
   "file_extension": ".py",
   "mimetype": "text/x-python",
   "name": "python",
   "nbconvert_exporter": "python",
   "pygments_lexer": "ipython3",
   "version": "3.9.12"
  }
 },
 "nbformat": 4,
 "nbformat_minor": 5
}
